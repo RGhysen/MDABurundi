{
 "cells": [
  {
   "cell_type": "code",
   "execution_count": 1,
   "id": "2b4a5046",
   "metadata": {},
   "outputs": [
    {
     "name": "stdout",
     "output_type": "stream",
     "text": [
      "Collecting pyod\n",
      "  Downloading pyod-1.0.9.tar.gz (149 kB)\n",
      "     -------------------------------------- 150.0/150.0 kB 2.2 MB/s eta 0:00:00\n",
      "  Preparing metadata (setup.py): started\n",
      "  Preparing metadata (setup.py): finished with status 'done'\n",
      "Requirement already satisfied: joblib in c:\\users\\alham\\anaconda3\\lib\\site-packages (from pyod) (1.1.1)\n",
      "Requirement already satisfied: matplotlib in c:\\users\\alham\\anaconda3\\lib\\site-packages (from pyod) (3.7.0)\n",
      "Requirement already satisfied: numpy>=1.19 in c:\\users\\alham\\anaconda3\\lib\\site-packages (from pyod) (1.23.5)\n",
      "Requirement already satisfied: numba>=0.51 in c:\\users\\alham\\anaconda3\\lib\\site-packages (from pyod) (0.56.4)\n",
      "Requirement already satisfied: scipy>=1.5.1 in c:\\users\\alham\\anaconda3\\lib\\site-packages (from pyod) (1.10.0)\n",
      "Requirement already satisfied: scikit_learn>=0.20.0 in c:\\users\\alham\\anaconda3\\lib\\site-packages (from pyod) (1.2.1)\n",
      "Requirement already satisfied: six in c:\\users\\alham\\anaconda3\\lib\\site-packages (from pyod) (1.16.0)\n",
      "Requirement already satisfied: llvmlite<0.40,>=0.39.0dev0 in c:\\users\\alham\\anaconda3\\lib\\site-packages (from numba>=0.51->pyod) (0.39.1)\n",
      "Requirement already satisfied: setuptools in c:\\users\\alham\\anaconda3\\lib\\site-packages (from numba>=0.51->pyod) (65.6.3)\n",
      "Requirement already satisfied: threadpoolctl>=2.0.0 in c:\\users\\alham\\anaconda3\\lib\\site-packages (from scikit_learn>=0.20.0->pyod) (2.2.0)\n",
      "Requirement already satisfied: pillow>=6.2.0 in c:\\users\\alham\\anaconda3\\lib\\site-packages (from matplotlib->pyod) (9.4.0)\n",
      "Requirement already satisfied: packaging>=20.0 in c:\\users\\alham\\anaconda3\\lib\\site-packages (from matplotlib->pyod) (22.0)\n",
      "Requirement already satisfied: fonttools>=4.22.0 in c:\\users\\alham\\anaconda3\\lib\\site-packages (from matplotlib->pyod) (4.25.0)\n",
      "Requirement already satisfied: python-dateutil>=2.7 in c:\\users\\alham\\anaconda3\\lib\\site-packages (from matplotlib->pyod) (2.8.2)\n",
      "Requirement already satisfied: pyparsing>=2.3.1 in c:\\users\\alham\\anaconda3\\lib\\site-packages (from matplotlib->pyod) (3.0.9)\n",
      "Requirement already satisfied: kiwisolver>=1.0.1 in c:\\users\\alham\\anaconda3\\lib\\site-packages (from matplotlib->pyod) (1.4.4)\n",
      "Requirement already satisfied: contourpy>=1.0.1 in c:\\users\\alham\\anaconda3\\lib\\site-packages (from matplotlib->pyod) (1.0.5)\n",
      "Requirement already satisfied: cycler>=0.10 in c:\\users\\alham\\anaconda3\\lib\\site-packages (from matplotlib->pyod) (0.11.0)\n",
      "Building wheels for collected packages: pyod\n",
      "  Building wheel for pyod (setup.py): started\n",
      "  Building wheel for pyod (setup.py): finished with status 'done'\n",
      "  Created wheel for pyod: filename=pyod-1.0.9-py3-none-any.whl size=184163 sha256=14df8a73f358f22318648196d4aab7b637943398407db7800d8e6a40305ef9ba\n",
      "  Stored in directory: c:\\users\\alham\\appdata\\local\\pip\\cache\\wheels\\8a\\a9\\b2\\5db1f8c7dce5b24cee7c7254d162261df6bd85231a51867f1c\n",
      "Successfully built pyod\n",
      "Installing collected packages: pyod\n",
      "Successfully installed pyod-1.0.9\n",
      "Note: you may need to restart the kernel to use updated packages.\n"
     ]
    }
   ],
   "source": [
    "pip install pyod\n"
   ]
  },
  {
   "cell_type": "code",
   "execution_count": 56,
   "id": "bc75eff8",
   "metadata": {},
   "outputs": [],
   "source": [
    "import pandas as pd\n",
    "import numpy as np\n",
    "import matplotlib.pyplot as plt\n",
    "from scipy.stats import median_abs_deviation\n",
    "from pyod.models.mad import MAD\n",
    "from sklearn.neighbors import LocalOutlierFactor\n",
    "import plotly.express as px\n",
    "import plotly.graph_objects as go\n",
    "from plotly.subplots import make_subplots"
   ]
  },
  {
   "cell_type": "code",
   "execution_count": 4,
   "id": "1d94a28c",
   "metadata": {},
   "outputs": [],
   "source": [
    "naamsestraat62 = pd.read_csv(\"C:\\\\Alhamd\\\\Belgium Study Material\\\\Modern Data Analytics\\\\Noise Data\\\\export_42\\\\csv_results_42_255441_mp-03-naamsestraat-62-taste.csv\")\n",
    "calvariekapel = pd.read_csv(\"C:\\\\Alhamd\\\\Belgium Study Material\\\\Modern Data Analytics\\\\Noise Data\\\\export_42\\\\csv_results_42_255442_mp-05-calvariekapel-ku-leuven.csv\")\n",
    "paarkstraat2 = pd.read_csv(\"C:\\\\Alhamd\\\\Belgium Study Material\\\\Modern Data Analytics\\\\Noise Data\\\\export_42\\\\csv_results_42_255443_mp-06-parkstraat-2-la-filosovia.csv\")\n",
    "naamsestraat81 = pd.read_csv(\"C:\\\\Alhamd\\\\Belgium Study Material\\\\Modern Data Analytics\\\\Noise Data\\\\export_42\\\\csv_results_42_255444_mp-07-naamsestraat-81.csv\")\n"
   ]
  },
  {
   "cell_type": "code",
   "execution_count": 5,
   "id": "b55245ab",
   "metadata": {},
   "outputs": [],
   "source": [
    "naamsestraat62_clean = naamsestraat62.dropna()"
   ]
  },
  {
   "cell_type": "code",
   "execution_count": 6,
   "id": "bd32e858",
   "metadata": {},
   "outputs": [],
   "source": [
    "def categorize_columns(df, column_names, labels, categorization_names):\n",
    "    new_df = df.copy()  # Create a copy of the DataFrame\n",
    "    \n",
    "    for column_name, categorization_name in zip(column_names, categorization_names):\n",
    "        new_df[categorization_name] = 'Unknown'  # Create a new column with default values as 'Unknown'\n",
    "\n",
    "        # Calculate quartiles\n",
    "        quartiles = np.percentile(df[column_name], [25, 75])\n",
    "        lower_threshold = quartiles[0]\n",
    "        upper_threshold = quartiles[1]\n",
    "\n",
    "        # Apply categorization based on quartiles\n",
    "        new_df.loc[df[column_name] < lower_threshold, categorization_name] = labels[0]\n",
    "        new_df.loc[(df[column_name] >= lower_threshold) & (df[column_name] <= upper_threshold), categorization_name] = labels[1]\n",
    "        new_df.loc[df[column_name] > upper_threshold, categorization_name] = labels[2]\n",
    "\n",
    "    return new_df"
   ]
  },
  {
   "cell_type": "code",
   "execution_count": 7,
   "id": "782663ab",
   "metadata": {},
   "outputs": [
    {
     "data": {
      "text/html": [
       "<div>\n",
       "<style scoped>\n",
       "    .dataframe tbody tr th:only-of-type {\n",
       "        vertical-align: middle;\n",
       "    }\n",
       "\n",
       "    .dataframe tbody tr th {\n",
       "        vertical-align: top;\n",
       "    }\n",
       "\n",
       "    .dataframe thead th {\n",
       "        text-align: right;\n",
       "    }\n",
       "</style>\n",
       "<table border=\"1\" class=\"dataframe\">\n",
       "  <thead>\n",
       "    <tr style=\"text-align: right;\">\n",
       "      <th></th>\n",
       "      <th>object_id</th>\n",
       "      <th>description</th>\n",
       "      <th>result_timestamp</th>\n",
       "      <th>lamax</th>\n",
       "      <th>lamax_unit</th>\n",
       "      <th>laeq</th>\n",
       "      <th>laeq_unit</th>\n",
       "      <th>lceq</th>\n",
       "      <th>lceq_unit</th>\n",
       "      <th>lcpeak</th>\n",
       "      <th>lcpeak_unit</th>\n",
       "      <th>lamax_category</th>\n",
       "      <th>laeq_category</th>\n",
       "      <th>lceq_category</th>\n",
       "      <th>lcpeak_category</th>\n",
       "    </tr>\n",
       "  </thead>\n",
       "  <tbody>\n",
       "    <tr>\n",
       "      <th>0</th>\n",
       "      <td>255441</td>\n",
       "      <td>MP 03: Naamsestraat 62 Taste</td>\n",
       "      <td>01/01/2022 00:00:00.349</td>\n",
       "      <td>87.6</td>\n",
       "      <td>dB(A)</td>\n",
       "      <td>82.7</td>\n",
       "      <td>dB(A)</td>\n",
       "      <td>83.61</td>\n",
       "      <td>dB(C)</td>\n",
       "      <td>97.17</td>\n",
       "      <td>dB(C)</td>\n",
       "      <td>High</td>\n",
       "      <td>High</td>\n",
       "      <td>High</td>\n",
       "      <td>High</td>\n",
       "    </tr>\n",
       "    <tr>\n",
       "      <th>1</th>\n",
       "      <td>255441</td>\n",
       "      <td>MP 03: Naamsestraat 62 Taste</td>\n",
       "      <td>01/01/2022 00:00:01.349</td>\n",
       "      <td>84.5</td>\n",
       "      <td>dB(A)</td>\n",
       "      <td>83.1</td>\n",
       "      <td>dB(A)</td>\n",
       "      <td>84.42</td>\n",
       "      <td>dB(C)</td>\n",
       "      <td>96.41</td>\n",
       "      <td>dB(C)</td>\n",
       "      <td>High</td>\n",
       "      <td>High</td>\n",
       "      <td>High</td>\n",
       "      <td>High</td>\n",
       "    </tr>\n",
       "    <tr>\n",
       "      <th>2</th>\n",
       "      <td>255441</td>\n",
       "      <td>MP 03: Naamsestraat 62 Taste</td>\n",
       "      <td>01/01/2022 00:00:02.349</td>\n",
       "      <td>84.8</td>\n",
       "      <td>dB(A)</td>\n",
       "      <td>82.7</td>\n",
       "      <td>dB(A)</td>\n",
       "      <td>84.19</td>\n",
       "      <td>dB(C)</td>\n",
       "      <td>96.24</td>\n",
       "      <td>dB(C)</td>\n",
       "      <td>High</td>\n",
       "      <td>High</td>\n",
       "      <td>High</td>\n",
       "      <td>High</td>\n",
       "    </tr>\n",
       "    <tr>\n",
       "      <th>3</th>\n",
       "      <td>255441</td>\n",
       "      <td>MP 03: Naamsestraat 62 Taste</td>\n",
       "      <td>01/01/2022 00:00:03.349</td>\n",
       "      <td>81.9</td>\n",
       "      <td>dB(A)</td>\n",
       "      <td>79.3</td>\n",
       "      <td>dB(A)</td>\n",
       "      <td>81.08</td>\n",
       "      <td>dB(C)</td>\n",
       "      <td>94.03</td>\n",
       "      <td>dB(C)</td>\n",
       "      <td>High</td>\n",
       "      <td>High</td>\n",
       "      <td>High</td>\n",
       "      <td>High</td>\n",
       "    </tr>\n",
       "    <tr>\n",
       "      <th>4</th>\n",
       "      <td>255441</td>\n",
       "      <td>MP 03: Naamsestraat 62 Taste</td>\n",
       "      <td>01/01/2022 00:00:04.349</td>\n",
       "      <td>78.3</td>\n",
       "      <td>dB(A)</td>\n",
       "      <td>76.0</td>\n",
       "      <td>dB(A)</td>\n",
       "      <td>77.12</td>\n",
       "      <td>dB(C)</td>\n",
       "      <td>89.81</td>\n",
       "      <td>dB(C)</td>\n",
       "      <td>High</td>\n",
       "      <td>High</td>\n",
       "      <td>High</td>\n",
       "      <td>High</td>\n",
       "    </tr>\n",
       "  </tbody>\n",
       "</table>\n",
       "</div>"
      ],
      "text/plain": [
       "   object_id                   description         result_timestamp  lamax  \\\n",
       "0     255441  MP 03: Naamsestraat 62 Taste  01/01/2022 00:00:00.349   87.6   \n",
       "1     255441  MP 03: Naamsestraat 62 Taste  01/01/2022 00:00:01.349   84.5   \n",
       "2     255441  MP 03: Naamsestraat 62 Taste  01/01/2022 00:00:02.349   84.8   \n",
       "3     255441  MP 03: Naamsestraat 62 Taste  01/01/2022 00:00:03.349   81.9   \n",
       "4     255441  MP 03: Naamsestraat 62 Taste  01/01/2022 00:00:04.349   78.3   \n",
       "\n",
       "  lamax_unit  laeq laeq_unit   lceq lceq_unit  lcpeak lcpeak_unit  \\\n",
       "0      dB(A)  82.7     dB(A)  83.61     dB(C)   97.17       dB(C)   \n",
       "1      dB(A)  83.1     dB(A)  84.42     dB(C)   96.41       dB(C)   \n",
       "2      dB(A)  82.7     dB(A)  84.19     dB(C)   96.24       dB(C)   \n",
       "3      dB(A)  79.3     dB(A)  81.08     dB(C)   94.03       dB(C)   \n",
       "4      dB(A)  76.0     dB(A)  77.12     dB(C)   89.81       dB(C)   \n",
       "\n",
       "  lamax_category laeq_category lceq_category lcpeak_category  \n",
       "0           High          High          High            High  \n",
       "1           High          High          High            High  \n",
       "2           High          High          High            High  \n",
       "3           High          High          High            High  \n",
       "4           High          High          High            High  "
      ]
     },
     "execution_count": 7,
     "metadata": {},
     "output_type": "execute_result"
    }
   ],
   "source": [
    "column_names = ['lamax', 'laeq', 'lceq', 'lcpeak']\n",
    "labels = ['Low', 'Moderate', 'High']\n",
    "categorization_names = ['lamax_category', 'laeq_category', 'lceq_category', 'lcpeak_category']\n",
    "\n",
    "categorized_naamsestraat62 = categorize_columns(naamsestraat62_clean, column_names, labels, categorization_names)\n",
    "categorized_naamsestraat62.head()"
   ]
  },
  {
   "cell_type": "code",
   "execution_count": 8,
   "id": "6a5e3007",
   "metadata": {},
   "outputs": [],
   "source": [
    "# Assuming your dataset is stored in a pandas DataFrame called 'df'\n",
    "column_names = ['lamax', 'laeq', 'lceq', 'lcpeak']\n",
    "labels = ['Low', 'Moderate', 'High']\n",
    "categorization_names = ['lamax_category', 'laeq_category', 'lceq_category', 'lcpeak_category']\n",
    "\n",
    "categorized_paarkstraat2 = categorize_columns(paarkstraat2, column_names, labels, categorization_names)"
   ]
  },
  {
   "cell_type": "code",
   "execution_count": 9,
   "id": "bbc33927",
   "metadata": {},
   "outputs": [],
   "source": [
    "# Assuming your dataset is stored in a pandas DataFrame called 'df'\n",
    "column_names = ['lamax', 'laeq', 'lceq', 'lcpeak']\n",
    "labels = ['Low', 'Moderate', 'High']\n",
    "categorization_names = ['lamax_category', 'laeq_category', 'lceq_category', 'lcpeak_category']\n",
    "\n",
    "categorized_calveriekapel = categorize_columns(calvariekapel, column_names, labels, categorization_names)"
   ]
  },
  {
   "cell_type": "code",
   "execution_count": 10,
   "id": "ba443037",
   "metadata": {},
   "outputs": [],
   "source": [
    "# Assuming your dataset is stored in a pandas DataFrame called 'df'\n",
    "column_names = ['lamax', 'laeq', 'lceq', 'lcpeak']\n",
    "labels = ['Low', 'Moderate', 'High']\n",
    "categorization_names = ['lamax_category', 'laeq_category', 'lceq_category', 'lcpeak_category']\n",
    "\n",
    "categorized_naamsestraat81 = categorize_columns(naamsestraat81, column_names, labels, categorization_names)"
   ]
  },
  {
   "cell_type": "code",
   "execution_count": 11,
   "id": "e86253e8",
   "metadata": {},
   "outputs": [],
   "source": [
    "def separate_timestamp(df, timestamp_column):\n",
    "    df[timestamp_column] = pd.to_datetime(df[timestamp_column])\n",
    "    df['day'] = df[timestamp_column].dt.day\n",
    "    df['month'] = df[timestamp_column].dt.month\n",
    "    df['week'] = df[timestamp_column].dt.week\n",
    "    df['hour'] = df[timestamp_column].dt.hour\n",
    "    df['minute'] = df[timestamp_column].dt.minute\n",
    "    df['date']= df[timestamp_column].dt.date\n",
    "    return df\n"
   ]
  },
  {
   "cell_type": "code",
   "execution_count": 12,
   "id": "6c951ff5",
   "metadata": {},
   "outputs": [
    {
     "name": "stderr",
     "output_type": "stream",
     "text": [
      "C:\\Users\\alham\\AppData\\Local\\Temp\\ipykernel_21584\\4271267272.py:5: FutureWarning: Series.dt.weekofyear and Series.dt.week have been deprecated. Please use Series.dt.isocalendar().week instead.\n",
      "  df['week'] = df[timestamp_column].dt.week\n",
      "C:\\Users\\alham\\AppData\\Local\\Temp\\ipykernel_21584\\4271267272.py:5: FutureWarning: Series.dt.weekofyear and Series.dt.week have been deprecated. Please use Series.dt.isocalendar().week instead.\n",
      "  df['week'] = df[timestamp_column].dt.week\n",
      "C:\\Users\\alham\\AppData\\Local\\Temp\\ipykernel_21584\\4271267272.py:5: FutureWarning: Series.dt.weekofyear and Series.dt.week have been deprecated. Please use Series.dt.isocalendar().week instead.\n",
      "  df['week'] = df[timestamp_column].dt.week\n",
      "C:\\Users\\alham\\AppData\\Local\\Temp\\ipykernel_21584\\4271267272.py:5: FutureWarning: Series.dt.weekofyear and Series.dt.week have been deprecated. Please use Series.dt.isocalendar().week instead.\n",
      "  df['week'] = df[timestamp_column].dt.week\n"
     ]
    }
   ],
   "source": [
    "categorized_naamsestraat62 = separate_timestamp(categorized_naamsestraat62, 'result_timestamp')\n",
    "categorized_naamsestraat81 = separate_timestamp(categorized_naamsestraat81, 'result_timestamp')\n",
    "categorized_calveriekapel = separate_timestamp(categorized_calveriekapel, 'result_timestamp')\n",
    "categorized_paarkstraat2 = separate_timestamp(categorized_paarkstraat2, 'result_timestamp')"
   ]
  },
  {
   "cell_type": "code",
   "execution_count": 13,
   "id": "5eeab504",
   "metadata": {},
   "outputs": [],
   "source": [
    "merged_datasets_all_locations = df_combined = pd.concat([categorized_naamsestraat62, categorized_naamsestraat81, categorized_calveriekapel, categorized_paarkstraat2], ignore_index=True)"
   ]
  },
  {
   "cell_type": "code",
   "execution_count": 14,
   "id": "41d64e05",
   "metadata": {},
   "outputs": [],
   "source": [
    "def calculate_hourly_averages(df, hour_column, columns_to_average):\n",
    "    # Group the data by hour and calculate the average for desired columns\n",
    "    hourly_avg = df.groupby(hour_column).agg({col: 'mean' for col in columns_to_average}).reset_index()\n",
    "    \n",
    "    # Rename the columns for the hourly averages\n",
    "    hourly_avg.rename(columns={col: 'hourly_' + col + '_avg' for col in columns_to_average}, inplace=True)\n",
    "    \n",
    "    # Merge the hourly averages back into the original dataset\n",
    "    df = pd.merge(df, hourly_avg, on=hour_column, how='left')\n",
    "    \n",
    "    return df"
   ]
  },
  {
   "cell_type": "code",
   "execution_count": 17,
   "id": "c43a8864",
   "metadata": {},
   "outputs": [],
   "source": [
    "# Specify the hour column and columns to average\n",
    "hour_column = 'hour'\n",
    "columns_to_average = ['lamax', 'lcpeak', 'laeq', 'lceq']\n",
    "\n",
    "# Call the function to calculate hourly averages\n",
    "merged_datasets_all_locations_agg_hour = calculate_hourly_averages(merged_datasets_all_locations, hour_column, columns_to_average)"
   ]
  },
  {
   "cell_type": "code",
   "execution_count": 18,
   "id": "136fb2f3",
   "metadata": {},
   "outputs": [
    {
     "data": {
      "text/html": [
       "<div>\n",
       "<style scoped>\n",
       "    .dataframe tbody tr th:only-of-type {\n",
       "        vertical-align: middle;\n",
       "    }\n",
       "\n",
       "    .dataframe tbody tr th {\n",
       "        vertical-align: top;\n",
       "    }\n",
       "\n",
       "    .dataframe thead th {\n",
       "        text-align: right;\n",
       "    }\n",
       "</style>\n",
       "<table border=\"1\" class=\"dataframe\">\n",
       "  <thead>\n",
       "    <tr style=\"text-align: right;\">\n",
       "      <th></th>\n",
       "      <th>object_id</th>\n",
       "      <th>description</th>\n",
       "      <th>result_timestamp</th>\n",
       "      <th>lamax</th>\n",
       "      <th>lamax_unit</th>\n",
       "      <th>laeq</th>\n",
       "      <th>laeq_unit</th>\n",
       "      <th>lceq</th>\n",
       "      <th>lceq_unit</th>\n",
       "      <th>lcpeak</th>\n",
       "      <th>...</th>\n",
       "      <th>day</th>\n",
       "      <th>month</th>\n",
       "      <th>week</th>\n",
       "      <th>hour</th>\n",
       "      <th>minute</th>\n",
       "      <th>date</th>\n",
       "      <th>hourly_lamax_avg</th>\n",
       "      <th>hourly_lcpeak_avg</th>\n",
       "      <th>hourly_laeq_avg</th>\n",
       "      <th>hourly_lceq_avg</th>\n",
       "    </tr>\n",
       "  </thead>\n",
       "  <tbody>\n",
       "    <tr>\n",
       "      <th>0</th>\n",
       "      <td>255441</td>\n",
       "      <td>MP 03: Naamsestraat 62 Taste</td>\n",
       "      <td>2022-01-01 00:00:00.349</td>\n",
       "      <td>87.6</td>\n",
       "      <td>dB(A)</td>\n",
       "      <td>82.7</td>\n",
       "      <td>dB(A)</td>\n",
       "      <td>83.61</td>\n",
       "      <td>dB(C)</td>\n",
       "      <td>97.17</td>\n",
       "      <td>...</td>\n",
       "      <td>1</td>\n",
       "      <td>1</td>\n",
       "      <td>52</td>\n",
       "      <td>0</td>\n",
       "      <td>0</td>\n",
       "      <td>2022-01-01</td>\n",
       "      <td>44.077798</td>\n",
       "      <td>64.959602</td>\n",
       "      <td>42.129398</td>\n",
       "      <td>52.49727</td>\n",
       "    </tr>\n",
       "    <tr>\n",
       "      <th>1</th>\n",
       "      <td>255441</td>\n",
       "      <td>MP 03: Naamsestraat 62 Taste</td>\n",
       "      <td>2022-01-01 00:00:01.349</td>\n",
       "      <td>84.5</td>\n",
       "      <td>dB(A)</td>\n",
       "      <td>83.1</td>\n",
       "      <td>dB(A)</td>\n",
       "      <td>84.42</td>\n",
       "      <td>dB(C)</td>\n",
       "      <td>96.41</td>\n",
       "      <td>...</td>\n",
       "      <td>1</td>\n",
       "      <td>1</td>\n",
       "      <td>52</td>\n",
       "      <td>0</td>\n",
       "      <td>0</td>\n",
       "      <td>2022-01-01</td>\n",
       "      <td>44.077798</td>\n",
       "      <td>64.959602</td>\n",
       "      <td>42.129398</td>\n",
       "      <td>52.49727</td>\n",
       "    </tr>\n",
       "    <tr>\n",
       "      <th>2</th>\n",
       "      <td>255441</td>\n",
       "      <td>MP 03: Naamsestraat 62 Taste</td>\n",
       "      <td>2022-01-01 00:00:02.349</td>\n",
       "      <td>84.8</td>\n",
       "      <td>dB(A)</td>\n",
       "      <td>82.7</td>\n",
       "      <td>dB(A)</td>\n",
       "      <td>84.19</td>\n",
       "      <td>dB(C)</td>\n",
       "      <td>96.24</td>\n",
       "      <td>...</td>\n",
       "      <td>1</td>\n",
       "      <td>1</td>\n",
       "      <td>52</td>\n",
       "      <td>0</td>\n",
       "      <td>0</td>\n",
       "      <td>2022-01-01</td>\n",
       "      <td>44.077798</td>\n",
       "      <td>64.959602</td>\n",
       "      <td>42.129398</td>\n",
       "      <td>52.49727</td>\n",
       "    </tr>\n",
       "    <tr>\n",
       "      <th>3</th>\n",
       "      <td>255441</td>\n",
       "      <td>MP 03: Naamsestraat 62 Taste</td>\n",
       "      <td>2022-01-01 00:00:03.349</td>\n",
       "      <td>81.9</td>\n",
       "      <td>dB(A)</td>\n",
       "      <td>79.3</td>\n",
       "      <td>dB(A)</td>\n",
       "      <td>81.08</td>\n",
       "      <td>dB(C)</td>\n",
       "      <td>94.03</td>\n",
       "      <td>...</td>\n",
       "      <td>1</td>\n",
       "      <td>1</td>\n",
       "      <td>52</td>\n",
       "      <td>0</td>\n",
       "      <td>0</td>\n",
       "      <td>2022-01-01</td>\n",
       "      <td>44.077798</td>\n",
       "      <td>64.959602</td>\n",
       "      <td>42.129398</td>\n",
       "      <td>52.49727</td>\n",
       "    </tr>\n",
       "    <tr>\n",
       "      <th>4</th>\n",
       "      <td>255441</td>\n",
       "      <td>MP 03: Naamsestraat 62 Taste</td>\n",
       "      <td>2022-01-01 00:00:04.349</td>\n",
       "      <td>78.3</td>\n",
       "      <td>dB(A)</td>\n",
       "      <td>76.0</td>\n",
       "      <td>dB(A)</td>\n",
       "      <td>77.12</td>\n",
       "      <td>dB(C)</td>\n",
       "      <td>89.81</td>\n",
       "      <td>...</td>\n",
       "      <td>1</td>\n",
       "      <td>1</td>\n",
       "      <td>52</td>\n",
       "      <td>0</td>\n",
       "      <td>0</td>\n",
       "      <td>2022-01-01</td>\n",
       "      <td>44.077798</td>\n",
       "      <td>64.959602</td>\n",
       "      <td>42.129398</td>\n",
       "      <td>52.49727</td>\n",
       "    </tr>\n",
       "  </tbody>\n",
       "</table>\n",
       "<p>5 rows × 25 columns</p>\n",
       "</div>"
      ],
      "text/plain": [
       "   object_id                   description        result_timestamp  lamax  \\\n",
       "0     255441  MP 03: Naamsestraat 62 Taste 2022-01-01 00:00:00.349   87.6   \n",
       "1     255441  MP 03: Naamsestraat 62 Taste 2022-01-01 00:00:01.349   84.5   \n",
       "2     255441  MP 03: Naamsestraat 62 Taste 2022-01-01 00:00:02.349   84.8   \n",
       "3     255441  MP 03: Naamsestraat 62 Taste 2022-01-01 00:00:03.349   81.9   \n",
       "4     255441  MP 03: Naamsestraat 62 Taste 2022-01-01 00:00:04.349   78.3   \n",
       "\n",
       "  lamax_unit  laeq laeq_unit   lceq lceq_unit  lcpeak  ... day month week  \\\n",
       "0      dB(A)  82.7     dB(A)  83.61     dB(C)   97.17  ...   1     1   52   \n",
       "1      dB(A)  83.1     dB(A)  84.42     dB(C)   96.41  ...   1     1   52   \n",
       "2      dB(A)  82.7     dB(A)  84.19     dB(C)   96.24  ...   1     1   52   \n",
       "3      dB(A)  79.3     dB(A)  81.08     dB(C)   94.03  ...   1     1   52   \n",
       "4      dB(A)  76.0     dB(A)  77.12     dB(C)   89.81  ...   1     1   52   \n",
       "\n",
       "  hour minute        date  hourly_lamax_avg  hourly_lcpeak_avg  \\\n",
       "0    0      0  2022-01-01         44.077798          64.959602   \n",
       "1    0      0  2022-01-01         44.077798          64.959602   \n",
       "2    0      0  2022-01-01         44.077798          64.959602   \n",
       "3    0      0  2022-01-01         44.077798          64.959602   \n",
       "4    0      0  2022-01-01         44.077798          64.959602   \n",
       "\n",
       "   hourly_laeq_avg  hourly_lceq_avg  \n",
       "0        42.129398         52.49727  \n",
       "1        42.129398         52.49727  \n",
       "2        42.129398         52.49727  \n",
       "3        42.129398         52.49727  \n",
       "4        42.129398         52.49727  \n",
       "\n",
       "[5 rows x 25 columns]"
      ]
     },
     "execution_count": 18,
     "metadata": {},
     "output_type": "execute_result"
    }
   ],
   "source": [
    "merged_datasets_all_locations_agg_hour.head()"
   ]
  },
  {
   "cell_type": "code",
   "execution_count": null,
   "id": "473de8be",
   "metadata": {},
   "outputs": [],
   "source": [
    "# Call the function to calculate hourly averages\n",
    "merged_datasets_all_locations_agg_hour = calculate_hourly_averages(merged_datasets_all_locations, hour_column, columns_to_average)"
   ]
  },
  {
   "cell_type": "code",
   "execution_count": 20,
   "id": "8dee0268",
   "metadata": {},
   "outputs": [
    {
     "data": {
      "text/html": [
       "<div>\n",
       "<style scoped>\n",
       "    .dataframe tbody tr th:only-of-type {\n",
       "        vertical-align: middle;\n",
       "    }\n",
       "\n",
       "    .dataframe tbody tr th {\n",
       "        vertical-align: top;\n",
       "    }\n",
       "\n",
       "    .dataframe thead th {\n",
       "        text-align: right;\n",
       "    }\n",
       "</style>\n",
       "<table border=\"1\" class=\"dataframe\">\n",
       "  <thead>\n",
       "    <tr style=\"text-align: right;\">\n",
       "      <th></th>\n",
       "      <th>object_id</th>\n",
       "      <th>description</th>\n",
       "      <th>result_timestamp</th>\n",
       "      <th>lamax</th>\n",
       "      <th>lamax_unit</th>\n",
       "      <th>laeq</th>\n",
       "      <th>laeq_unit</th>\n",
       "      <th>lceq</th>\n",
       "      <th>lceq_unit</th>\n",
       "      <th>lcpeak</th>\n",
       "      <th>...</th>\n",
       "      <th>month</th>\n",
       "      <th>week</th>\n",
       "      <th>hour</th>\n",
       "      <th>minute</th>\n",
       "      <th>date</th>\n",
       "      <th>hourly_lamax_avg</th>\n",
       "      <th>hourly_lcpeak_avg</th>\n",
       "      <th>hourly_laeq_avg</th>\n",
       "      <th>hourly_lceq_avg</th>\n",
       "      <th>location</th>\n",
       "    </tr>\n",
       "  </thead>\n",
       "  <tbody>\n",
       "    <tr>\n",
       "      <th>0</th>\n",
       "      <td>255441</td>\n",
       "      <td>MP 03: Naamsestraat 62 Taste</td>\n",
       "      <td>2022-01-01 00:00:00.349</td>\n",
       "      <td>87.6</td>\n",
       "      <td>dB(A)</td>\n",
       "      <td>82.7</td>\n",
       "      <td>dB(A)</td>\n",
       "      <td>83.61</td>\n",
       "      <td>dB(C)</td>\n",
       "      <td>97.17</td>\n",
       "      <td>...</td>\n",
       "      <td>1</td>\n",
       "      <td>52</td>\n",
       "      <td>0</td>\n",
       "      <td>0</td>\n",
       "      <td>2022-01-01</td>\n",
       "      <td>44.077798</td>\n",
       "      <td>64.959602</td>\n",
       "      <td>42.129398</td>\n",
       "      <td>52.49727</td>\n",
       "      <td>Naamsestraat 62</td>\n",
       "    </tr>\n",
       "    <tr>\n",
       "      <th>1</th>\n",
       "      <td>255441</td>\n",
       "      <td>MP 03: Naamsestraat 62 Taste</td>\n",
       "      <td>2022-01-01 00:00:01.349</td>\n",
       "      <td>84.5</td>\n",
       "      <td>dB(A)</td>\n",
       "      <td>83.1</td>\n",
       "      <td>dB(A)</td>\n",
       "      <td>84.42</td>\n",
       "      <td>dB(C)</td>\n",
       "      <td>96.41</td>\n",
       "      <td>...</td>\n",
       "      <td>1</td>\n",
       "      <td>52</td>\n",
       "      <td>0</td>\n",
       "      <td>0</td>\n",
       "      <td>2022-01-01</td>\n",
       "      <td>44.077798</td>\n",
       "      <td>64.959602</td>\n",
       "      <td>42.129398</td>\n",
       "      <td>52.49727</td>\n",
       "      <td>Naamsestraat 62</td>\n",
       "    </tr>\n",
       "    <tr>\n",
       "      <th>2</th>\n",
       "      <td>255441</td>\n",
       "      <td>MP 03: Naamsestraat 62 Taste</td>\n",
       "      <td>2022-01-01 00:00:02.349</td>\n",
       "      <td>84.8</td>\n",
       "      <td>dB(A)</td>\n",
       "      <td>82.7</td>\n",
       "      <td>dB(A)</td>\n",
       "      <td>84.19</td>\n",
       "      <td>dB(C)</td>\n",
       "      <td>96.24</td>\n",
       "      <td>...</td>\n",
       "      <td>1</td>\n",
       "      <td>52</td>\n",
       "      <td>0</td>\n",
       "      <td>0</td>\n",
       "      <td>2022-01-01</td>\n",
       "      <td>44.077798</td>\n",
       "      <td>64.959602</td>\n",
       "      <td>42.129398</td>\n",
       "      <td>52.49727</td>\n",
       "      <td>Naamsestraat 62</td>\n",
       "    </tr>\n",
       "    <tr>\n",
       "      <th>3</th>\n",
       "      <td>255441</td>\n",
       "      <td>MP 03: Naamsestraat 62 Taste</td>\n",
       "      <td>2022-01-01 00:00:03.349</td>\n",
       "      <td>81.9</td>\n",
       "      <td>dB(A)</td>\n",
       "      <td>79.3</td>\n",
       "      <td>dB(A)</td>\n",
       "      <td>81.08</td>\n",
       "      <td>dB(C)</td>\n",
       "      <td>94.03</td>\n",
       "      <td>...</td>\n",
       "      <td>1</td>\n",
       "      <td>52</td>\n",
       "      <td>0</td>\n",
       "      <td>0</td>\n",
       "      <td>2022-01-01</td>\n",
       "      <td>44.077798</td>\n",
       "      <td>64.959602</td>\n",
       "      <td>42.129398</td>\n",
       "      <td>52.49727</td>\n",
       "      <td>Naamsestraat 62</td>\n",
       "    </tr>\n",
       "    <tr>\n",
       "      <th>4</th>\n",
       "      <td>255441</td>\n",
       "      <td>MP 03: Naamsestraat 62 Taste</td>\n",
       "      <td>2022-01-01 00:00:04.349</td>\n",
       "      <td>78.3</td>\n",
       "      <td>dB(A)</td>\n",
       "      <td>76.0</td>\n",
       "      <td>dB(A)</td>\n",
       "      <td>77.12</td>\n",
       "      <td>dB(C)</td>\n",
       "      <td>89.81</td>\n",
       "      <td>...</td>\n",
       "      <td>1</td>\n",
       "      <td>52</td>\n",
       "      <td>0</td>\n",
       "      <td>0</td>\n",
       "      <td>2022-01-01</td>\n",
       "      <td>44.077798</td>\n",
       "      <td>64.959602</td>\n",
       "      <td>42.129398</td>\n",
       "      <td>52.49727</td>\n",
       "      <td>Naamsestraat 62</td>\n",
       "    </tr>\n",
       "  </tbody>\n",
       "</table>\n",
       "<p>5 rows × 26 columns</p>\n",
       "</div>"
      ],
      "text/plain": [
       "   object_id                   description        result_timestamp  lamax  \\\n",
       "0     255441  MP 03: Naamsestraat 62 Taste 2022-01-01 00:00:00.349   87.6   \n",
       "1     255441  MP 03: Naamsestraat 62 Taste 2022-01-01 00:00:01.349   84.5   \n",
       "2     255441  MP 03: Naamsestraat 62 Taste 2022-01-01 00:00:02.349   84.8   \n",
       "3     255441  MP 03: Naamsestraat 62 Taste 2022-01-01 00:00:03.349   81.9   \n",
       "4     255441  MP 03: Naamsestraat 62 Taste 2022-01-01 00:00:04.349   78.3   \n",
       "\n",
       "  lamax_unit  laeq laeq_unit   lceq lceq_unit  lcpeak  ... month week hour  \\\n",
       "0      dB(A)  82.7     dB(A)  83.61     dB(C)   97.17  ...     1   52    0   \n",
       "1      dB(A)  83.1     dB(A)  84.42     dB(C)   96.41  ...     1   52    0   \n",
       "2      dB(A)  82.7     dB(A)  84.19     dB(C)   96.24  ...     1   52    0   \n",
       "3      dB(A)  79.3     dB(A)  81.08     dB(C)   94.03  ...     1   52    0   \n",
       "4      dB(A)  76.0     dB(A)  77.12     dB(C)   89.81  ...     1   52    0   \n",
       "\n",
       "  minute        date  hourly_lamax_avg  hourly_lcpeak_avg  hourly_laeq_avg  \\\n",
       "0      0  2022-01-01         44.077798          64.959602        42.129398   \n",
       "1      0  2022-01-01         44.077798          64.959602        42.129398   \n",
       "2      0  2022-01-01         44.077798          64.959602        42.129398   \n",
       "3      0  2022-01-01         44.077798          64.959602        42.129398   \n",
       "4      0  2022-01-01         44.077798          64.959602        42.129398   \n",
       "\n",
       "   hourly_lceq_avg         location  \n",
       "0         52.49727  Naamsestraat 62  \n",
       "1         52.49727  Naamsestraat 62  \n",
       "2         52.49727  Naamsestraat 62  \n",
       "3         52.49727  Naamsestraat 62  \n",
       "4         52.49727  Naamsestraat 62  \n",
       "\n",
       "[5 rows x 26 columns]"
      ]
     },
     "execution_count": 20,
     "metadata": {},
     "output_type": "execute_result"
    }
   ],
   "source": [
    "merged_datasets_all_locations_agg_hour.head()"
   ]
  },
  {
   "cell_type": "code",
   "execution_count": 19,
   "id": "b86f13ea",
   "metadata": {},
   "outputs": [],
   "source": [
    "merged_datasets_all_locations_agg_hour['location'] = ''\n",
    "\n",
    "# Apply the conditions and update 'location' accordingly\n",
    "merged_datasets_all_locations_agg_hour.loc[merged_datasets_all_locations_agg_hour['description'] == 'MP 03: Naamsestraat 62 Taste', 'location'] = 'Naamsestraat 62'\n",
    "merged_datasets_all_locations_agg_hour.loc[merged_datasets_all_locations_agg_hour['description'] == 'MP 07: Naamsestraat 81', 'location'] = 'Naamsestraat 81'\n",
    "merged_datasets_all_locations_agg_hour.loc[merged_datasets_all_locations_agg_hour['description'] == 'MP 05: Calvariekapel KU Leuven', 'location'] = 'Calveriekapel'\n",
    "merged_datasets_all_locations_agg_hour.loc[merged_datasets_all_locations_agg_hour['description'] == 'MP 06: Parkstraat 2 La Filosovia', 'location'] = 'Parkstraat 2'\n"
   ]
  },
  {
   "cell_type": "code",
   "execution_count": 21,
   "id": "a8ac27e3",
   "metadata": {},
   "outputs": [],
   "source": [
    "coordinates = {\n",
    "    'Naamsestraat 62': (50.875809, 4.700110),\n",
    "    'Calveriekapel': (50.8745267, 4.6999168),\n",
    "    'Parkstraat 2': (50.8741177, 4.7000138),\n",
    "    'Naamsestraat 81': (50.8738250, 4.7001178)\n",
    "}\n",
    "\n",
    "merged_datasets_all_locations_agg_hour['lat'] = merged_datasets_all_locations_agg_hour['location'].map(lambda x: coordinates[x][0])\n",
    "merged_datasets_all_locations_agg_hour['long'] = merged_datasets_all_locations_agg_hour['location'].map(lambda x: coordinates[x][1])"
   ]
  },
  {
   "cell_type": "code",
   "execution_count": 22,
   "id": "49949b71",
   "metadata": {},
   "outputs": [],
   "source": [
    "location_data = {\n",
    "    'Location': ['Naamsestraat 62', 'Calvariekapel', 'Parkstraat 2', 'Naamsestraat 81']\n",
    "}"
   ]
  },
  {
   "cell_type": "code",
   "execution_count": 23,
   "id": "c31b3d6f",
   "metadata": {},
   "outputs": [
    {
     "name": "stderr",
     "output_type": "stream",
     "text": [
      "C:\\Users\\alham\\AppData\\Local\\Temp\\ipykernel_21584\\1031569789.py:4: FutureWarning: Comparison of Timestamp with datetime.date is deprecated in order to match the standard library behavior. In a future version these will be considered non-comparable. Use 'ts == pd.Timestamp(date)' or 'ts.date() == date' instead.\n",
      "  filtered_data = merged_datasets_all_locations_agg_hour[(merged_datasets_all_locations_agg_hour['date'] >= start_date) & (merged_datasets_all_locations_agg_hour['date'] <= end_date)]\n"
     ]
    }
   ],
   "source": [
    "# Filter the data for a specific range of 30 days\n",
    "#start_date = merged_datasets_all_locations_agg_hour['date'].min()\n",
    "#end_date = start_date + pd.DateOffset(days=29)  # 30 days from the start date\n",
    "#filtered_data = merged_datasets_all_locations_agg_hour[(merged_datasets_all_locations_agg_hour['date'] >= start_date) & (merged_datasets_all_locations_agg_hour['date'] <= end_date)]\n"
   ]
  },
  {
   "cell_type": "code",
   "execution_count": 40,
   "id": "d325b64b",
   "metadata": {},
   "outputs": [],
   "source": [
    "# Aggregate the data by location and hour, taking the average of 'hourly_lamax_avg'\n",
    "aggregated_data = merged_datasets_all_locations_agg_hour.groupby(['location','date', 'hour', 'long', 'lat']).agg({'hourly_lamax_avg': 'mean'}).reset_index()"
   ]
  },
  {
   "cell_type": "code",
   "execution_count": 41,
   "id": "8e065096",
   "metadata": {},
   "outputs": [],
   "source": [
    "aggregated_data_df = pd.DataFrame(aggregated_data)"
   ]
  },
  {
   "cell_type": "code",
   "execution_count": 42,
   "id": "26b2ec92",
   "metadata": {},
   "outputs": [
    {
     "data": {
      "text/html": [
       "<div>\n",
       "<style scoped>\n",
       "    .dataframe tbody tr th:only-of-type {\n",
       "        vertical-align: middle;\n",
       "    }\n",
       "\n",
       "    .dataframe tbody tr th {\n",
       "        vertical-align: top;\n",
       "    }\n",
       "\n",
       "    .dataframe thead th {\n",
       "        text-align: right;\n",
       "    }\n",
       "</style>\n",
       "<table border=\"1\" class=\"dataframe\">\n",
       "  <thead>\n",
       "    <tr style=\"text-align: right;\">\n",
       "      <th></th>\n",
       "      <th>location</th>\n",
       "      <th>date</th>\n",
       "      <th>hour</th>\n",
       "      <th>long</th>\n",
       "      <th>lat</th>\n",
       "      <th>hourly_lamax_avg</th>\n",
       "    </tr>\n",
       "  </thead>\n",
       "  <tbody>\n",
       "    <tr>\n",
       "      <th>2959</th>\n",
       "      <td>Parkstraat 2</td>\n",
       "      <td>2022-12-01</td>\n",
       "      <td>19</td>\n",
       "      <td>4.700014</td>\n",
       "      <td>50.874118</td>\n",
       "      <td>55.951113</td>\n",
       "    </tr>\n",
       "    <tr>\n",
       "      <th>2960</th>\n",
       "      <td>Parkstraat 2</td>\n",
       "      <td>2022-12-01</td>\n",
       "      <td>20</td>\n",
       "      <td>4.700014</td>\n",
       "      <td>50.874118</td>\n",
       "      <td>54.874266</td>\n",
       "    </tr>\n",
       "    <tr>\n",
       "      <th>2961</th>\n",
       "      <td>Parkstraat 2</td>\n",
       "      <td>2022-12-01</td>\n",
       "      <td>21</td>\n",
       "      <td>4.700014</td>\n",
       "      <td>50.874118</td>\n",
       "      <td>52.910926</td>\n",
       "    </tr>\n",
       "    <tr>\n",
       "      <th>2962</th>\n",
       "      <td>Parkstraat 2</td>\n",
       "      <td>2022-12-01</td>\n",
       "      <td>22</td>\n",
       "      <td>4.700014</td>\n",
       "      <td>50.874118</td>\n",
       "      <td>51.151528</td>\n",
       "    </tr>\n",
       "    <tr>\n",
       "      <th>2963</th>\n",
       "      <td>Parkstraat 2</td>\n",
       "      <td>2022-12-01</td>\n",
       "      <td>23</td>\n",
       "      <td>4.700014</td>\n",
       "      <td>50.874118</td>\n",
       "      <td>48.314696</td>\n",
       "    </tr>\n",
       "  </tbody>\n",
       "</table>\n",
       "</div>"
      ],
      "text/plain": [
       "          location        date  hour      long        lat  hourly_lamax_avg\n",
       "2959  Parkstraat 2  2022-12-01    19  4.700014  50.874118         55.951113\n",
       "2960  Parkstraat 2  2022-12-01    20  4.700014  50.874118         54.874266\n",
       "2961  Parkstraat 2  2022-12-01    21  4.700014  50.874118         52.910926\n",
       "2962  Parkstraat 2  2022-12-01    22  4.700014  50.874118         51.151528\n",
       "2963  Parkstraat 2  2022-12-01    23  4.700014  50.874118         48.314696"
      ]
     },
     "execution_count": 42,
     "metadata": {},
     "output_type": "execute_result"
    }
   ],
   "source": [
    "aggregated_data_df.tail()"
   ]
  },
  {
   "cell_type": "code",
   "execution_count": 43,
   "id": "2ab79d4e",
   "metadata": {},
   "outputs": [
    {
     "data": {
      "text/html": [
       "<div>\n",
       "<style scoped>\n",
       "    .dataframe tbody tr th:only-of-type {\n",
       "        vertical-align: middle;\n",
       "    }\n",
       "\n",
       "    .dataframe tbody tr th {\n",
       "        vertical-align: top;\n",
       "    }\n",
       "\n",
       "    .dataframe thead th {\n",
       "        text-align: right;\n",
       "    }\n",
       "</style>\n",
       "<table border=\"1\" class=\"dataframe\">\n",
       "  <thead>\n",
       "    <tr style=\"text-align: right;\">\n",
       "      <th></th>\n",
       "      <th>location</th>\n",
       "      <th>date</th>\n",
       "      <th>hour</th>\n",
       "      <th>long</th>\n",
       "      <th>lat</th>\n",
       "      <th>hourly_lamax_avg</th>\n",
       "    </tr>\n",
       "  </thead>\n",
       "  <tbody>\n",
       "    <tr>\n",
       "      <th>0</th>\n",
       "      <td>Calveriekapel</td>\n",
       "      <td>2022-01-01</td>\n",
       "      <td>0</td>\n",
       "      <td>4.699917</td>\n",
       "      <td>50.874527</td>\n",
       "      <td>44.077798</td>\n",
       "    </tr>\n",
       "    <tr>\n",
       "      <th>1</th>\n",
       "      <td>Calveriekapel</td>\n",
       "      <td>2022-01-01</td>\n",
       "      <td>1</td>\n",
       "      <td>4.699917</td>\n",
       "      <td>50.874527</td>\n",
       "      <td>41.325689</td>\n",
       "    </tr>\n",
       "    <tr>\n",
       "      <th>2</th>\n",
       "      <td>Calveriekapel</td>\n",
       "      <td>2022-01-01</td>\n",
       "      <td>2</td>\n",
       "      <td>4.699917</td>\n",
       "      <td>50.874527</td>\n",
       "      <td>40.165396</td>\n",
       "    </tr>\n",
       "    <tr>\n",
       "      <th>3</th>\n",
       "      <td>Calveriekapel</td>\n",
       "      <td>2022-01-01</td>\n",
       "      <td>3</td>\n",
       "      <td>4.699917</td>\n",
       "      <td>50.874527</td>\n",
       "      <td>39.346337</td>\n",
       "    </tr>\n",
       "    <tr>\n",
       "      <th>4</th>\n",
       "      <td>Calveriekapel</td>\n",
       "      <td>2022-01-01</td>\n",
       "      <td>4</td>\n",
       "      <td>4.699917</td>\n",
       "      <td>50.874527</td>\n",
       "      <td>39.606143</td>\n",
       "    </tr>\n",
       "  </tbody>\n",
       "</table>\n",
       "</div>"
      ],
      "text/plain": [
       "        location        date  hour      long        lat  hourly_lamax_avg\n",
       "0  Calveriekapel  2022-01-01     0  4.699917  50.874527         44.077798\n",
       "1  Calveriekapel  2022-01-01     1  4.699917  50.874527         41.325689\n",
       "2  Calveriekapel  2022-01-01     2  4.699917  50.874527         40.165396\n",
       "3  Calveriekapel  2022-01-01     3  4.699917  50.874527         39.346337\n",
       "4  Calveriekapel  2022-01-01     4  4.699917  50.874527         39.606143"
      ]
     },
     "execution_count": 43,
     "metadata": {},
     "output_type": "execute_result"
    }
   ],
   "source": [
    "aggregated_data_df.head()"
   ]
  },
  {
   "cell_type": "code",
   "execution_count": 83,
   "id": "b897d2c4",
   "metadata": {},
   "outputs": [
    {
     "data": {
      "text/plain": [
       "2232    44.077798\n",
       "Name: hourly_lamax_avg, dtype: float64"
      ]
     },
     "execution_count": 83,
     "metadata": {},
     "output_type": "execute_result"
    }
   ],
   "source": [
    "import datetime\n",
    "selected_naamsestraat62 = aggregated_data_df[aggregated_data_df['location'] == 'Naamsestraat 62']\n",
    "selected_naamsestraat62_date = selected_naamsestraat62[selected_naamsestraat62['date'] == datetime.date(2022, 1, 1)]\n",
    "selected_naamsestraat62_hour = selected_naamsestraat62_date[selected_naamsestraat62_date['hour'] == 0] \n",
    "\n",
    "\n",
    "selected_naamsestraat81 = aggregated_data_df[aggregated_data_df['location'] == 'Naamsestraat 81']\n",
    "selected_naamsestraat81_date = selected_naamsestraat81[selected_naamsestraat81['date'] == datetime.date(2022, 1, 1)]\n",
    "selected_naamsestraat81_hour = selected_naamsestraat81_date[selected_naamsestraat81_date['hour'] == 0] \n",
    "\n",
    "\n",
    "selected_calveriekapel = aggregated_data_df[aggregated_data_df['location'] == 'Calveriekapel']\n",
    "selected_calveriekapel_date = selected_calveriekapel[selected_calveriekapel['date'] == datetime.date(2022, 1, 1)]\n",
    "selected_calveriekapel_hour = selected_calveriekapel_date[selected_calveriekapel_date['hour'] == 0] \n",
    "\n",
    "\n",
    "selected_parkstraat2 = aggregated_data_df[aggregated_data_df['location'] == 'Parkstraat 2']\n",
    "selected_parkstraat2_date = selected_parkstraat2[selected_parkstraat2['date'] == datetime.date(2022, 1, 1)]\n",
    "selected_parkstraat2_hour = selected_parkstraat2_date[selected_parkstraat2_date['hour'] == 0] \n",
    "\n",
    "selected_parkstraat2_hour.hourly_lamax_avg"
   ]
  },
  {
   "cell_type": "code",
   "execution_count": 92,
   "id": "73ebf0d1",
   "metadata": {
    "scrolled": true
   },
   "outputs": [
    {
     "data": {
      "application/vnd.plotly.v1+json": {
       "config": {
        "plotlyServerURL": "https://plot.ly"
       },
       "data": [
        {
         "lat": [
          50.875809
         ],
         "lon": [
          4.70011
         ],
         "radius": 10,
         "type": "densitymapbox",
         "z": [
          44.07779782130158
         ]
        },
        {
         "hovertemplate": "Naamsestraat 62",
         "lat": [
          50.875809
         ],
         "lon": [
          4.70011
         ],
         "marker": {
          "color": "red",
          "opacity": 0.7,
          "size": 5
         },
         "mode": "markers",
         "showlegend": false,
         "type": "scattermapbox"
        },
        {
         "lat": [
          50.873825
         ],
         "lon": [
          4.7001178
         ],
         "radius": 10,
         "type": "densitymapbox",
         "z": [
          44.07779782130158
         ]
        },
        {
         "hovertemplate": "Naamsestraat 81",
         "lat": [
          50.873825
         ],
         "lon": [
          4.7001178
         ],
         "marker": {
          "color": "red",
          "opacity": 0.7,
          "size": 5
         },
         "mode": "markers",
         "showlegend": false,
         "type": "scattermapbox"
        },
        {
         "lat": [
          50.8745267
         ],
         "lon": [
          4.6999168
         ],
         "radius": 10,
         "type": "densitymapbox",
         "z": [
          44.07779782130158
         ]
        },
        {
         "hovertemplate": "Calveriekapel",
         "lat": [
          50.8745267
         ],
         "lon": [
          4.6999168
         ],
         "marker": {
          "color": "red",
          "opacity": 0.7,
          "size": 5
         },
         "mode": "markers",
         "showlegend": false,
         "type": "scattermapbox"
        },
        {
         "lat": [
          50.8741177
         ],
         "lon": [
          4.7000138
         ],
         "radius": 10,
         "type": "densitymapbox",
         "z": [
          44.07779782130158
         ]
        },
        {
         "hovertemplate": "Parkstraat 2",
         "lat": [
          50.8741177
         ],
         "lon": [
          4.7000138
         ],
         "marker": {
          "color": "red",
          "opacity": 0.7,
          "size": 5
         },
         "mode": "markers",
         "showlegend": false,
         "type": "scattermapbox"
        }
       ],
       "layout": {
        "mapbox": {
         "center": {
          "lat": 50.87457142955465,
          "lon": 4.700039704453442
         },
         "style": "stamen-terrain",
         "zoom": 15
        },
        "margin": {
         "b": 0,
         "l": 0,
         "r": 0,
         "t": 0
        },
        "template": {
         "data": {
          "bar": [
           {
            "error_x": {
             "color": "#2a3f5f"
            },
            "error_y": {
             "color": "#2a3f5f"
            },
            "marker": {
             "line": {
              "color": "#E5ECF6",
              "width": 0.5
             },
             "pattern": {
              "fillmode": "overlay",
              "size": 10,
              "solidity": 0.2
             }
            },
            "type": "bar"
           }
          ],
          "barpolar": [
           {
            "marker": {
             "line": {
              "color": "#E5ECF6",
              "width": 0.5
             },
             "pattern": {
              "fillmode": "overlay",
              "size": 10,
              "solidity": 0.2
             }
            },
            "type": "barpolar"
           }
          ],
          "carpet": [
           {
            "aaxis": {
             "endlinecolor": "#2a3f5f",
             "gridcolor": "white",
             "linecolor": "white",
             "minorgridcolor": "white",
             "startlinecolor": "#2a3f5f"
            },
            "baxis": {
             "endlinecolor": "#2a3f5f",
             "gridcolor": "white",
             "linecolor": "white",
             "minorgridcolor": "white",
             "startlinecolor": "#2a3f5f"
            },
            "type": "carpet"
           }
          ],
          "choropleth": [
           {
            "colorbar": {
             "outlinewidth": 0,
             "ticks": ""
            },
            "type": "choropleth"
           }
          ],
          "contour": [
           {
            "colorbar": {
             "outlinewidth": 0,
             "ticks": ""
            },
            "colorscale": [
             [
              0,
              "#0d0887"
             ],
             [
              0.1111111111111111,
              "#46039f"
             ],
             [
              0.2222222222222222,
              "#7201a8"
             ],
             [
              0.3333333333333333,
              "#9c179e"
             ],
             [
              0.4444444444444444,
              "#bd3786"
             ],
             [
              0.5555555555555556,
              "#d8576b"
             ],
             [
              0.6666666666666666,
              "#ed7953"
             ],
             [
              0.7777777777777778,
              "#fb9f3a"
             ],
             [
              0.8888888888888888,
              "#fdca26"
             ],
             [
              1,
              "#f0f921"
             ]
            ],
            "type": "contour"
           }
          ],
          "contourcarpet": [
           {
            "colorbar": {
             "outlinewidth": 0,
             "ticks": ""
            },
            "type": "contourcarpet"
           }
          ],
          "heatmap": [
           {
            "colorbar": {
             "outlinewidth": 0,
             "ticks": ""
            },
            "colorscale": [
             [
              0,
              "#0d0887"
             ],
             [
              0.1111111111111111,
              "#46039f"
             ],
             [
              0.2222222222222222,
              "#7201a8"
             ],
             [
              0.3333333333333333,
              "#9c179e"
             ],
             [
              0.4444444444444444,
              "#bd3786"
             ],
             [
              0.5555555555555556,
              "#d8576b"
             ],
             [
              0.6666666666666666,
              "#ed7953"
             ],
             [
              0.7777777777777778,
              "#fb9f3a"
             ],
             [
              0.8888888888888888,
              "#fdca26"
             ],
             [
              1,
              "#f0f921"
             ]
            ],
            "type": "heatmap"
           }
          ],
          "heatmapgl": [
           {
            "colorbar": {
             "outlinewidth": 0,
             "ticks": ""
            },
            "colorscale": [
             [
              0,
              "#0d0887"
             ],
             [
              0.1111111111111111,
              "#46039f"
             ],
             [
              0.2222222222222222,
              "#7201a8"
             ],
             [
              0.3333333333333333,
              "#9c179e"
             ],
             [
              0.4444444444444444,
              "#bd3786"
             ],
             [
              0.5555555555555556,
              "#d8576b"
             ],
             [
              0.6666666666666666,
              "#ed7953"
             ],
             [
              0.7777777777777778,
              "#fb9f3a"
             ],
             [
              0.8888888888888888,
              "#fdca26"
             ],
             [
              1,
              "#f0f921"
             ]
            ],
            "type": "heatmapgl"
           }
          ],
          "histogram": [
           {
            "marker": {
             "pattern": {
              "fillmode": "overlay",
              "size": 10,
              "solidity": 0.2
             }
            },
            "type": "histogram"
           }
          ],
          "histogram2d": [
           {
            "colorbar": {
             "outlinewidth": 0,
             "ticks": ""
            },
            "colorscale": [
             [
              0,
              "#0d0887"
             ],
             [
              0.1111111111111111,
              "#46039f"
             ],
             [
              0.2222222222222222,
              "#7201a8"
             ],
             [
              0.3333333333333333,
              "#9c179e"
             ],
             [
              0.4444444444444444,
              "#bd3786"
             ],
             [
              0.5555555555555556,
              "#d8576b"
             ],
             [
              0.6666666666666666,
              "#ed7953"
             ],
             [
              0.7777777777777778,
              "#fb9f3a"
             ],
             [
              0.8888888888888888,
              "#fdca26"
             ],
             [
              1,
              "#f0f921"
             ]
            ],
            "type": "histogram2d"
           }
          ],
          "histogram2dcontour": [
           {
            "colorbar": {
             "outlinewidth": 0,
             "ticks": ""
            },
            "colorscale": [
             [
              0,
              "#0d0887"
             ],
             [
              0.1111111111111111,
              "#46039f"
             ],
             [
              0.2222222222222222,
              "#7201a8"
             ],
             [
              0.3333333333333333,
              "#9c179e"
             ],
             [
              0.4444444444444444,
              "#bd3786"
             ],
             [
              0.5555555555555556,
              "#d8576b"
             ],
             [
              0.6666666666666666,
              "#ed7953"
             ],
             [
              0.7777777777777778,
              "#fb9f3a"
             ],
             [
              0.8888888888888888,
              "#fdca26"
             ],
             [
              1,
              "#f0f921"
             ]
            ],
            "type": "histogram2dcontour"
           }
          ],
          "mesh3d": [
           {
            "colorbar": {
             "outlinewidth": 0,
             "ticks": ""
            },
            "type": "mesh3d"
           }
          ],
          "parcoords": [
           {
            "line": {
             "colorbar": {
              "outlinewidth": 0,
              "ticks": ""
             }
            },
            "type": "parcoords"
           }
          ],
          "pie": [
           {
            "automargin": true,
            "type": "pie"
           }
          ],
          "scatter": [
           {
            "fillpattern": {
             "fillmode": "overlay",
             "size": 10,
             "solidity": 0.2
            },
            "type": "scatter"
           }
          ],
          "scatter3d": [
           {
            "line": {
             "colorbar": {
              "outlinewidth": 0,
              "ticks": ""
             }
            },
            "marker": {
             "colorbar": {
              "outlinewidth": 0,
              "ticks": ""
             }
            },
            "type": "scatter3d"
           }
          ],
          "scattercarpet": [
           {
            "marker": {
             "colorbar": {
              "outlinewidth": 0,
              "ticks": ""
             }
            },
            "type": "scattercarpet"
           }
          ],
          "scattergeo": [
           {
            "marker": {
             "colorbar": {
              "outlinewidth": 0,
              "ticks": ""
             }
            },
            "type": "scattergeo"
           }
          ],
          "scattergl": [
           {
            "marker": {
             "colorbar": {
              "outlinewidth": 0,
              "ticks": ""
             }
            },
            "type": "scattergl"
           }
          ],
          "scattermapbox": [
           {
            "marker": {
             "colorbar": {
              "outlinewidth": 0,
              "ticks": ""
             }
            },
            "type": "scattermapbox"
           }
          ],
          "scatterpolar": [
           {
            "marker": {
             "colorbar": {
              "outlinewidth": 0,
              "ticks": ""
             }
            },
            "type": "scatterpolar"
           }
          ],
          "scatterpolargl": [
           {
            "marker": {
             "colorbar": {
              "outlinewidth": 0,
              "ticks": ""
             }
            },
            "type": "scatterpolargl"
           }
          ],
          "scatterternary": [
           {
            "marker": {
             "colorbar": {
              "outlinewidth": 0,
              "ticks": ""
             }
            },
            "type": "scatterternary"
           }
          ],
          "surface": [
           {
            "colorbar": {
             "outlinewidth": 0,
             "ticks": ""
            },
            "colorscale": [
             [
              0,
              "#0d0887"
             ],
             [
              0.1111111111111111,
              "#46039f"
             ],
             [
              0.2222222222222222,
              "#7201a8"
             ],
             [
              0.3333333333333333,
              "#9c179e"
             ],
             [
              0.4444444444444444,
              "#bd3786"
             ],
             [
              0.5555555555555556,
              "#d8576b"
             ],
             [
              0.6666666666666666,
              "#ed7953"
             ],
             [
              0.7777777777777778,
              "#fb9f3a"
             ],
             [
              0.8888888888888888,
              "#fdca26"
             ],
             [
              1,
              "#f0f921"
             ]
            ],
            "type": "surface"
           }
          ],
          "table": [
           {
            "cells": {
             "fill": {
              "color": "#EBF0F8"
             },
             "line": {
              "color": "white"
             }
            },
            "header": {
             "fill": {
              "color": "#C8D4E3"
             },
             "line": {
              "color": "white"
             }
            },
            "type": "table"
           }
          ]
         },
         "layout": {
          "annotationdefaults": {
           "arrowcolor": "#2a3f5f",
           "arrowhead": 0,
           "arrowwidth": 1
          },
          "autotypenumbers": "strict",
          "coloraxis": {
           "colorbar": {
            "outlinewidth": 0,
            "ticks": ""
           }
          },
          "colorscale": {
           "diverging": [
            [
             0,
             "#8e0152"
            ],
            [
             0.1,
             "#c51b7d"
            ],
            [
             0.2,
             "#de77ae"
            ],
            [
             0.3,
             "#f1b6da"
            ],
            [
             0.4,
             "#fde0ef"
            ],
            [
             0.5,
             "#f7f7f7"
            ],
            [
             0.6,
             "#e6f5d0"
            ],
            [
             0.7,
             "#b8e186"
            ],
            [
             0.8,
             "#7fbc41"
            ],
            [
             0.9,
             "#4d9221"
            ],
            [
             1,
             "#276419"
            ]
           ],
           "sequential": [
            [
             0,
             "#0d0887"
            ],
            [
             0.1111111111111111,
             "#46039f"
            ],
            [
             0.2222222222222222,
             "#7201a8"
            ],
            [
             0.3333333333333333,
             "#9c179e"
            ],
            [
             0.4444444444444444,
             "#bd3786"
            ],
            [
             0.5555555555555556,
             "#d8576b"
            ],
            [
             0.6666666666666666,
             "#ed7953"
            ],
            [
             0.7777777777777778,
             "#fb9f3a"
            ],
            [
             0.8888888888888888,
             "#fdca26"
            ],
            [
             1,
             "#f0f921"
            ]
           ],
           "sequentialminus": [
            [
             0,
             "#0d0887"
            ],
            [
             0.1111111111111111,
             "#46039f"
            ],
            [
             0.2222222222222222,
             "#7201a8"
            ],
            [
             0.3333333333333333,
             "#9c179e"
            ],
            [
             0.4444444444444444,
             "#bd3786"
            ],
            [
             0.5555555555555556,
             "#d8576b"
            ],
            [
             0.6666666666666666,
             "#ed7953"
            ],
            [
             0.7777777777777778,
             "#fb9f3a"
            ],
            [
             0.8888888888888888,
             "#fdca26"
            ],
            [
             1,
             "#f0f921"
            ]
           ]
          },
          "colorway": [
           "#636efa",
           "#EF553B",
           "#00cc96",
           "#ab63fa",
           "#FFA15A",
           "#19d3f3",
           "#FF6692",
           "#B6E880",
           "#FF97FF",
           "#FECB52"
          ],
          "font": {
           "color": "#2a3f5f"
          },
          "geo": {
           "bgcolor": "white",
           "lakecolor": "white",
           "landcolor": "#E5ECF6",
           "showlakes": true,
           "showland": true,
           "subunitcolor": "white"
          },
          "hoverlabel": {
           "align": "left"
          },
          "hovermode": "closest",
          "mapbox": {
           "style": "light"
          },
          "paper_bgcolor": "white",
          "plot_bgcolor": "#E5ECF6",
          "polar": {
           "angularaxis": {
            "gridcolor": "white",
            "linecolor": "white",
            "ticks": ""
           },
           "bgcolor": "#E5ECF6",
           "radialaxis": {
            "gridcolor": "white",
            "linecolor": "white",
            "ticks": ""
           }
          },
          "scene": {
           "xaxis": {
            "backgroundcolor": "#E5ECF6",
            "gridcolor": "white",
            "gridwidth": 2,
            "linecolor": "white",
            "showbackground": true,
            "ticks": "",
            "zerolinecolor": "white"
           },
           "yaxis": {
            "backgroundcolor": "#E5ECF6",
            "gridcolor": "white",
            "gridwidth": 2,
            "linecolor": "white",
            "showbackground": true,
            "ticks": "",
            "zerolinecolor": "white"
           },
           "zaxis": {
            "backgroundcolor": "#E5ECF6",
            "gridcolor": "white",
            "gridwidth": 2,
            "linecolor": "white",
            "showbackground": true,
            "ticks": "",
            "zerolinecolor": "white"
           }
          },
          "shapedefaults": {
           "line": {
            "color": "#2a3f5f"
           }
          },
          "ternary": {
           "aaxis": {
            "gridcolor": "white",
            "linecolor": "white",
            "ticks": ""
           },
           "baxis": {
            "gridcolor": "white",
            "linecolor": "white",
            "ticks": ""
           },
           "bgcolor": "#E5ECF6",
           "caxis": {
            "gridcolor": "white",
            "linecolor": "white",
            "ticks": ""
           }
          },
          "title": {
           "x": 0.05
          },
          "xaxis": {
           "automargin": true,
           "gridcolor": "white",
           "linecolor": "white",
           "ticks": "",
           "title": {
            "standoff": 15
           },
           "zerolinecolor": "white",
           "zerolinewidth": 2
          },
          "yaxis": {
           "automargin": true,
           "gridcolor": "white",
           "linecolor": "white",
           "ticks": "",
           "title": {
            "standoff": 15
           },
           "zerolinecolor": "white",
           "zerolinewidth": 2
          }
         }
        }
       }
      },
      "text/html": [
       "<div>                            <div id=\"724880ed-5de9-453c-8519-34928e1cc79e\" class=\"plotly-graph-div\" style=\"height:525px; width:100%;\"></div>            <script type=\"text/javascript\">                require([\"plotly\"], function(Plotly) {                    window.PLOTLYENV=window.PLOTLYENV || {};                                    if (document.getElementById(\"724880ed-5de9-453c-8519-34928e1cc79e\")) {                    Plotly.newPlot(                        \"724880ed-5de9-453c-8519-34928e1cc79e\",                        [{\"lat\":[50.875809],\"lon\":[4.70011],\"radius\":10,\"z\":[44.07779782130158],\"type\":\"densitymapbox\"},{\"hovertemplate\":\"Naamsestraat 62\",\"lat\":[50.875809],\"lon\":[4.70011],\"marker\":{\"color\":\"red\",\"opacity\":0.7,\"size\":5},\"mode\":\"markers\",\"showlegend\":false,\"type\":\"scattermapbox\"},{\"lat\":[50.873825],\"lon\":[4.7001178],\"radius\":10,\"z\":[44.07779782130158],\"type\":\"densitymapbox\"},{\"hovertemplate\":\"Naamsestraat 81\",\"lat\":[50.873825],\"lon\":[4.7001178],\"marker\":{\"color\":\"red\",\"opacity\":0.7,\"size\":5},\"mode\":\"markers\",\"showlegend\":false,\"type\":\"scattermapbox\"},{\"lat\":[50.8745267],\"lon\":[4.6999168],\"radius\":10,\"z\":[44.07779782130158],\"type\":\"densitymapbox\"},{\"hovertemplate\":\"Calveriekapel\",\"lat\":[50.8745267],\"lon\":[4.6999168],\"marker\":{\"color\":\"red\",\"opacity\":0.7,\"size\":5},\"mode\":\"markers\",\"showlegend\":false,\"type\":\"scattermapbox\"},{\"lat\":[50.8741177],\"lon\":[4.7000138],\"radius\":10,\"z\":[44.07779782130158],\"type\":\"densitymapbox\"},{\"hovertemplate\":\"Parkstraat 2\",\"lat\":[50.8741177],\"lon\":[4.7000138],\"marker\":{\"color\":\"red\",\"opacity\":0.7,\"size\":5},\"mode\":\"markers\",\"showlegend\":false,\"type\":\"scattermapbox\"}],                        {\"template\":{\"data\":{\"histogram2dcontour\":[{\"type\":\"histogram2dcontour\",\"colorbar\":{\"outlinewidth\":0,\"ticks\":\"\"},\"colorscale\":[[0.0,\"#0d0887\"],[0.1111111111111111,\"#46039f\"],[0.2222222222222222,\"#7201a8\"],[0.3333333333333333,\"#9c179e\"],[0.4444444444444444,\"#bd3786\"],[0.5555555555555556,\"#d8576b\"],[0.6666666666666666,\"#ed7953\"],[0.7777777777777778,\"#fb9f3a\"],[0.8888888888888888,\"#fdca26\"],[1.0,\"#f0f921\"]]}],\"choropleth\":[{\"type\":\"choropleth\",\"colorbar\":{\"outlinewidth\":0,\"ticks\":\"\"}}],\"histogram2d\":[{\"type\":\"histogram2d\",\"colorbar\":{\"outlinewidth\":0,\"ticks\":\"\"},\"colorscale\":[[0.0,\"#0d0887\"],[0.1111111111111111,\"#46039f\"],[0.2222222222222222,\"#7201a8\"],[0.3333333333333333,\"#9c179e\"],[0.4444444444444444,\"#bd3786\"],[0.5555555555555556,\"#d8576b\"],[0.6666666666666666,\"#ed7953\"],[0.7777777777777778,\"#fb9f3a\"],[0.8888888888888888,\"#fdca26\"],[1.0,\"#f0f921\"]]}],\"heatmap\":[{\"type\":\"heatmap\",\"colorbar\":{\"outlinewidth\":0,\"ticks\":\"\"},\"colorscale\":[[0.0,\"#0d0887\"],[0.1111111111111111,\"#46039f\"],[0.2222222222222222,\"#7201a8\"],[0.3333333333333333,\"#9c179e\"],[0.4444444444444444,\"#bd3786\"],[0.5555555555555556,\"#d8576b\"],[0.6666666666666666,\"#ed7953\"],[0.7777777777777778,\"#fb9f3a\"],[0.8888888888888888,\"#fdca26\"],[1.0,\"#f0f921\"]]}],\"heatmapgl\":[{\"type\":\"heatmapgl\",\"colorbar\":{\"outlinewidth\":0,\"ticks\":\"\"},\"colorscale\":[[0.0,\"#0d0887\"],[0.1111111111111111,\"#46039f\"],[0.2222222222222222,\"#7201a8\"],[0.3333333333333333,\"#9c179e\"],[0.4444444444444444,\"#bd3786\"],[0.5555555555555556,\"#d8576b\"],[0.6666666666666666,\"#ed7953\"],[0.7777777777777778,\"#fb9f3a\"],[0.8888888888888888,\"#fdca26\"],[1.0,\"#f0f921\"]]}],\"contourcarpet\":[{\"type\":\"contourcarpet\",\"colorbar\":{\"outlinewidth\":0,\"ticks\":\"\"}}],\"contour\":[{\"type\":\"contour\",\"colorbar\":{\"outlinewidth\":0,\"ticks\":\"\"},\"colorscale\":[[0.0,\"#0d0887\"],[0.1111111111111111,\"#46039f\"],[0.2222222222222222,\"#7201a8\"],[0.3333333333333333,\"#9c179e\"],[0.4444444444444444,\"#bd3786\"],[0.5555555555555556,\"#d8576b\"],[0.6666666666666666,\"#ed7953\"],[0.7777777777777778,\"#fb9f3a\"],[0.8888888888888888,\"#fdca26\"],[1.0,\"#f0f921\"]]}],\"surface\":[{\"type\":\"surface\",\"colorbar\":{\"outlinewidth\":0,\"ticks\":\"\"},\"colorscale\":[[0.0,\"#0d0887\"],[0.1111111111111111,\"#46039f\"],[0.2222222222222222,\"#7201a8\"],[0.3333333333333333,\"#9c179e\"],[0.4444444444444444,\"#bd3786\"],[0.5555555555555556,\"#d8576b\"],[0.6666666666666666,\"#ed7953\"],[0.7777777777777778,\"#fb9f3a\"],[0.8888888888888888,\"#fdca26\"],[1.0,\"#f0f921\"]]}],\"mesh3d\":[{\"type\":\"mesh3d\",\"colorbar\":{\"outlinewidth\":0,\"ticks\":\"\"}}],\"scatter\":[{\"fillpattern\":{\"fillmode\":\"overlay\",\"size\":10,\"solidity\":0.2},\"type\":\"scatter\"}],\"parcoords\":[{\"type\":\"parcoords\",\"line\":{\"colorbar\":{\"outlinewidth\":0,\"ticks\":\"\"}}}],\"scatterpolargl\":[{\"type\":\"scatterpolargl\",\"marker\":{\"colorbar\":{\"outlinewidth\":0,\"ticks\":\"\"}}}],\"bar\":[{\"error_x\":{\"color\":\"#2a3f5f\"},\"error_y\":{\"color\":\"#2a3f5f\"},\"marker\":{\"line\":{\"color\":\"#E5ECF6\",\"width\":0.5},\"pattern\":{\"fillmode\":\"overlay\",\"size\":10,\"solidity\":0.2}},\"type\":\"bar\"}],\"scattergeo\":[{\"type\":\"scattergeo\",\"marker\":{\"colorbar\":{\"outlinewidth\":0,\"ticks\":\"\"}}}],\"scatterpolar\":[{\"type\":\"scatterpolar\",\"marker\":{\"colorbar\":{\"outlinewidth\":0,\"ticks\":\"\"}}}],\"histogram\":[{\"marker\":{\"pattern\":{\"fillmode\":\"overlay\",\"size\":10,\"solidity\":0.2}},\"type\":\"histogram\"}],\"scattergl\":[{\"type\":\"scattergl\",\"marker\":{\"colorbar\":{\"outlinewidth\":0,\"ticks\":\"\"}}}],\"scatter3d\":[{\"type\":\"scatter3d\",\"line\":{\"colorbar\":{\"outlinewidth\":0,\"ticks\":\"\"}},\"marker\":{\"colorbar\":{\"outlinewidth\":0,\"ticks\":\"\"}}}],\"scattermapbox\":[{\"type\":\"scattermapbox\",\"marker\":{\"colorbar\":{\"outlinewidth\":0,\"ticks\":\"\"}}}],\"scatterternary\":[{\"type\":\"scatterternary\",\"marker\":{\"colorbar\":{\"outlinewidth\":0,\"ticks\":\"\"}}}],\"scattercarpet\":[{\"type\":\"scattercarpet\",\"marker\":{\"colorbar\":{\"outlinewidth\":0,\"ticks\":\"\"}}}],\"carpet\":[{\"aaxis\":{\"endlinecolor\":\"#2a3f5f\",\"gridcolor\":\"white\",\"linecolor\":\"white\",\"minorgridcolor\":\"white\",\"startlinecolor\":\"#2a3f5f\"},\"baxis\":{\"endlinecolor\":\"#2a3f5f\",\"gridcolor\":\"white\",\"linecolor\":\"white\",\"minorgridcolor\":\"white\",\"startlinecolor\":\"#2a3f5f\"},\"type\":\"carpet\"}],\"table\":[{\"cells\":{\"fill\":{\"color\":\"#EBF0F8\"},\"line\":{\"color\":\"white\"}},\"header\":{\"fill\":{\"color\":\"#C8D4E3\"},\"line\":{\"color\":\"white\"}},\"type\":\"table\"}],\"barpolar\":[{\"marker\":{\"line\":{\"color\":\"#E5ECF6\",\"width\":0.5},\"pattern\":{\"fillmode\":\"overlay\",\"size\":10,\"solidity\":0.2}},\"type\":\"barpolar\"}],\"pie\":[{\"automargin\":true,\"type\":\"pie\"}]},\"layout\":{\"autotypenumbers\":\"strict\",\"colorway\":[\"#636efa\",\"#EF553B\",\"#00cc96\",\"#ab63fa\",\"#FFA15A\",\"#19d3f3\",\"#FF6692\",\"#B6E880\",\"#FF97FF\",\"#FECB52\"],\"font\":{\"color\":\"#2a3f5f\"},\"hovermode\":\"closest\",\"hoverlabel\":{\"align\":\"left\"},\"paper_bgcolor\":\"white\",\"plot_bgcolor\":\"#E5ECF6\",\"polar\":{\"bgcolor\":\"#E5ECF6\",\"angularaxis\":{\"gridcolor\":\"white\",\"linecolor\":\"white\",\"ticks\":\"\"},\"radialaxis\":{\"gridcolor\":\"white\",\"linecolor\":\"white\",\"ticks\":\"\"}},\"ternary\":{\"bgcolor\":\"#E5ECF6\",\"aaxis\":{\"gridcolor\":\"white\",\"linecolor\":\"white\",\"ticks\":\"\"},\"baxis\":{\"gridcolor\":\"white\",\"linecolor\":\"white\",\"ticks\":\"\"},\"caxis\":{\"gridcolor\":\"white\",\"linecolor\":\"white\",\"ticks\":\"\"}},\"coloraxis\":{\"colorbar\":{\"outlinewidth\":0,\"ticks\":\"\"}},\"colorscale\":{\"sequential\":[[0.0,\"#0d0887\"],[0.1111111111111111,\"#46039f\"],[0.2222222222222222,\"#7201a8\"],[0.3333333333333333,\"#9c179e\"],[0.4444444444444444,\"#bd3786\"],[0.5555555555555556,\"#d8576b\"],[0.6666666666666666,\"#ed7953\"],[0.7777777777777778,\"#fb9f3a\"],[0.8888888888888888,\"#fdca26\"],[1.0,\"#f0f921\"]],\"sequentialminus\":[[0.0,\"#0d0887\"],[0.1111111111111111,\"#46039f\"],[0.2222222222222222,\"#7201a8\"],[0.3333333333333333,\"#9c179e\"],[0.4444444444444444,\"#bd3786\"],[0.5555555555555556,\"#d8576b\"],[0.6666666666666666,\"#ed7953\"],[0.7777777777777778,\"#fb9f3a\"],[0.8888888888888888,\"#fdca26\"],[1.0,\"#f0f921\"]],\"diverging\":[[0,\"#8e0152\"],[0.1,\"#c51b7d\"],[0.2,\"#de77ae\"],[0.3,\"#f1b6da\"],[0.4,\"#fde0ef\"],[0.5,\"#f7f7f7\"],[0.6,\"#e6f5d0\"],[0.7,\"#b8e186\"],[0.8,\"#7fbc41\"],[0.9,\"#4d9221\"],[1,\"#276419\"]]},\"xaxis\":{\"gridcolor\":\"white\",\"linecolor\":\"white\",\"ticks\":\"\",\"title\":{\"standoff\":15},\"zerolinecolor\":\"white\",\"automargin\":true,\"zerolinewidth\":2},\"yaxis\":{\"gridcolor\":\"white\",\"linecolor\":\"white\",\"ticks\":\"\",\"title\":{\"standoff\":15},\"zerolinecolor\":\"white\",\"automargin\":true,\"zerolinewidth\":2},\"scene\":{\"xaxis\":{\"backgroundcolor\":\"#E5ECF6\",\"gridcolor\":\"white\",\"linecolor\":\"white\",\"showbackground\":true,\"ticks\":\"\",\"zerolinecolor\":\"white\",\"gridwidth\":2},\"yaxis\":{\"backgroundcolor\":\"#E5ECF6\",\"gridcolor\":\"white\",\"linecolor\":\"white\",\"showbackground\":true,\"ticks\":\"\",\"zerolinecolor\":\"white\",\"gridwidth\":2},\"zaxis\":{\"backgroundcolor\":\"#E5ECF6\",\"gridcolor\":\"white\",\"linecolor\":\"white\",\"showbackground\":true,\"ticks\":\"\",\"zerolinecolor\":\"white\",\"gridwidth\":2}},\"shapedefaults\":{\"line\":{\"color\":\"#2a3f5f\"}},\"annotationdefaults\":{\"arrowcolor\":\"#2a3f5f\",\"arrowhead\":0,\"arrowwidth\":1},\"geo\":{\"bgcolor\":\"white\",\"landcolor\":\"#E5ECF6\",\"subunitcolor\":\"white\",\"showland\":true,\"showlakes\":true,\"lakecolor\":\"white\"},\"title\":{\"x\":0.05},\"mapbox\":{\"style\":\"light\"}}},\"mapbox\":{\"center\":{\"lon\":4.700039704453442,\"lat\":50.87457142955465},\"style\":\"stamen-terrain\",\"zoom\":15},\"margin\":{\"r\":0,\"t\":0,\"l\":0,\"b\":0}},                        {\"responsive\": true}                    ).then(function(){\n",
       "                            \n",
       "var gd = document.getElementById('724880ed-5de9-453c-8519-34928e1cc79e');\n",
       "var x = new MutationObserver(function (mutations, observer) {{\n",
       "        var display = window.getComputedStyle(gd).display;\n",
       "        if (!display || display === 'none') {{\n",
       "            console.log([gd, 'removed!']);\n",
       "            Plotly.purge(gd);\n",
       "            observer.disconnect();\n",
       "        }}\n",
       "}});\n",
       "\n",
       "// Listen for the removal of the full notebook cells\n",
       "var notebookContainer = gd.closest('#notebook-container');\n",
       "if (notebookContainer) {{\n",
       "    x.observe(notebookContainer, {childList: true});\n",
       "}}\n",
       "\n",
       "// Listen for the clearing of the current output cell\n",
       "var outputEl = gd.closest('.output');\n",
       "if (outputEl) {{\n",
       "    x.observe(outputEl, {childList: true});\n",
       "}}\n",
       "\n",
       "                        })                };                });            </script>        </div>"
      ]
     },
     "metadata": {},
     "output_type": "display_data"
    }
   ],
   "source": [
    "#Lamax\n",
    "\n",
    "import plotly.graph_objects as go\n",
    "\n",
    "fig = go.Figure()\n",
    "\n",
    "# Add density mapbox trace\n",
    "fig.add_trace(\n",
    "    go.Densitymapbox(\n",
    "        lat=[50.875809],\n",
    "        lon=[4.700110],\n",
    "        z=selected_naamsestraat62_hour.hourly_lamax_avg,\n",
    "        radius=10\n",
    "    )\n",
    ")\n",
    "\n",
    "# Add scattermapbox trace for individual markers\n",
    "fig.add_trace(\n",
    "    go.Scattermapbox(\n",
    "        lat=[50.875809],\n",
    "        lon=[4.700110],\n",
    "        mode='markers',\n",
    "        marker=dict(\n",
    "            size=5,\n",
    "            color='red',\n",
    "            opacity=0.7\n",
    "        ),\n",
    "        hovertemplate=\"Naamsestraat 62\",\n",
    "        showlegend = False\n",
    "    )\n",
    ")\n",
    "\n",
    "# Add density mapbox trace\n",
    "fig.add_trace(\n",
    "    go.Densitymapbox(\n",
    "        lat=[50.8738250],\n",
    "        lon=[4.7001178],\n",
    "        z=selected_naamsestraat81_hour.hourly_lamax_avg,\n",
    "        radius=10\n",
    "    )\n",
    ")\n",
    "\n",
    "# Add scattermapbox trace for individual markers\n",
    "fig.add_trace(\n",
    "    go.Scattermapbox(\n",
    "        lat=[50.8738250],\n",
    "        lon=[4.7001178],\n",
    "        mode='markers',\n",
    "        marker=dict(\n",
    "            size=5,\n",
    "            color='red',\n",
    "            opacity=0.7\n",
    "        ),\n",
    "        hovertemplate=\"Naamsestraat 81\",\n",
    "        showlegend = False\n",
    "    )\n",
    ")\n",
    "\n",
    "# Add density mapbox trace\n",
    "fig.add_trace(\n",
    "    go.Densitymapbox(\n",
    "        lat=[50.8745267],\n",
    "        lon=[4.6999168],\n",
    "        z=selected_calveriekapel_hour.hourly_lamax_avg,\n",
    "        radius=10\n",
    "    )\n",
    ")\n",
    "\n",
    "# Add scattermapbox trace for individual markers\n",
    "fig.add_trace(\n",
    "    go.Scattermapbox(\n",
    "        lat=[50.8745267],\n",
    "        lon=[4.6999168],\n",
    "        mode='markers',\n",
    "        marker=dict(\n",
    "            size=5,\n",
    "            color='red',\n",
    "            opacity=0.7\n",
    "        ),\n",
    "        hovertemplate=\"Calveriekapel\",\n",
    "        showlegend = False\n",
    "    )\n",
    ")\n",
    "\n",
    "# Add density mapbox trace\n",
    "fig.add_trace(\n",
    "    go.Densitymapbox(\n",
    "        lat=[50.8741177],\n",
    "        lon=[4.7000138],\n",
    "        z=selected_parkstraat2_hour.hourly_lamax_avg,\n",
    "        radius=10\n",
    "    )\n",
    ")\n",
    "\n",
    "# Add scattermapbox trace for individual markers\n",
    "fig.add_trace(\n",
    "    go.Scattermapbox(\n",
    "        lat=[50.8741177],\n",
    "        lon=[4.7000138],\n",
    "        mode='markers',\n",
    "        marker=dict(\n",
    "            size=5,\n",
    "            color='red',\n",
    "            opacity=0.7\n",
    "        ),\n",
    "        hovertemplate=\"Parkstraat 2\",\n",
    "        showlegend = False\n",
    "    )\n",
    ")\n",
    "\n",
    "fig.update_layout(\n",
    "    mapbox_style=\"stamen-terrain\",\n",
    "    mapbox_center={\"lon\": 180},\n",
    "    margin={\"r\": 0, \"t\": 0, \"l\": 0, \"b\": 0},\n",
    "    mapbox={\n",
    "        'zoom': 15,\n",
    "        'center': {'lon': aggregated_data.long.mean(), 'lat': aggregated_data.lat.mean()}\n",
    "    }\n",
    ")\n",
    "\n",
    "fig.show()\n"
   ]
  },
  {
   "cell_type": "code",
   "execution_count": 97,
   "id": "5a7049c2",
   "metadata": {},
   "outputs": [
    {
     "data": {
      "text/html": [
       "<div>\n",
       "<style scoped>\n",
       "    .dataframe tbody tr th:only-of-type {\n",
       "        vertical-align: middle;\n",
       "    }\n",
       "\n",
       "    .dataframe tbody tr th {\n",
       "        vertical-align: top;\n",
       "    }\n",
       "\n",
       "    .dataframe thead th {\n",
       "        text-align: right;\n",
       "    }\n",
       "</style>\n",
       "<table border=\"1\" class=\"dataframe\">\n",
       "  <thead>\n",
       "    <tr style=\"text-align: right;\">\n",
       "      <th></th>\n",
       "      <th>location</th>\n",
       "      <th>date</th>\n",
       "      <th>hour</th>\n",
       "      <th>long</th>\n",
       "      <th>lat</th>\n",
       "      <th>hourly_lcpeak_avg</th>\n",
       "    </tr>\n",
       "  </thead>\n",
       "  <tbody>\n",
       "    <tr>\n",
       "      <th>2959</th>\n",
       "      <td>Parkstraat 2</td>\n",
       "      <td>2022-12-01</td>\n",
       "      <td>19</td>\n",
       "      <td>4.700014</td>\n",
       "      <td>50.874118</td>\n",
       "      <td>74.319708</td>\n",
       "    </tr>\n",
       "    <tr>\n",
       "      <th>2960</th>\n",
       "      <td>Parkstraat 2</td>\n",
       "      <td>2022-12-01</td>\n",
       "      <td>20</td>\n",
       "      <td>4.700014</td>\n",
       "      <td>50.874118</td>\n",
       "      <td>73.380508</td>\n",
       "    </tr>\n",
       "    <tr>\n",
       "      <th>2961</th>\n",
       "      <td>Parkstraat 2</td>\n",
       "      <td>2022-12-01</td>\n",
       "      <td>21</td>\n",
       "      <td>4.700014</td>\n",
       "      <td>50.874118</td>\n",
       "      <td>71.815353</td>\n",
       "    </tr>\n",
       "    <tr>\n",
       "      <th>2962</th>\n",
       "      <td>Parkstraat 2</td>\n",
       "      <td>2022-12-01</td>\n",
       "      <td>22</td>\n",
       "      <td>4.700014</td>\n",
       "      <td>50.874118</td>\n",
       "      <td>70.108965</td>\n",
       "    </tr>\n",
       "    <tr>\n",
       "      <th>2963</th>\n",
       "      <td>Parkstraat 2</td>\n",
       "      <td>2022-12-01</td>\n",
       "      <td>23</td>\n",
       "      <td>4.700014</td>\n",
       "      <td>50.874118</td>\n",
       "      <td>67.631602</td>\n",
       "    </tr>\n",
       "  </tbody>\n",
       "</table>\n",
       "</div>"
      ],
      "text/plain": [
       "          location        date  hour      long        lat  hourly_lcpeak_avg\n",
       "2959  Parkstraat 2  2022-12-01    19  4.700014  50.874118          74.319708\n",
       "2960  Parkstraat 2  2022-12-01    20  4.700014  50.874118          73.380508\n",
       "2961  Parkstraat 2  2022-12-01    21  4.700014  50.874118          71.815353\n",
       "2962  Parkstraat 2  2022-12-01    22  4.700014  50.874118          70.108965\n",
       "2963  Parkstraat 2  2022-12-01    23  4.700014  50.874118          67.631602"
      ]
     },
     "execution_count": 97,
     "metadata": {},
     "output_type": "execute_result"
    }
   ],
   "source": [
    "# Aggregate the data by location and hour, taking the average of 'hourly_lamax_avg'\n",
    "aggregated_data_lcpeak = merged_datasets_all_locations_agg_hour.groupby(['location','date', 'hour', 'long', 'lat']).agg({'hourly_lcpeak_avg': 'mean'}).reset_index()\n",
    "aggregated_data_lcpeak_df = pd.DataFrame(aggregated_data_lcpeak)\n",
    "aggregated_data_lcpeak_df.tail()"
   ]
  },
  {
   "cell_type": "code",
   "execution_count": 94,
   "id": "76c95486",
   "metadata": {},
   "outputs": [
    {
     "data": {
      "text/html": [
       "<div>\n",
       "<style scoped>\n",
       "    .dataframe tbody tr th:only-of-type {\n",
       "        vertical-align: middle;\n",
       "    }\n",
       "\n",
       "    .dataframe tbody tr th {\n",
       "        vertical-align: top;\n",
       "    }\n",
       "\n",
       "    .dataframe thead th {\n",
       "        text-align: right;\n",
       "    }\n",
       "</style>\n",
       "<table border=\"1\" class=\"dataframe\">\n",
       "  <thead>\n",
       "    <tr style=\"text-align: right;\">\n",
       "      <th></th>\n",
       "      <th>location</th>\n",
       "      <th>date</th>\n",
       "      <th>hour</th>\n",
       "      <th>long</th>\n",
       "      <th>lat</th>\n",
       "      <th>hourly_laeq_avg</th>\n",
       "    </tr>\n",
       "  </thead>\n",
       "  <tbody>\n",
       "    <tr>\n",
       "      <th>2959</th>\n",
       "      <td>Parkstraat 2</td>\n",
       "      <td>2022-12-01</td>\n",
       "      <td>19</td>\n",
       "      <td>4.700014</td>\n",
       "      <td>50.874118</td>\n",
       "      <td>54.274191</td>\n",
       "    </tr>\n",
       "    <tr>\n",
       "      <th>2960</th>\n",
       "      <td>Parkstraat 2</td>\n",
       "      <td>2022-12-01</td>\n",
       "      <td>20</td>\n",
       "      <td>4.700014</td>\n",
       "      <td>50.874118</td>\n",
       "      <td>53.165918</td>\n",
       "    </tr>\n",
       "    <tr>\n",
       "      <th>2961</th>\n",
       "      <td>Parkstraat 2</td>\n",
       "      <td>2022-12-01</td>\n",
       "      <td>21</td>\n",
       "      <td>4.700014</td>\n",
       "      <td>50.874118</td>\n",
       "      <td>51.115490</td>\n",
       "    </tr>\n",
       "    <tr>\n",
       "      <th>2962</th>\n",
       "      <td>Parkstraat 2</td>\n",
       "      <td>2022-12-01</td>\n",
       "      <td>22</td>\n",
       "      <td>4.700014</td>\n",
       "      <td>50.874118</td>\n",
       "      <td>49.231101</td>\n",
       "    </tr>\n",
       "    <tr>\n",
       "      <th>2963</th>\n",
       "      <td>Parkstraat 2</td>\n",
       "      <td>2022-12-01</td>\n",
       "      <td>23</td>\n",
       "      <td>4.700014</td>\n",
       "      <td>50.874118</td>\n",
       "      <td>46.200029</td>\n",
       "    </tr>\n",
       "  </tbody>\n",
       "</table>\n",
       "</div>"
      ],
      "text/plain": [
       "          location        date  hour      long        lat  hourly_laeq_avg\n",
       "2959  Parkstraat 2  2022-12-01    19  4.700014  50.874118        54.274191\n",
       "2960  Parkstraat 2  2022-12-01    20  4.700014  50.874118        53.165918\n",
       "2961  Parkstraat 2  2022-12-01    21  4.700014  50.874118        51.115490\n",
       "2962  Parkstraat 2  2022-12-01    22  4.700014  50.874118        49.231101\n",
       "2963  Parkstraat 2  2022-12-01    23  4.700014  50.874118        46.200029"
      ]
     },
     "execution_count": 94,
     "metadata": {},
     "output_type": "execute_result"
    }
   ],
   "source": [
    "# Aggregate the data by location and hour, taking the average of 'hourly_lamax_avg'\n",
    "aggregated_data_laeq = merged_datasets_all_locations_agg_hour.groupby(['location','date', 'hour', 'long', 'lat']).agg({'hourly_laeq_avg': 'mean'}).reset_index()\n",
    "aggregated_data_laeq_df = pd.DataFrame(aggregated_data_laeq)\n",
    "aggregated_data_laeq_df.tail()\n"
   ]
  },
  {
   "cell_type": "code",
   "execution_count": 95,
   "id": "8c02c9d5",
   "metadata": {},
   "outputs": [
    {
     "data": {
      "text/html": [
       "<div>\n",
       "<style scoped>\n",
       "    .dataframe tbody tr th:only-of-type {\n",
       "        vertical-align: middle;\n",
       "    }\n",
       "\n",
       "    .dataframe tbody tr th {\n",
       "        vertical-align: top;\n",
       "    }\n",
       "\n",
       "    .dataframe thead th {\n",
       "        text-align: right;\n",
       "    }\n",
       "</style>\n",
       "<table border=\"1\" class=\"dataframe\">\n",
       "  <thead>\n",
       "    <tr style=\"text-align: right;\">\n",
       "      <th></th>\n",
       "      <th>location</th>\n",
       "      <th>date</th>\n",
       "      <th>hour</th>\n",
       "      <th>long</th>\n",
       "      <th>lat</th>\n",
       "      <th>hourly_lceq_avg</th>\n",
       "    </tr>\n",
       "  </thead>\n",
       "  <tbody>\n",
       "    <tr>\n",
       "      <th>2959</th>\n",
       "      <td>Parkstraat 2</td>\n",
       "      <td>2022-12-01</td>\n",
       "      <td>19</td>\n",
       "      <td>4.700014</td>\n",
       "      <td>50.874118</td>\n",
       "      <td>62.201645</td>\n",
       "    </tr>\n",
       "    <tr>\n",
       "      <th>2960</th>\n",
       "      <td>Parkstraat 2</td>\n",
       "      <td>2022-12-01</td>\n",
       "      <td>20</td>\n",
       "      <td>4.700014</td>\n",
       "      <td>50.874118</td>\n",
       "      <td>61.246174</td>\n",
       "    </tr>\n",
       "    <tr>\n",
       "      <th>2961</th>\n",
       "      <td>Parkstraat 2</td>\n",
       "      <td>2022-12-01</td>\n",
       "      <td>21</td>\n",
       "      <td>4.700014</td>\n",
       "      <td>50.874118</td>\n",
       "      <td>59.658374</td>\n",
       "    </tr>\n",
       "    <tr>\n",
       "      <th>2962</th>\n",
       "      <td>Parkstraat 2</td>\n",
       "      <td>2022-12-01</td>\n",
       "      <td>22</td>\n",
       "      <td>4.700014</td>\n",
       "      <td>50.874118</td>\n",
       "      <td>57.734489</td>\n",
       "    </tr>\n",
       "    <tr>\n",
       "      <th>2963</th>\n",
       "      <td>Parkstraat 2</td>\n",
       "      <td>2022-12-01</td>\n",
       "      <td>23</td>\n",
       "      <td>4.700014</td>\n",
       "      <td>50.874118</td>\n",
       "      <td>55.003128</td>\n",
       "    </tr>\n",
       "  </tbody>\n",
       "</table>\n",
       "</div>"
      ],
      "text/plain": [
       "          location        date  hour      long        lat  hourly_lceq_avg\n",
       "2959  Parkstraat 2  2022-12-01    19  4.700014  50.874118        62.201645\n",
       "2960  Parkstraat 2  2022-12-01    20  4.700014  50.874118        61.246174\n",
       "2961  Parkstraat 2  2022-12-01    21  4.700014  50.874118        59.658374\n",
       "2962  Parkstraat 2  2022-12-01    22  4.700014  50.874118        57.734489\n",
       "2963  Parkstraat 2  2022-12-01    23  4.700014  50.874118        55.003128"
      ]
     },
     "execution_count": 95,
     "metadata": {},
     "output_type": "execute_result"
    }
   ],
   "source": [
    "# Aggregate the data by location and hour, taking the average of 'hourly_lamax_avg'\n",
    "aggregated_data_lceq = merged_datasets_all_locations_agg_hour.groupby(['location','date', 'hour', 'long', 'lat']).agg({'hourly_lceq_avg': 'mean'}).reset_index()\n",
    "aggregated_data_lceq_df = pd.DataFrame(aggregated_data_lceq)\n",
    "aggregated_data_lceq_df.tail()\n"
   ]
  },
  {
   "cell_type": "code",
   "execution_count": 104,
   "id": "31b646ba",
   "metadata": {},
   "outputs": [
    {
     "data": {
      "text/plain": [
       "2232    64.959602\n",
       "Name: hourly_lcpeak_avg, dtype: float64"
      ]
     },
     "execution_count": 104,
     "metadata": {},
     "output_type": "execute_result"
    }
   ],
   "source": [
    "#lcpeak\n",
    "\n",
    "selected_naamsestraat62_lcpeak_df = aggregated_data_lcpeak_df[aggregated_data_lcpeak_df['location'] == 'Naamsestraat 62']\n",
    "selected_naamsestraat62_date_lcpeak_df = selected_naamsestraat62_lcpeak_df[selected_naamsestraat62_lcpeak_df['date'] == datetime.date(2022, 1, 1)]\n",
    "selected_naamsestraat62_hour_lcpeak_df = selected_naamsestraat62_date_lcpeak_df[selected_naamsestraat62_date_lcpeak_df['hour'] == 0] \n",
    "\n",
    "\n",
    "selected_naamsestraat81_lcpeak_df = aggregated_data_lcpeak_df[aggregated_data_lcpeak_df['location'] == 'Naamsestraat 81']\n",
    "selected_naamsestraat81_date_lcpeak_df = selected_naamsestraat81_lcpeak_df[selected_naamsestraat81_lcpeak_df['date'] == datetime.date(2022, 1, 1)]\n",
    "selected_naamsestraat81_hour_lcpeak_df = selected_naamsestraat81_date_lcpeak_df[selected_naamsestraat81_date_lcpeak_df['hour'] == 0] \n",
    "\n",
    "\n",
    "selected_calveriekapel_lcpeak_df = aggregated_data_lcpeak_df[aggregated_data_lcpeak_df['location'] == 'Calveriekapel']\n",
    "selected_calveriekapel_date_lcpeak_df = selected_calveriekapel_lcpeak_df[selected_calveriekapel_lcpeak_df['date'] == datetime.date(2022, 1, 1)]\n",
    "selected_calveriekapel_hour_lcpeak_df = selected_calveriekapel_date_lcpeak_df[selected_calveriekapel_date_lcpeak_df['hour'] == 0] \n",
    "\n",
    "\n",
    "selected_parkstraat2_lcpeak_df = aggregated_data_lcpeak_df[aggregated_data_lcpeak_df['location'] == 'Parkstraat 2']\n",
    "selected_parkstraat2_date_lcpeak_df = selected_parkstraat2_lcpeak_df[selected_parkstraat2_lcpeak_df['date'] == datetime.date(2022, 1, 1)]\n",
    "selected_parkstraat2_hour_lcpeak_df = selected_parkstraat2_date_lcpeak_df[selected_parkstraat2_date_lcpeak_df['hour'] == 0] \n",
    "\n",
    "selected_parkstraat2_hour_lcpeak_df.hourly_lcpeak_avg"
   ]
  },
  {
   "cell_type": "code",
   "execution_count": 111,
   "id": "fd25409d",
   "metadata": {},
   "outputs": [
    {
     "data": {
      "text/plain": [
       "2232    42.129398\n",
       "Name: hourly_laeq_avg, dtype: float64"
      ]
     },
     "execution_count": 111,
     "metadata": {},
     "output_type": "execute_result"
    }
   ],
   "source": [
    "#laeq\n",
    "\n",
    "selected_naamsestraat62_laeq_df = aggregated_data_laeq_df[aggregated_data_laeq_df['location'] == 'Naamsestraat 62']\n",
    "selected_naamsestraat62_date_laeq_df = selected_naamsestraat62_laeq_df[selected_naamsestraat62_laeq_df['date'] == datetime.date(2022, 1, 1)]\n",
    "selected_naamsestraat62_hour_laeq_df = selected_naamsestraat62_date_laeq_df[selected_naamsestraat62_date_laeq_df['hour'] == 0]\n",
    "\n",
    "selected_naamsestraat81_laeq_df = aggregated_data_laeq_df[aggregated_data_laeq_df['location'] == 'Naamsestraat 81']\n",
    "selected_naamsestraat81_date_laeq_df = selected_naamsestraat81_laeq_df[selected_naamsestraat81_laeq_df['date'] == datetime.date(2022, 1, 1)]\n",
    "selected_naamsestraat81_hour_laeq_df = selected_naamsestraat81_date_laeq_df[selected_naamsestraat81_date_laeq_df['hour'] == 0]\n",
    "\n",
    "selected_calveriekapel_laeq_df = aggregated_data_laeq_df[aggregated_data_laeq_df['location'] == 'Calveriekapel']\n",
    "selected_calveriekapel_date_laeq_df = selected_calveriekapel_laeq_df[selected_calveriekapel_laeq_df['date'] == datetime.date(2022, 1, 1)]\n",
    "selected_calveriekapel_hour_laeq_df = selected_calveriekapel_date_laeq_df[selected_calveriekapel_date_laeq_df['hour'] == 0]\n",
    "\n",
    "selected_parkstraat2_laeq_df = aggregated_data_laeq_df[aggregated_data_laeq_df['location'] == 'Parkstraat 2']\n",
    "selected_parkstraat2_date_laeq_df = selected_parkstraat2_laeq_df[selected_parkstraat2_laeq_df['date'] == datetime.date(2022, 1, 1)]\n",
    "selected_parkstraat2_hour_laeq_df = selected_parkstraat2_date_laeq_df[selected_parkstraat2_date_laeq_df['hour'] == 0]\n",
    "\n",
    "selected_parkstraat2_hour_laeq_df.hourly_laeq_avg"
   ]
  },
  {
   "cell_type": "code",
   "execution_count": 115,
   "id": "58aa49eb",
   "metadata": {},
   "outputs": [
    {
     "data": {
      "text/plain": [
       "2232    52.49727\n",
       "Name: hourly_lceq_avg, dtype: float64"
      ]
     },
     "execution_count": 115,
     "metadata": {},
     "output_type": "execute_result"
    }
   ],
   "source": [
    "selected_naamsestraat62_lceq_df = aggregated_data_lceq_df[aggregated_data_lceq_df['location'] == 'Naamsestraat 62']\n",
    "selected_naamsestraat62_date_lceq_df = selected_naamsestraat62_lceq_df[selected_naamsestraat62_lceq_df['date'] == datetime.date(2022, 1, 1)]\n",
    "selected_naamsestraat62_hour_lceq_df = selected_naamsestraat62_date_lceq_df[selected_naamsestraat62_date_lceq_df['hour'] == 0]\n",
    "\n",
    "selected_naamsestraat81_lceq_df = aggregated_data_lceq_df[aggregated_data_lceq_df['location'] == 'Naamsestraat 81']\n",
    "selected_naamsestraat81_date_lceq_df = selected_naamsestraat81_lceq_df[selected_naamsestraat81_lceq_df['date'] == datetime.date(2022, 1, 1)]\n",
    "selected_naamsestraat81_hour_lceq_df = selected_naamsestraat81_date_lceq_df[selected_naamsestraat81_date_lceq_df['hour'] == 0]\n",
    "\n",
    "selected_calveriekapel_lceq_df = aggregated_data_lceq_df[aggregated_data_lceq_df['location'] == 'Calveriekapel']\n",
    "selected_calveriekapel_date_lceq_df = selected_calveriekapel_lceq_df[selected_calveriekapel_lceq_df['date'] == datetime.date(2022, 1, 1)]\n",
    "selected_calveriekapel_hour_lceq_df = selected_calveriekapel_date_lceq_df[selected_calveriekapel_date_lceq_df['hour'] == 0]\n",
    "\n",
    "selected_parkstraat2_lceq_df = aggregated_data_lceq_df[aggregated_data_lceq_df['location'] == 'Parkstraat 2']\n",
    "selected_parkstraat2_date_lceq_df = selected_parkstraat2_lceq_df[selected_parkstraat2_lceq_df['date'] == datetime.date(2022, 1, 1)]\n",
    "selected_parkstraat2_hour_lceq_df = selected_parkstraat2_date_lceq_df[selected_parkstraat2_date_lceq_df['hour'] == 0]\n",
    "\n",
    "selected_parkstraat2_hour_lceq_df.hourly_lceq_avg"
   ]
  },
  {
   "cell_type": "code",
   "execution_count": 118,
   "id": "89bff51a",
   "metadata": {},
   "outputs": [
    {
     "data": {
      "application/vnd.plotly.v1+json": {
       "config": {
        "plotlyServerURL": "https://plot.ly"
       },
       "data": [
        {
         "lat": [
          50.875809
         ],
         "lon": [
          4.70011
         ],
         "radius": 10,
         "type": "densitymapbox",
         "z": [
          64.95960209967828
         ]
        },
        {
         "hovertemplate": "Naamsestraat 62",
         "lat": [
          50.875809
         ],
         "lon": [
          4.70011
         ],
         "marker": {
          "color": "red",
          "opacity": 0.7,
          "size": 5
         },
         "mode": "markers",
         "showlegend": false,
         "type": "scattermapbox"
        },
        {
         "lat": [
          50.873825
         ],
         "lon": [
          4.7001178
         ],
         "radius": 10,
         "type": "densitymapbox",
         "z": [
          64.95960209967828
         ]
        },
        {
         "hovertemplate": "Naamsestraat 81",
         "lat": [
          50.873825
         ],
         "lon": [
          4.7001178
         ],
         "marker": {
          "color": "red",
          "opacity": 0.7,
          "size": 5
         },
         "mode": "markers",
         "showlegend": false,
         "type": "scattermapbox"
        },
        {
         "lat": [
          50.8745267
         ],
         "lon": [
          4.6999168
         ],
         "radius": 10,
         "type": "densitymapbox",
         "z": [
          64.95960209967828
         ]
        },
        {
         "hovertemplate": "Calveriekapel",
         "lat": [
          50.8745267
         ],
         "lon": [
          4.6999168
         ],
         "marker": {
          "color": "red",
          "opacity": 0.7,
          "size": 5
         },
         "mode": "markers",
         "showlegend": false,
         "type": "scattermapbox"
        },
        {
         "lat": [
          50.8741177
         ],
         "lon": [
          4.7000138
         ],
         "radius": 10,
         "type": "densitymapbox",
         "z": [
          64.95960209967828
         ]
        },
        {
         "hovertemplate": "Parkstraat 2",
         "lat": [
          50.8741177
         ],
         "lon": [
          4.7000138
         ],
         "marker": {
          "color": "red",
          "opacity": 0.7,
          "size": 5
         },
         "mode": "markers",
         "showlegend": false,
         "type": "scattermapbox"
        }
       ],
       "layout": {
        "mapbox": {
         "center": {
          "lat": 50.87457142955465,
          "lon": 4.700039704453442
         },
         "style": "stamen-terrain",
         "zoom": 15
        },
        "margin": {
         "b": 0,
         "l": 0,
         "r": 0,
         "t": 0
        },
        "template": {
         "data": {
          "bar": [
           {
            "error_x": {
             "color": "#2a3f5f"
            },
            "error_y": {
             "color": "#2a3f5f"
            },
            "marker": {
             "line": {
              "color": "#E5ECF6",
              "width": 0.5
             },
             "pattern": {
              "fillmode": "overlay",
              "size": 10,
              "solidity": 0.2
             }
            },
            "type": "bar"
           }
          ],
          "barpolar": [
           {
            "marker": {
             "line": {
              "color": "#E5ECF6",
              "width": 0.5
             },
             "pattern": {
              "fillmode": "overlay",
              "size": 10,
              "solidity": 0.2
             }
            },
            "type": "barpolar"
           }
          ],
          "carpet": [
           {
            "aaxis": {
             "endlinecolor": "#2a3f5f",
             "gridcolor": "white",
             "linecolor": "white",
             "minorgridcolor": "white",
             "startlinecolor": "#2a3f5f"
            },
            "baxis": {
             "endlinecolor": "#2a3f5f",
             "gridcolor": "white",
             "linecolor": "white",
             "minorgridcolor": "white",
             "startlinecolor": "#2a3f5f"
            },
            "type": "carpet"
           }
          ],
          "choropleth": [
           {
            "colorbar": {
             "outlinewidth": 0,
             "ticks": ""
            },
            "type": "choropleth"
           }
          ],
          "contour": [
           {
            "colorbar": {
             "outlinewidth": 0,
             "ticks": ""
            },
            "colorscale": [
             [
              0,
              "#0d0887"
             ],
             [
              0.1111111111111111,
              "#46039f"
             ],
             [
              0.2222222222222222,
              "#7201a8"
             ],
             [
              0.3333333333333333,
              "#9c179e"
             ],
             [
              0.4444444444444444,
              "#bd3786"
             ],
             [
              0.5555555555555556,
              "#d8576b"
             ],
             [
              0.6666666666666666,
              "#ed7953"
             ],
             [
              0.7777777777777778,
              "#fb9f3a"
             ],
             [
              0.8888888888888888,
              "#fdca26"
             ],
             [
              1,
              "#f0f921"
             ]
            ],
            "type": "contour"
           }
          ],
          "contourcarpet": [
           {
            "colorbar": {
             "outlinewidth": 0,
             "ticks": ""
            },
            "type": "contourcarpet"
           }
          ],
          "heatmap": [
           {
            "colorbar": {
             "outlinewidth": 0,
             "ticks": ""
            },
            "colorscale": [
             [
              0,
              "#0d0887"
             ],
             [
              0.1111111111111111,
              "#46039f"
             ],
             [
              0.2222222222222222,
              "#7201a8"
             ],
             [
              0.3333333333333333,
              "#9c179e"
             ],
             [
              0.4444444444444444,
              "#bd3786"
             ],
             [
              0.5555555555555556,
              "#d8576b"
             ],
             [
              0.6666666666666666,
              "#ed7953"
             ],
             [
              0.7777777777777778,
              "#fb9f3a"
             ],
             [
              0.8888888888888888,
              "#fdca26"
             ],
             [
              1,
              "#f0f921"
             ]
            ],
            "type": "heatmap"
           }
          ],
          "heatmapgl": [
           {
            "colorbar": {
             "outlinewidth": 0,
             "ticks": ""
            },
            "colorscale": [
             [
              0,
              "#0d0887"
             ],
             [
              0.1111111111111111,
              "#46039f"
             ],
             [
              0.2222222222222222,
              "#7201a8"
             ],
             [
              0.3333333333333333,
              "#9c179e"
             ],
             [
              0.4444444444444444,
              "#bd3786"
             ],
             [
              0.5555555555555556,
              "#d8576b"
             ],
             [
              0.6666666666666666,
              "#ed7953"
             ],
             [
              0.7777777777777778,
              "#fb9f3a"
             ],
             [
              0.8888888888888888,
              "#fdca26"
             ],
             [
              1,
              "#f0f921"
             ]
            ],
            "type": "heatmapgl"
           }
          ],
          "histogram": [
           {
            "marker": {
             "pattern": {
              "fillmode": "overlay",
              "size": 10,
              "solidity": 0.2
             }
            },
            "type": "histogram"
           }
          ],
          "histogram2d": [
           {
            "colorbar": {
             "outlinewidth": 0,
             "ticks": ""
            },
            "colorscale": [
             [
              0,
              "#0d0887"
             ],
             [
              0.1111111111111111,
              "#46039f"
             ],
             [
              0.2222222222222222,
              "#7201a8"
             ],
             [
              0.3333333333333333,
              "#9c179e"
             ],
             [
              0.4444444444444444,
              "#bd3786"
             ],
             [
              0.5555555555555556,
              "#d8576b"
             ],
             [
              0.6666666666666666,
              "#ed7953"
             ],
             [
              0.7777777777777778,
              "#fb9f3a"
             ],
             [
              0.8888888888888888,
              "#fdca26"
             ],
             [
              1,
              "#f0f921"
             ]
            ],
            "type": "histogram2d"
           }
          ],
          "histogram2dcontour": [
           {
            "colorbar": {
             "outlinewidth": 0,
             "ticks": ""
            },
            "colorscale": [
             [
              0,
              "#0d0887"
             ],
             [
              0.1111111111111111,
              "#46039f"
             ],
             [
              0.2222222222222222,
              "#7201a8"
             ],
             [
              0.3333333333333333,
              "#9c179e"
             ],
             [
              0.4444444444444444,
              "#bd3786"
             ],
             [
              0.5555555555555556,
              "#d8576b"
             ],
             [
              0.6666666666666666,
              "#ed7953"
             ],
             [
              0.7777777777777778,
              "#fb9f3a"
             ],
             [
              0.8888888888888888,
              "#fdca26"
             ],
             [
              1,
              "#f0f921"
             ]
            ],
            "type": "histogram2dcontour"
           }
          ],
          "mesh3d": [
           {
            "colorbar": {
             "outlinewidth": 0,
             "ticks": ""
            },
            "type": "mesh3d"
           }
          ],
          "parcoords": [
           {
            "line": {
             "colorbar": {
              "outlinewidth": 0,
              "ticks": ""
             }
            },
            "type": "parcoords"
           }
          ],
          "pie": [
           {
            "automargin": true,
            "type": "pie"
           }
          ],
          "scatter": [
           {
            "fillpattern": {
             "fillmode": "overlay",
             "size": 10,
             "solidity": 0.2
            },
            "type": "scatter"
           }
          ],
          "scatter3d": [
           {
            "line": {
             "colorbar": {
              "outlinewidth": 0,
              "ticks": ""
             }
            },
            "marker": {
             "colorbar": {
              "outlinewidth": 0,
              "ticks": ""
             }
            },
            "type": "scatter3d"
           }
          ],
          "scattercarpet": [
           {
            "marker": {
             "colorbar": {
              "outlinewidth": 0,
              "ticks": ""
             }
            },
            "type": "scattercarpet"
           }
          ],
          "scattergeo": [
           {
            "marker": {
             "colorbar": {
              "outlinewidth": 0,
              "ticks": ""
             }
            },
            "type": "scattergeo"
           }
          ],
          "scattergl": [
           {
            "marker": {
             "colorbar": {
              "outlinewidth": 0,
              "ticks": ""
             }
            },
            "type": "scattergl"
           }
          ],
          "scattermapbox": [
           {
            "marker": {
             "colorbar": {
              "outlinewidth": 0,
              "ticks": ""
             }
            },
            "type": "scattermapbox"
           }
          ],
          "scatterpolar": [
           {
            "marker": {
             "colorbar": {
              "outlinewidth": 0,
              "ticks": ""
             }
            },
            "type": "scatterpolar"
           }
          ],
          "scatterpolargl": [
           {
            "marker": {
             "colorbar": {
              "outlinewidth": 0,
              "ticks": ""
             }
            },
            "type": "scatterpolargl"
           }
          ],
          "scatterternary": [
           {
            "marker": {
             "colorbar": {
              "outlinewidth": 0,
              "ticks": ""
             }
            },
            "type": "scatterternary"
           }
          ],
          "surface": [
           {
            "colorbar": {
             "outlinewidth": 0,
             "ticks": ""
            },
            "colorscale": [
             [
              0,
              "#0d0887"
             ],
             [
              0.1111111111111111,
              "#46039f"
             ],
             [
              0.2222222222222222,
              "#7201a8"
             ],
             [
              0.3333333333333333,
              "#9c179e"
             ],
             [
              0.4444444444444444,
              "#bd3786"
             ],
             [
              0.5555555555555556,
              "#d8576b"
             ],
             [
              0.6666666666666666,
              "#ed7953"
             ],
             [
              0.7777777777777778,
              "#fb9f3a"
             ],
             [
              0.8888888888888888,
              "#fdca26"
             ],
             [
              1,
              "#f0f921"
             ]
            ],
            "type": "surface"
           }
          ],
          "table": [
           {
            "cells": {
             "fill": {
              "color": "#EBF0F8"
             },
             "line": {
              "color": "white"
             }
            },
            "header": {
             "fill": {
              "color": "#C8D4E3"
             },
             "line": {
              "color": "white"
             }
            },
            "type": "table"
           }
          ]
         },
         "layout": {
          "annotationdefaults": {
           "arrowcolor": "#2a3f5f",
           "arrowhead": 0,
           "arrowwidth": 1
          },
          "autotypenumbers": "strict",
          "coloraxis": {
           "colorbar": {
            "outlinewidth": 0,
            "ticks": ""
           }
          },
          "colorscale": {
           "diverging": [
            [
             0,
             "#8e0152"
            ],
            [
             0.1,
             "#c51b7d"
            ],
            [
             0.2,
             "#de77ae"
            ],
            [
             0.3,
             "#f1b6da"
            ],
            [
             0.4,
             "#fde0ef"
            ],
            [
             0.5,
             "#f7f7f7"
            ],
            [
             0.6,
             "#e6f5d0"
            ],
            [
             0.7,
             "#b8e186"
            ],
            [
             0.8,
             "#7fbc41"
            ],
            [
             0.9,
             "#4d9221"
            ],
            [
             1,
             "#276419"
            ]
           ],
           "sequential": [
            [
             0,
             "#0d0887"
            ],
            [
             0.1111111111111111,
             "#46039f"
            ],
            [
             0.2222222222222222,
             "#7201a8"
            ],
            [
             0.3333333333333333,
             "#9c179e"
            ],
            [
             0.4444444444444444,
             "#bd3786"
            ],
            [
             0.5555555555555556,
             "#d8576b"
            ],
            [
             0.6666666666666666,
             "#ed7953"
            ],
            [
             0.7777777777777778,
             "#fb9f3a"
            ],
            [
             0.8888888888888888,
             "#fdca26"
            ],
            [
             1,
             "#f0f921"
            ]
           ],
           "sequentialminus": [
            [
             0,
             "#0d0887"
            ],
            [
             0.1111111111111111,
             "#46039f"
            ],
            [
             0.2222222222222222,
             "#7201a8"
            ],
            [
             0.3333333333333333,
             "#9c179e"
            ],
            [
             0.4444444444444444,
             "#bd3786"
            ],
            [
             0.5555555555555556,
             "#d8576b"
            ],
            [
             0.6666666666666666,
             "#ed7953"
            ],
            [
             0.7777777777777778,
             "#fb9f3a"
            ],
            [
             0.8888888888888888,
             "#fdca26"
            ],
            [
             1,
             "#f0f921"
            ]
           ]
          },
          "colorway": [
           "#636efa",
           "#EF553B",
           "#00cc96",
           "#ab63fa",
           "#FFA15A",
           "#19d3f3",
           "#FF6692",
           "#B6E880",
           "#FF97FF",
           "#FECB52"
          ],
          "font": {
           "color": "#2a3f5f"
          },
          "geo": {
           "bgcolor": "white",
           "lakecolor": "white",
           "landcolor": "#E5ECF6",
           "showlakes": true,
           "showland": true,
           "subunitcolor": "white"
          },
          "hoverlabel": {
           "align": "left"
          },
          "hovermode": "closest",
          "mapbox": {
           "style": "light"
          },
          "paper_bgcolor": "white",
          "plot_bgcolor": "#E5ECF6",
          "polar": {
           "angularaxis": {
            "gridcolor": "white",
            "linecolor": "white",
            "ticks": ""
           },
           "bgcolor": "#E5ECF6",
           "radialaxis": {
            "gridcolor": "white",
            "linecolor": "white",
            "ticks": ""
           }
          },
          "scene": {
           "xaxis": {
            "backgroundcolor": "#E5ECF6",
            "gridcolor": "white",
            "gridwidth": 2,
            "linecolor": "white",
            "showbackground": true,
            "ticks": "",
            "zerolinecolor": "white"
           },
           "yaxis": {
            "backgroundcolor": "#E5ECF6",
            "gridcolor": "white",
            "gridwidth": 2,
            "linecolor": "white",
            "showbackground": true,
            "ticks": "",
            "zerolinecolor": "white"
           },
           "zaxis": {
            "backgroundcolor": "#E5ECF6",
            "gridcolor": "white",
            "gridwidth": 2,
            "linecolor": "white",
            "showbackground": true,
            "ticks": "",
            "zerolinecolor": "white"
           }
          },
          "shapedefaults": {
           "line": {
            "color": "#2a3f5f"
           }
          },
          "ternary": {
           "aaxis": {
            "gridcolor": "white",
            "linecolor": "white",
            "ticks": ""
           },
           "baxis": {
            "gridcolor": "white",
            "linecolor": "white",
            "ticks": ""
           },
           "bgcolor": "#E5ECF6",
           "caxis": {
            "gridcolor": "white",
            "linecolor": "white",
            "ticks": ""
           }
          },
          "title": {
           "x": 0.05
          },
          "xaxis": {
           "automargin": true,
           "gridcolor": "white",
           "linecolor": "white",
           "ticks": "",
           "title": {
            "standoff": 15
           },
           "zerolinecolor": "white",
           "zerolinewidth": 2
          },
          "yaxis": {
           "automargin": true,
           "gridcolor": "white",
           "linecolor": "white",
           "ticks": "",
           "title": {
            "standoff": 15
           },
           "zerolinecolor": "white",
           "zerolinewidth": 2
          }
         }
        }
       }
      },
      "text/html": [
       "<div>                            <div id=\"3e1260a5-1202-40cb-bcbd-3dd892b7cea0\" class=\"plotly-graph-div\" style=\"height:525px; width:100%;\"></div>            <script type=\"text/javascript\">                require([\"plotly\"], function(Plotly) {                    window.PLOTLYENV=window.PLOTLYENV || {};                                    if (document.getElementById(\"3e1260a5-1202-40cb-bcbd-3dd892b7cea0\")) {                    Plotly.newPlot(                        \"3e1260a5-1202-40cb-bcbd-3dd892b7cea0\",                        [{\"lat\":[50.875809],\"lon\":[4.70011],\"radius\":10,\"z\":[64.95960209967828],\"type\":\"densitymapbox\"},{\"hovertemplate\":\"Naamsestraat 62\",\"lat\":[50.875809],\"lon\":[4.70011],\"marker\":{\"color\":\"red\",\"opacity\":0.7,\"size\":5},\"mode\":\"markers\",\"showlegend\":false,\"type\":\"scattermapbox\"},{\"lat\":[50.873825],\"lon\":[4.7001178],\"radius\":10,\"z\":[64.95960209967828],\"type\":\"densitymapbox\"},{\"hovertemplate\":\"Naamsestraat 81\",\"lat\":[50.873825],\"lon\":[4.7001178],\"marker\":{\"color\":\"red\",\"opacity\":0.7,\"size\":5},\"mode\":\"markers\",\"showlegend\":false,\"type\":\"scattermapbox\"},{\"lat\":[50.8745267],\"lon\":[4.6999168],\"radius\":10,\"z\":[64.95960209967828],\"type\":\"densitymapbox\"},{\"hovertemplate\":\"Calveriekapel\",\"lat\":[50.8745267],\"lon\":[4.6999168],\"marker\":{\"color\":\"red\",\"opacity\":0.7,\"size\":5},\"mode\":\"markers\",\"showlegend\":false,\"type\":\"scattermapbox\"},{\"lat\":[50.8741177],\"lon\":[4.7000138],\"radius\":10,\"z\":[64.95960209967828],\"type\":\"densitymapbox\"},{\"hovertemplate\":\"Parkstraat 2\",\"lat\":[50.8741177],\"lon\":[4.7000138],\"marker\":{\"color\":\"red\",\"opacity\":0.7,\"size\":5},\"mode\":\"markers\",\"showlegend\":false,\"type\":\"scattermapbox\"}],                        {\"template\":{\"data\":{\"histogram2dcontour\":[{\"type\":\"histogram2dcontour\",\"colorbar\":{\"outlinewidth\":0,\"ticks\":\"\"},\"colorscale\":[[0.0,\"#0d0887\"],[0.1111111111111111,\"#46039f\"],[0.2222222222222222,\"#7201a8\"],[0.3333333333333333,\"#9c179e\"],[0.4444444444444444,\"#bd3786\"],[0.5555555555555556,\"#d8576b\"],[0.6666666666666666,\"#ed7953\"],[0.7777777777777778,\"#fb9f3a\"],[0.8888888888888888,\"#fdca26\"],[1.0,\"#f0f921\"]]}],\"choropleth\":[{\"type\":\"choropleth\",\"colorbar\":{\"outlinewidth\":0,\"ticks\":\"\"}}],\"histogram2d\":[{\"type\":\"histogram2d\",\"colorbar\":{\"outlinewidth\":0,\"ticks\":\"\"},\"colorscale\":[[0.0,\"#0d0887\"],[0.1111111111111111,\"#46039f\"],[0.2222222222222222,\"#7201a8\"],[0.3333333333333333,\"#9c179e\"],[0.4444444444444444,\"#bd3786\"],[0.5555555555555556,\"#d8576b\"],[0.6666666666666666,\"#ed7953\"],[0.7777777777777778,\"#fb9f3a\"],[0.8888888888888888,\"#fdca26\"],[1.0,\"#f0f921\"]]}],\"heatmap\":[{\"type\":\"heatmap\",\"colorbar\":{\"outlinewidth\":0,\"ticks\":\"\"},\"colorscale\":[[0.0,\"#0d0887\"],[0.1111111111111111,\"#46039f\"],[0.2222222222222222,\"#7201a8\"],[0.3333333333333333,\"#9c179e\"],[0.4444444444444444,\"#bd3786\"],[0.5555555555555556,\"#d8576b\"],[0.6666666666666666,\"#ed7953\"],[0.7777777777777778,\"#fb9f3a\"],[0.8888888888888888,\"#fdca26\"],[1.0,\"#f0f921\"]]}],\"heatmapgl\":[{\"type\":\"heatmapgl\",\"colorbar\":{\"outlinewidth\":0,\"ticks\":\"\"},\"colorscale\":[[0.0,\"#0d0887\"],[0.1111111111111111,\"#46039f\"],[0.2222222222222222,\"#7201a8\"],[0.3333333333333333,\"#9c179e\"],[0.4444444444444444,\"#bd3786\"],[0.5555555555555556,\"#d8576b\"],[0.6666666666666666,\"#ed7953\"],[0.7777777777777778,\"#fb9f3a\"],[0.8888888888888888,\"#fdca26\"],[1.0,\"#f0f921\"]]}],\"contourcarpet\":[{\"type\":\"contourcarpet\",\"colorbar\":{\"outlinewidth\":0,\"ticks\":\"\"}}],\"contour\":[{\"type\":\"contour\",\"colorbar\":{\"outlinewidth\":0,\"ticks\":\"\"},\"colorscale\":[[0.0,\"#0d0887\"],[0.1111111111111111,\"#46039f\"],[0.2222222222222222,\"#7201a8\"],[0.3333333333333333,\"#9c179e\"],[0.4444444444444444,\"#bd3786\"],[0.5555555555555556,\"#d8576b\"],[0.6666666666666666,\"#ed7953\"],[0.7777777777777778,\"#fb9f3a\"],[0.8888888888888888,\"#fdca26\"],[1.0,\"#f0f921\"]]}],\"surface\":[{\"type\":\"surface\",\"colorbar\":{\"outlinewidth\":0,\"ticks\":\"\"},\"colorscale\":[[0.0,\"#0d0887\"],[0.1111111111111111,\"#46039f\"],[0.2222222222222222,\"#7201a8\"],[0.3333333333333333,\"#9c179e\"],[0.4444444444444444,\"#bd3786\"],[0.5555555555555556,\"#d8576b\"],[0.6666666666666666,\"#ed7953\"],[0.7777777777777778,\"#fb9f3a\"],[0.8888888888888888,\"#fdca26\"],[1.0,\"#f0f921\"]]}],\"mesh3d\":[{\"type\":\"mesh3d\",\"colorbar\":{\"outlinewidth\":0,\"ticks\":\"\"}}],\"scatter\":[{\"fillpattern\":{\"fillmode\":\"overlay\",\"size\":10,\"solidity\":0.2},\"type\":\"scatter\"}],\"parcoords\":[{\"type\":\"parcoords\",\"line\":{\"colorbar\":{\"outlinewidth\":0,\"ticks\":\"\"}}}],\"scatterpolargl\":[{\"type\":\"scatterpolargl\",\"marker\":{\"colorbar\":{\"outlinewidth\":0,\"ticks\":\"\"}}}],\"bar\":[{\"error_x\":{\"color\":\"#2a3f5f\"},\"error_y\":{\"color\":\"#2a3f5f\"},\"marker\":{\"line\":{\"color\":\"#E5ECF6\",\"width\":0.5},\"pattern\":{\"fillmode\":\"overlay\",\"size\":10,\"solidity\":0.2}},\"type\":\"bar\"}],\"scattergeo\":[{\"type\":\"scattergeo\",\"marker\":{\"colorbar\":{\"outlinewidth\":0,\"ticks\":\"\"}}}],\"scatterpolar\":[{\"type\":\"scatterpolar\",\"marker\":{\"colorbar\":{\"outlinewidth\":0,\"ticks\":\"\"}}}],\"histogram\":[{\"marker\":{\"pattern\":{\"fillmode\":\"overlay\",\"size\":10,\"solidity\":0.2}},\"type\":\"histogram\"}],\"scattergl\":[{\"type\":\"scattergl\",\"marker\":{\"colorbar\":{\"outlinewidth\":0,\"ticks\":\"\"}}}],\"scatter3d\":[{\"type\":\"scatter3d\",\"line\":{\"colorbar\":{\"outlinewidth\":0,\"ticks\":\"\"}},\"marker\":{\"colorbar\":{\"outlinewidth\":0,\"ticks\":\"\"}}}],\"scattermapbox\":[{\"type\":\"scattermapbox\",\"marker\":{\"colorbar\":{\"outlinewidth\":0,\"ticks\":\"\"}}}],\"scatterternary\":[{\"type\":\"scatterternary\",\"marker\":{\"colorbar\":{\"outlinewidth\":0,\"ticks\":\"\"}}}],\"scattercarpet\":[{\"type\":\"scattercarpet\",\"marker\":{\"colorbar\":{\"outlinewidth\":0,\"ticks\":\"\"}}}],\"carpet\":[{\"aaxis\":{\"endlinecolor\":\"#2a3f5f\",\"gridcolor\":\"white\",\"linecolor\":\"white\",\"minorgridcolor\":\"white\",\"startlinecolor\":\"#2a3f5f\"},\"baxis\":{\"endlinecolor\":\"#2a3f5f\",\"gridcolor\":\"white\",\"linecolor\":\"white\",\"minorgridcolor\":\"white\",\"startlinecolor\":\"#2a3f5f\"},\"type\":\"carpet\"}],\"table\":[{\"cells\":{\"fill\":{\"color\":\"#EBF0F8\"},\"line\":{\"color\":\"white\"}},\"header\":{\"fill\":{\"color\":\"#C8D4E3\"},\"line\":{\"color\":\"white\"}},\"type\":\"table\"}],\"barpolar\":[{\"marker\":{\"line\":{\"color\":\"#E5ECF6\",\"width\":0.5},\"pattern\":{\"fillmode\":\"overlay\",\"size\":10,\"solidity\":0.2}},\"type\":\"barpolar\"}],\"pie\":[{\"automargin\":true,\"type\":\"pie\"}]},\"layout\":{\"autotypenumbers\":\"strict\",\"colorway\":[\"#636efa\",\"#EF553B\",\"#00cc96\",\"#ab63fa\",\"#FFA15A\",\"#19d3f3\",\"#FF6692\",\"#B6E880\",\"#FF97FF\",\"#FECB52\"],\"font\":{\"color\":\"#2a3f5f\"},\"hovermode\":\"closest\",\"hoverlabel\":{\"align\":\"left\"},\"paper_bgcolor\":\"white\",\"plot_bgcolor\":\"#E5ECF6\",\"polar\":{\"bgcolor\":\"#E5ECF6\",\"angularaxis\":{\"gridcolor\":\"white\",\"linecolor\":\"white\",\"ticks\":\"\"},\"radialaxis\":{\"gridcolor\":\"white\",\"linecolor\":\"white\",\"ticks\":\"\"}},\"ternary\":{\"bgcolor\":\"#E5ECF6\",\"aaxis\":{\"gridcolor\":\"white\",\"linecolor\":\"white\",\"ticks\":\"\"},\"baxis\":{\"gridcolor\":\"white\",\"linecolor\":\"white\",\"ticks\":\"\"},\"caxis\":{\"gridcolor\":\"white\",\"linecolor\":\"white\",\"ticks\":\"\"}},\"coloraxis\":{\"colorbar\":{\"outlinewidth\":0,\"ticks\":\"\"}},\"colorscale\":{\"sequential\":[[0.0,\"#0d0887\"],[0.1111111111111111,\"#46039f\"],[0.2222222222222222,\"#7201a8\"],[0.3333333333333333,\"#9c179e\"],[0.4444444444444444,\"#bd3786\"],[0.5555555555555556,\"#d8576b\"],[0.6666666666666666,\"#ed7953\"],[0.7777777777777778,\"#fb9f3a\"],[0.8888888888888888,\"#fdca26\"],[1.0,\"#f0f921\"]],\"sequentialminus\":[[0.0,\"#0d0887\"],[0.1111111111111111,\"#46039f\"],[0.2222222222222222,\"#7201a8\"],[0.3333333333333333,\"#9c179e\"],[0.4444444444444444,\"#bd3786\"],[0.5555555555555556,\"#d8576b\"],[0.6666666666666666,\"#ed7953\"],[0.7777777777777778,\"#fb9f3a\"],[0.8888888888888888,\"#fdca26\"],[1.0,\"#f0f921\"]],\"diverging\":[[0,\"#8e0152\"],[0.1,\"#c51b7d\"],[0.2,\"#de77ae\"],[0.3,\"#f1b6da\"],[0.4,\"#fde0ef\"],[0.5,\"#f7f7f7\"],[0.6,\"#e6f5d0\"],[0.7,\"#b8e186\"],[0.8,\"#7fbc41\"],[0.9,\"#4d9221\"],[1,\"#276419\"]]},\"xaxis\":{\"gridcolor\":\"white\",\"linecolor\":\"white\",\"ticks\":\"\",\"title\":{\"standoff\":15},\"zerolinecolor\":\"white\",\"automargin\":true,\"zerolinewidth\":2},\"yaxis\":{\"gridcolor\":\"white\",\"linecolor\":\"white\",\"ticks\":\"\",\"title\":{\"standoff\":15},\"zerolinecolor\":\"white\",\"automargin\":true,\"zerolinewidth\":2},\"scene\":{\"xaxis\":{\"backgroundcolor\":\"#E5ECF6\",\"gridcolor\":\"white\",\"linecolor\":\"white\",\"showbackground\":true,\"ticks\":\"\",\"zerolinecolor\":\"white\",\"gridwidth\":2},\"yaxis\":{\"backgroundcolor\":\"#E5ECF6\",\"gridcolor\":\"white\",\"linecolor\":\"white\",\"showbackground\":true,\"ticks\":\"\",\"zerolinecolor\":\"white\",\"gridwidth\":2},\"zaxis\":{\"backgroundcolor\":\"#E5ECF6\",\"gridcolor\":\"white\",\"linecolor\":\"white\",\"showbackground\":true,\"ticks\":\"\",\"zerolinecolor\":\"white\",\"gridwidth\":2}},\"shapedefaults\":{\"line\":{\"color\":\"#2a3f5f\"}},\"annotationdefaults\":{\"arrowcolor\":\"#2a3f5f\",\"arrowhead\":0,\"arrowwidth\":1},\"geo\":{\"bgcolor\":\"white\",\"landcolor\":\"#E5ECF6\",\"subunitcolor\":\"white\",\"showland\":true,\"showlakes\":true,\"lakecolor\":\"white\"},\"title\":{\"x\":0.05},\"mapbox\":{\"style\":\"light\"}}},\"mapbox\":{\"center\":{\"lon\":4.700039704453442,\"lat\":50.87457142955465},\"style\":\"stamen-terrain\",\"zoom\":15},\"margin\":{\"r\":0,\"t\":0,\"l\":0,\"b\":0}},                        {\"responsive\": true}                    ).then(function(){\n",
       "                            \n",
       "var gd = document.getElementById('3e1260a5-1202-40cb-bcbd-3dd892b7cea0');\n",
       "var x = new MutationObserver(function (mutations, observer) {{\n",
       "        var display = window.getComputedStyle(gd).display;\n",
       "        if (!display || display === 'none') {{\n",
       "            console.log([gd, 'removed!']);\n",
       "            Plotly.purge(gd);\n",
       "            observer.disconnect();\n",
       "        }}\n",
       "}});\n",
       "\n",
       "// Listen for the removal of the full notebook cells\n",
       "var notebookContainer = gd.closest('#notebook-container');\n",
       "if (notebookContainer) {{\n",
       "    x.observe(notebookContainer, {childList: true});\n",
       "}}\n",
       "\n",
       "// Listen for the clearing of the current output cell\n",
       "var outputEl = gd.closest('.output');\n",
       "if (outputEl) {{\n",
       "    x.observe(outputEl, {childList: true});\n",
       "}}\n",
       "\n",
       "                        })                };                });            </script>        </div>"
      ]
     },
     "metadata": {},
     "output_type": "display_data"
    }
   ],
   "source": [
    "#Lcpeak\n",
    "\n",
    "import plotly.graph_objects as go\n",
    "\n",
    "fig = go.Figure()\n",
    "\n",
    "# Add density mapbox trace\n",
    "fig.add_trace(\n",
    "    go.Densitymapbox(\n",
    "        lat=[50.875809],\n",
    "        lon=[4.700110],\n",
    "        z=selected_naamsestraat62_hour_lcpeak_df.hourly_lcpeak_avg,\n",
    "        radius=10\n",
    "    )\n",
    ")\n",
    "\n",
    "# Add scattermapbox trace for individual markers\n",
    "fig.add_trace(\n",
    "    go.Scattermapbox(\n",
    "        lat=[50.875809],\n",
    "        lon=[4.700110],\n",
    "        mode='markers',\n",
    "        marker=dict(\n",
    "            size=5,\n",
    "            color='red',\n",
    "            opacity=0.7\n",
    "        ),\n",
    "        hovertemplate=\"Naamsestraat 62\",\n",
    "        showlegend = False\n",
    "    )\n",
    ")\n",
    "\n",
    "# Add density mapbox trace\n",
    "fig.add_trace(\n",
    "    go.Densitymapbox(\n",
    "        lat=[50.8738250],\n",
    "        lon=[4.7001178],\n",
    "        z=selected_naamsestraat81_hour_lcpeak_df.hourly_lcpeak_avg,\n",
    "        radius=10\n",
    "    )\n",
    ")\n",
    "\n",
    "# Add scattermapbox trace for individual markers\n",
    "fig.add_trace(\n",
    "    go.Scattermapbox(\n",
    "        lat=[50.8738250],\n",
    "        lon=[4.7001178],\n",
    "        mode='markers',\n",
    "        marker=dict(\n",
    "            size=5,\n",
    "            color='red',\n",
    "            opacity=0.7\n",
    "        ),\n",
    "        hovertemplate=\"Naamsestraat 81\",\n",
    "        showlegend = False\n",
    "    )\n",
    ")\n",
    "\n",
    "# Add density mapbox trace\n",
    "fig.add_trace(\n",
    "    go.Densitymapbox(\n",
    "        lat=[50.8745267],\n",
    "        lon=[4.6999168],\n",
    "        z=selected_calveriekapel_hour_lcpeak_df.hourly_lcpeak_avg,\n",
    "        radius=10\n",
    "    )\n",
    ")\n",
    "\n",
    "# Add scattermapbox trace for individual markers\n",
    "fig.add_trace(\n",
    "    go.Scattermapbox(\n",
    "        lat=[50.8745267],\n",
    "        lon=[4.6999168],\n",
    "        mode='markers',\n",
    "        marker=dict(\n",
    "            size=5,\n",
    "            color='red',\n",
    "            opacity=0.7\n",
    "        ),\n",
    "        hovertemplate=\"Calveriekapel\",\n",
    "        showlegend = False\n",
    "    )\n",
    ")\n",
    "\n",
    "# Add density mapbox trace\n",
    "fig.add_trace(\n",
    "    go.Densitymapbox(\n",
    "        lat=[50.8741177],\n",
    "        lon=[4.7000138],\n",
    "        z=selected_parkstraat2_hour_lcpeak_df.hourly_lcpeak_avg,\n",
    "        radius=10\n",
    "    )\n",
    ")\n",
    "\n",
    "# Add scattermapbox trace for individual markers\n",
    "fig.add_trace(\n",
    "    go.Scattermapbox(\n",
    "        lat=[50.8741177],\n",
    "        lon=[4.7000138],\n",
    "        mode='markers',\n",
    "        marker=dict(\n",
    "            size=5,\n",
    "            color='red',\n",
    "            opacity=0.7\n",
    "        ),\n",
    "        hovertemplate=\"Parkstraat 2\",\n",
    "        showlegend = False\n",
    "    )\n",
    ")\n",
    "\n",
    "fig.update_layout(\n",
    "    mapbox_style=\"stamen-terrain\",\n",
    "    mapbox_center={\"lon\": 180},\n",
    "    margin={\"r\": 0, \"t\": 0, \"l\": 0, \"b\": 0},\n",
    "    mapbox={\n",
    "        'zoom': 15,\n",
    "        'center': {'lon': aggregated_data.long.mean(), 'lat': aggregated_data.lat.mean()}\n",
    "    }\n",
    ")\n",
    "\n",
    "fig.show()\n"
   ]
  },
  {
   "cell_type": "code",
   "execution_count": 120,
   "id": "138bd805",
   "metadata": {},
   "outputs": [
    {
     "data": {
      "application/vnd.plotly.v1+json": {
       "config": {
        "plotlyServerURL": "https://plot.ly"
       },
       "data": [
        {
         "lat": [
          50.875809
         ],
         "lon": [
          4.70011
         ],
         "radius": 10,
         "type": "densitymapbox",
         "z": [
          42.12939797934188
         ]
        },
        {
         "hovertemplate": "Naamsestraat 62",
         "lat": [
          50.875809
         ],
         "lon": [
          4.70011
         ],
         "marker": {
          "color": "red",
          "opacity": 0.7,
          "size": 5
         },
         "mode": "markers",
         "showlegend": false,
         "type": "scattermapbox"
        },
        {
         "lat": [
          50.873825
         ],
         "lon": [
          4.7001178
         ],
         "radius": 10,
         "type": "densitymapbox",
         "z": [
          42.12939797934188
         ]
        },
        {
         "hovertemplate": "Naamsestraat 81",
         "lat": [
          50.873825
         ],
         "lon": [
          4.7001178
         ],
         "marker": {
          "color": "red",
          "opacity": 0.7,
          "size": 5
         },
         "mode": "markers",
         "showlegend": false,
         "type": "scattermapbox"
        },
        {
         "lat": [
          50.8745267
         ],
         "lon": [
          4.6999168
         ],
         "radius": 10,
         "type": "densitymapbox",
         "z": [
          42.12939797934188
         ]
        },
        {
         "hovertemplate": "Calveriekapel",
         "lat": [
          50.8745267
         ],
         "lon": [
          4.6999168
         ],
         "marker": {
          "color": "red",
          "opacity": 0.7,
          "size": 5
         },
         "mode": "markers",
         "showlegend": false,
         "type": "scattermapbox"
        },
        {
         "lat": [
          50.8741177
         ],
         "lon": [
          4.7000138
         ],
         "radius": 10,
         "type": "densitymapbox",
         "z": [
          42.12939797934188
         ]
        },
        {
         "hovertemplate": "Parkstraat 2",
         "lat": [
          50.8741177
         ],
         "lon": [
          4.7000138
         ],
         "marker": {
          "color": "red",
          "opacity": 0.7,
          "size": 5
         },
         "mode": "markers",
         "showlegend": false,
         "type": "scattermapbox"
        }
       ],
       "layout": {
        "mapbox": {
         "center": {
          "lat": 50.87457142955465,
          "lon": 4.700039704453442
         },
         "style": "stamen-terrain",
         "zoom": 15
        },
        "margin": {
         "b": 0,
         "l": 0,
         "r": 0,
         "t": 0
        },
        "template": {
         "data": {
          "bar": [
           {
            "error_x": {
             "color": "#2a3f5f"
            },
            "error_y": {
             "color": "#2a3f5f"
            },
            "marker": {
             "line": {
              "color": "#E5ECF6",
              "width": 0.5
             },
             "pattern": {
              "fillmode": "overlay",
              "size": 10,
              "solidity": 0.2
             }
            },
            "type": "bar"
           }
          ],
          "barpolar": [
           {
            "marker": {
             "line": {
              "color": "#E5ECF6",
              "width": 0.5
             },
             "pattern": {
              "fillmode": "overlay",
              "size": 10,
              "solidity": 0.2
             }
            },
            "type": "barpolar"
           }
          ],
          "carpet": [
           {
            "aaxis": {
             "endlinecolor": "#2a3f5f",
             "gridcolor": "white",
             "linecolor": "white",
             "minorgridcolor": "white",
             "startlinecolor": "#2a3f5f"
            },
            "baxis": {
             "endlinecolor": "#2a3f5f",
             "gridcolor": "white",
             "linecolor": "white",
             "minorgridcolor": "white",
             "startlinecolor": "#2a3f5f"
            },
            "type": "carpet"
           }
          ],
          "choropleth": [
           {
            "colorbar": {
             "outlinewidth": 0,
             "ticks": ""
            },
            "type": "choropleth"
           }
          ],
          "contour": [
           {
            "colorbar": {
             "outlinewidth": 0,
             "ticks": ""
            },
            "colorscale": [
             [
              0,
              "#0d0887"
             ],
             [
              0.1111111111111111,
              "#46039f"
             ],
             [
              0.2222222222222222,
              "#7201a8"
             ],
             [
              0.3333333333333333,
              "#9c179e"
             ],
             [
              0.4444444444444444,
              "#bd3786"
             ],
             [
              0.5555555555555556,
              "#d8576b"
             ],
             [
              0.6666666666666666,
              "#ed7953"
             ],
             [
              0.7777777777777778,
              "#fb9f3a"
             ],
             [
              0.8888888888888888,
              "#fdca26"
             ],
             [
              1,
              "#f0f921"
             ]
            ],
            "type": "contour"
           }
          ],
          "contourcarpet": [
           {
            "colorbar": {
             "outlinewidth": 0,
             "ticks": ""
            },
            "type": "contourcarpet"
           }
          ],
          "heatmap": [
           {
            "colorbar": {
             "outlinewidth": 0,
             "ticks": ""
            },
            "colorscale": [
             [
              0,
              "#0d0887"
             ],
             [
              0.1111111111111111,
              "#46039f"
             ],
             [
              0.2222222222222222,
              "#7201a8"
             ],
             [
              0.3333333333333333,
              "#9c179e"
             ],
             [
              0.4444444444444444,
              "#bd3786"
             ],
             [
              0.5555555555555556,
              "#d8576b"
             ],
             [
              0.6666666666666666,
              "#ed7953"
             ],
             [
              0.7777777777777778,
              "#fb9f3a"
             ],
             [
              0.8888888888888888,
              "#fdca26"
             ],
             [
              1,
              "#f0f921"
             ]
            ],
            "type": "heatmap"
           }
          ],
          "heatmapgl": [
           {
            "colorbar": {
             "outlinewidth": 0,
             "ticks": ""
            },
            "colorscale": [
             [
              0,
              "#0d0887"
             ],
             [
              0.1111111111111111,
              "#46039f"
             ],
             [
              0.2222222222222222,
              "#7201a8"
             ],
             [
              0.3333333333333333,
              "#9c179e"
             ],
             [
              0.4444444444444444,
              "#bd3786"
             ],
             [
              0.5555555555555556,
              "#d8576b"
             ],
             [
              0.6666666666666666,
              "#ed7953"
             ],
             [
              0.7777777777777778,
              "#fb9f3a"
             ],
             [
              0.8888888888888888,
              "#fdca26"
             ],
             [
              1,
              "#f0f921"
             ]
            ],
            "type": "heatmapgl"
           }
          ],
          "histogram": [
           {
            "marker": {
             "pattern": {
              "fillmode": "overlay",
              "size": 10,
              "solidity": 0.2
             }
            },
            "type": "histogram"
           }
          ],
          "histogram2d": [
           {
            "colorbar": {
             "outlinewidth": 0,
             "ticks": ""
            },
            "colorscale": [
             [
              0,
              "#0d0887"
             ],
             [
              0.1111111111111111,
              "#46039f"
             ],
             [
              0.2222222222222222,
              "#7201a8"
             ],
             [
              0.3333333333333333,
              "#9c179e"
             ],
             [
              0.4444444444444444,
              "#bd3786"
             ],
             [
              0.5555555555555556,
              "#d8576b"
             ],
             [
              0.6666666666666666,
              "#ed7953"
             ],
             [
              0.7777777777777778,
              "#fb9f3a"
             ],
             [
              0.8888888888888888,
              "#fdca26"
             ],
             [
              1,
              "#f0f921"
             ]
            ],
            "type": "histogram2d"
           }
          ],
          "histogram2dcontour": [
           {
            "colorbar": {
             "outlinewidth": 0,
             "ticks": ""
            },
            "colorscale": [
             [
              0,
              "#0d0887"
             ],
             [
              0.1111111111111111,
              "#46039f"
             ],
             [
              0.2222222222222222,
              "#7201a8"
             ],
             [
              0.3333333333333333,
              "#9c179e"
             ],
             [
              0.4444444444444444,
              "#bd3786"
             ],
             [
              0.5555555555555556,
              "#d8576b"
             ],
             [
              0.6666666666666666,
              "#ed7953"
             ],
             [
              0.7777777777777778,
              "#fb9f3a"
             ],
             [
              0.8888888888888888,
              "#fdca26"
             ],
             [
              1,
              "#f0f921"
             ]
            ],
            "type": "histogram2dcontour"
           }
          ],
          "mesh3d": [
           {
            "colorbar": {
             "outlinewidth": 0,
             "ticks": ""
            },
            "type": "mesh3d"
           }
          ],
          "parcoords": [
           {
            "line": {
             "colorbar": {
              "outlinewidth": 0,
              "ticks": ""
             }
            },
            "type": "parcoords"
           }
          ],
          "pie": [
           {
            "automargin": true,
            "type": "pie"
           }
          ],
          "scatter": [
           {
            "fillpattern": {
             "fillmode": "overlay",
             "size": 10,
             "solidity": 0.2
            },
            "type": "scatter"
           }
          ],
          "scatter3d": [
           {
            "line": {
             "colorbar": {
              "outlinewidth": 0,
              "ticks": ""
             }
            },
            "marker": {
             "colorbar": {
              "outlinewidth": 0,
              "ticks": ""
             }
            },
            "type": "scatter3d"
           }
          ],
          "scattercarpet": [
           {
            "marker": {
             "colorbar": {
              "outlinewidth": 0,
              "ticks": ""
             }
            },
            "type": "scattercarpet"
           }
          ],
          "scattergeo": [
           {
            "marker": {
             "colorbar": {
              "outlinewidth": 0,
              "ticks": ""
             }
            },
            "type": "scattergeo"
           }
          ],
          "scattergl": [
           {
            "marker": {
             "colorbar": {
              "outlinewidth": 0,
              "ticks": ""
             }
            },
            "type": "scattergl"
           }
          ],
          "scattermapbox": [
           {
            "marker": {
             "colorbar": {
              "outlinewidth": 0,
              "ticks": ""
             }
            },
            "type": "scattermapbox"
           }
          ],
          "scatterpolar": [
           {
            "marker": {
             "colorbar": {
              "outlinewidth": 0,
              "ticks": ""
             }
            },
            "type": "scatterpolar"
           }
          ],
          "scatterpolargl": [
           {
            "marker": {
             "colorbar": {
              "outlinewidth": 0,
              "ticks": ""
             }
            },
            "type": "scatterpolargl"
           }
          ],
          "scatterternary": [
           {
            "marker": {
             "colorbar": {
              "outlinewidth": 0,
              "ticks": ""
             }
            },
            "type": "scatterternary"
           }
          ],
          "surface": [
           {
            "colorbar": {
             "outlinewidth": 0,
             "ticks": ""
            },
            "colorscale": [
             [
              0,
              "#0d0887"
             ],
             [
              0.1111111111111111,
              "#46039f"
             ],
             [
              0.2222222222222222,
              "#7201a8"
             ],
             [
              0.3333333333333333,
              "#9c179e"
             ],
             [
              0.4444444444444444,
              "#bd3786"
             ],
             [
              0.5555555555555556,
              "#d8576b"
             ],
             [
              0.6666666666666666,
              "#ed7953"
             ],
             [
              0.7777777777777778,
              "#fb9f3a"
             ],
             [
              0.8888888888888888,
              "#fdca26"
             ],
             [
              1,
              "#f0f921"
             ]
            ],
            "type": "surface"
           }
          ],
          "table": [
           {
            "cells": {
             "fill": {
              "color": "#EBF0F8"
             },
             "line": {
              "color": "white"
             }
            },
            "header": {
             "fill": {
              "color": "#C8D4E3"
             },
             "line": {
              "color": "white"
             }
            },
            "type": "table"
           }
          ]
         },
         "layout": {
          "annotationdefaults": {
           "arrowcolor": "#2a3f5f",
           "arrowhead": 0,
           "arrowwidth": 1
          },
          "autotypenumbers": "strict",
          "coloraxis": {
           "colorbar": {
            "outlinewidth": 0,
            "ticks": ""
           }
          },
          "colorscale": {
           "diverging": [
            [
             0,
             "#8e0152"
            ],
            [
             0.1,
             "#c51b7d"
            ],
            [
             0.2,
             "#de77ae"
            ],
            [
             0.3,
             "#f1b6da"
            ],
            [
             0.4,
             "#fde0ef"
            ],
            [
             0.5,
             "#f7f7f7"
            ],
            [
             0.6,
             "#e6f5d0"
            ],
            [
             0.7,
             "#b8e186"
            ],
            [
             0.8,
             "#7fbc41"
            ],
            [
             0.9,
             "#4d9221"
            ],
            [
             1,
             "#276419"
            ]
           ],
           "sequential": [
            [
             0,
             "#0d0887"
            ],
            [
             0.1111111111111111,
             "#46039f"
            ],
            [
             0.2222222222222222,
             "#7201a8"
            ],
            [
             0.3333333333333333,
             "#9c179e"
            ],
            [
             0.4444444444444444,
             "#bd3786"
            ],
            [
             0.5555555555555556,
             "#d8576b"
            ],
            [
             0.6666666666666666,
             "#ed7953"
            ],
            [
             0.7777777777777778,
             "#fb9f3a"
            ],
            [
             0.8888888888888888,
             "#fdca26"
            ],
            [
             1,
             "#f0f921"
            ]
           ],
           "sequentialminus": [
            [
             0,
             "#0d0887"
            ],
            [
             0.1111111111111111,
             "#46039f"
            ],
            [
             0.2222222222222222,
             "#7201a8"
            ],
            [
             0.3333333333333333,
             "#9c179e"
            ],
            [
             0.4444444444444444,
             "#bd3786"
            ],
            [
             0.5555555555555556,
             "#d8576b"
            ],
            [
             0.6666666666666666,
             "#ed7953"
            ],
            [
             0.7777777777777778,
             "#fb9f3a"
            ],
            [
             0.8888888888888888,
             "#fdca26"
            ],
            [
             1,
             "#f0f921"
            ]
           ]
          },
          "colorway": [
           "#636efa",
           "#EF553B",
           "#00cc96",
           "#ab63fa",
           "#FFA15A",
           "#19d3f3",
           "#FF6692",
           "#B6E880",
           "#FF97FF",
           "#FECB52"
          ],
          "font": {
           "color": "#2a3f5f"
          },
          "geo": {
           "bgcolor": "white",
           "lakecolor": "white",
           "landcolor": "#E5ECF6",
           "showlakes": true,
           "showland": true,
           "subunitcolor": "white"
          },
          "hoverlabel": {
           "align": "left"
          },
          "hovermode": "closest",
          "mapbox": {
           "style": "light"
          },
          "paper_bgcolor": "white",
          "plot_bgcolor": "#E5ECF6",
          "polar": {
           "angularaxis": {
            "gridcolor": "white",
            "linecolor": "white",
            "ticks": ""
           },
           "bgcolor": "#E5ECF6",
           "radialaxis": {
            "gridcolor": "white",
            "linecolor": "white",
            "ticks": ""
           }
          },
          "scene": {
           "xaxis": {
            "backgroundcolor": "#E5ECF6",
            "gridcolor": "white",
            "gridwidth": 2,
            "linecolor": "white",
            "showbackground": true,
            "ticks": "",
            "zerolinecolor": "white"
           },
           "yaxis": {
            "backgroundcolor": "#E5ECF6",
            "gridcolor": "white",
            "gridwidth": 2,
            "linecolor": "white",
            "showbackground": true,
            "ticks": "",
            "zerolinecolor": "white"
           },
           "zaxis": {
            "backgroundcolor": "#E5ECF6",
            "gridcolor": "white",
            "gridwidth": 2,
            "linecolor": "white",
            "showbackground": true,
            "ticks": "",
            "zerolinecolor": "white"
           }
          },
          "shapedefaults": {
           "line": {
            "color": "#2a3f5f"
           }
          },
          "ternary": {
           "aaxis": {
            "gridcolor": "white",
            "linecolor": "white",
            "ticks": ""
           },
           "baxis": {
            "gridcolor": "white",
            "linecolor": "white",
            "ticks": ""
           },
           "bgcolor": "#E5ECF6",
           "caxis": {
            "gridcolor": "white",
            "linecolor": "white",
            "ticks": ""
           }
          },
          "title": {
           "x": 0.05
          },
          "xaxis": {
           "automargin": true,
           "gridcolor": "white",
           "linecolor": "white",
           "ticks": "",
           "title": {
            "standoff": 15
           },
           "zerolinecolor": "white",
           "zerolinewidth": 2
          },
          "yaxis": {
           "automargin": true,
           "gridcolor": "white",
           "linecolor": "white",
           "ticks": "",
           "title": {
            "standoff": 15
           },
           "zerolinecolor": "white",
           "zerolinewidth": 2
          }
         }
        }
       }
      },
      "text/html": [
       "<div>                            <div id=\"9a76c5c1-2561-425c-8d22-4f01a3ab2f31\" class=\"plotly-graph-div\" style=\"height:525px; width:100%;\"></div>            <script type=\"text/javascript\">                require([\"plotly\"], function(Plotly) {                    window.PLOTLYENV=window.PLOTLYENV || {};                                    if (document.getElementById(\"9a76c5c1-2561-425c-8d22-4f01a3ab2f31\")) {                    Plotly.newPlot(                        \"9a76c5c1-2561-425c-8d22-4f01a3ab2f31\",                        [{\"lat\":[50.875809],\"lon\":[4.70011],\"radius\":10,\"z\":[42.12939797934188],\"type\":\"densitymapbox\"},{\"hovertemplate\":\"Naamsestraat 62\",\"lat\":[50.875809],\"lon\":[4.70011],\"marker\":{\"color\":\"red\",\"opacity\":0.7,\"size\":5},\"mode\":\"markers\",\"showlegend\":false,\"type\":\"scattermapbox\"},{\"lat\":[50.873825],\"lon\":[4.7001178],\"radius\":10,\"z\":[42.12939797934188],\"type\":\"densitymapbox\"},{\"hovertemplate\":\"Naamsestraat 81\",\"lat\":[50.873825],\"lon\":[4.7001178],\"marker\":{\"color\":\"red\",\"opacity\":0.7,\"size\":5},\"mode\":\"markers\",\"showlegend\":false,\"type\":\"scattermapbox\"},{\"lat\":[50.8745267],\"lon\":[4.6999168],\"radius\":10,\"z\":[42.12939797934188],\"type\":\"densitymapbox\"},{\"hovertemplate\":\"Calveriekapel\",\"lat\":[50.8745267],\"lon\":[4.6999168],\"marker\":{\"color\":\"red\",\"opacity\":0.7,\"size\":5},\"mode\":\"markers\",\"showlegend\":false,\"type\":\"scattermapbox\"},{\"lat\":[50.8741177],\"lon\":[4.7000138],\"radius\":10,\"z\":[42.12939797934188],\"type\":\"densitymapbox\"},{\"hovertemplate\":\"Parkstraat 2\",\"lat\":[50.8741177],\"lon\":[4.7000138],\"marker\":{\"color\":\"red\",\"opacity\":0.7,\"size\":5},\"mode\":\"markers\",\"showlegend\":false,\"type\":\"scattermapbox\"}],                        {\"template\":{\"data\":{\"histogram2dcontour\":[{\"type\":\"histogram2dcontour\",\"colorbar\":{\"outlinewidth\":0,\"ticks\":\"\"},\"colorscale\":[[0.0,\"#0d0887\"],[0.1111111111111111,\"#46039f\"],[0.2222222222222222,\"#7201a8\"],[0.3333333333333333,\"#9c179e\"],[0.4444444444444444,\"#bd3786\"],[0.5555555555555556,\"#d8576b\"],[0.6666666666666666,\"#ed7953\"],[0.7777777777777778,\"#fb9f3a\"],[0.8888888888888888,\"#fdca26\"],[1.0,\"#f0f921\"]]}],\"choropleth\":[{\"type\":\"choropleth\",\"colorbar\":{\"outlinewidth\":0,\"ticks\":\"\"}}],\"histogram2d\":[{\"type\":\"histogram2d\",\"colorbar\":{\"outlinewidth\":0,\"ticks\":\"\"},\"colorscale\":[[0.0,\"#0d0887\"],[0.1111111111111111,\"#46039f\"],[0.2222222222222222,\"#7201a8\"],[0.3333333333333333,\"#9c179e\"],[0.4444444444444444,\"#bd3786\"],[0.5555555555555556,\"#d8576b\"],[0.6666666666666666,\"#ed7953\"],[0.7777777777777778,\"#fb9f3a\"],[0.8888888888888888,\"#fdca26\"],[1.0,\"#f0f921\"]]}],\"heatmap\":[{\"type\":\"heatmap\",\"colorbar\":{\"outlinewidth\":0,\"ticks\":\"\"},\"colorscale\":[[0.0,\"#0d0887\"],[0.1111111111111111,\"#46039f\"],[0.2222222222222222,\"#7201a8\"],[0.3333333333333333,\"#9c179e\"],[0.4444444444444444,\"#bd3786\"],[0.5555555555555556,\"#d8576b\"],[0.6666666666666666,\"#ed7953\"],[0.7777777777777778,\"#fb9f3a\"],[0.8888888888888888,\"#fdca26\"],[1.0,\"#f0f921\"]]}],\"heatmapgl\":[{\"type\":\"heatmapgl\",\"colorbar\":{\"outlinewidth\":0,\"ticks\":\"\"},\"colorscale\":[[0.0,\"#0d0887\"],[0.1111111111111111,\"#46039f\"],[0.2222222222222222,\"#7201a8\"],[0.3333333333333333,\"#9c179e\"],[0.4444444444444444,\"#bd3786\"],[0.5555555555555556,\"#d8576b\"],[0.6666666666666666,\"#ed7953\"],[0.7777777777777778,\"#fb9f3a\"],[0.8888888888888888,\"#fdca26\"],[1.0,\"#f0f921\"]]}],\"contourcarpet\":[{\"type\":\"contourcarpet\",\"colorbar\":{\"outlinewidth\":0,\"ticks\":\"\"}}],\"contour\":[{\"type\":\"contour\",\"colorbar\":{\"outlinewidth\":0,\"ticks\":\"\"},\"colorscale\":[[0.0,\"#0d0887\"],[0.1111111111111111,\"#46039f\"],[0.2222222222222222,\"#7201a8\"],[0.3333333333333333,\"#9c179e\"],[0.4444444444444444,\"#bd3786\"],[0.5555555555555556,\"#d8576b\"],[0.6666666666666666,\"#ed7953\"],[0.7777777777777778,\"#fb9f3a\"],[0.8888888888888888,\"#fdca26\"],[1.0,\"#f0f921\"]]}],\"surface\":[{\"type\":\"surface\",\"colorbar\":{\"outlinewidth\":0,\"ticks\":\"\"},\"colorscale\":[[0.0,\"#0d0887\"],[0.1111111111111111,\"#46039f\"],[0.2222222222222222,\"#7201a8\"],[0.3333333333333333,\"#9c179e\"],[0.4444444444444444,\"#bd3786\"],[0.5555555555555556,\"#d8576b\"],[0.6666666666666666,\"#ed7953\"],[0.7777777777777778,\"#fb9f3a\"],[0.8888888888888888,\"#fdca26\"],[1.0,\"#f0f921\"]]}],\"mesh3d\":[{\"type\":\"mesh3d\",\"colorbar\":{\"outlinewidth\":0,\"ticks\":\"\"}}],\"scatter\":[{\"fillpattern\":{\"fillmode\":\"overlay\",\"size\":10,\"solidity\":0.2},\"type\":\"scatter\"}],\"parcoords\":[{\"type\":\"parcoords\",\"line\":{\"colorbar\":{\"outlinewidth\":0,\"ticks\":\"\"}}}],\"scatterpolargl\":[{\"type\":\"scatterpolargl\",\"marker\":{\"colorbar\":{\"outlinewidth\":0,\"ticks\":\"\"}}}],\"bar\":[{\"error_x\":{\"color\":\"#2a3f5f\"},\"error_y\":{\"color\":\"#2a3f5f\"},\"marker\":{\"line\":{\"color\":\"#E5ECF6\",\"width\":0.5},\"pattern\":{\"fillmode\":\"overlay\",\"size\":10,\"solidity\":0.2}},\"type\":\"bar\"}],\"scattergeo\":[{\"type\":\"scattergeo\",\"marker\":{\"colorbar\":{\"outlinewidth\":0,\"ticks\":\"\"}}}],\"scatterpolar\":[{\"type\":\"scatterpolar\",\"marker\":{\"colorbar\":{\"outlinewidth\":0,\"ticks\":\"\"}}}],\"histogram\":[{\"marker\":{\"pattern\":{\"fillmode\":\"overlay\",\"size\":10,\"solidity\":0.2}},\"type\":\"histogram\"}],\"scattergl\":[{\"type\":\"scattergl\",\"marker\":{\"colorbar\":{\"outlinewidth\":0,\"ticks\":\"\"}}}],\"scatter3d\":[{\"type\":\"scatter3d\",\"line\":{\"colorbar\":{\"outlinewidth\":0,\"ticks\":\"\"}},\"marker\":{\"colorbar\":{\"outlinewidth\":0,\"ticks\":\"\"}}}],\"scattermapbox\":[{\"type\":\"scattermapbox\",\"marker\":{\"colorbar\":{\"outlinewidth\":0,\"ticks\":\"\"}}}],\"scatterternary\":[{\"type\":\"scatterternary\",\"marker\":{\"colorbar\":{\"outlinewidth\":0,\"ticks\":\"\"}}}],\"scattercarpet\":[{\"type\":\"scattercarpet\",\"marker\":{\"colorbar\":{\"outlinewidth\":0,\"ticks\":\"\"}}}],\"carpet\":[{\"aaxis\":{\"endlinecolor\":\"#2a3f5f\",\"gridcolor\":\"white\",\"linecolor\":\"white\",\"minorgridcolor\":\"white\",\"startlinecolor\":\"#2a3f5f\"},\"baxis\":{\"endlinecolor\":\"#2a3f5f\",\"gridcolor\":\"white\",\"linecolor\":\"white\",\"minorgridcolor\":\"white\",\"startlinecolor\":\"#2a3f5f\"},\"type\":\"carpet\"}],\"table\":[{\"cells\":{\"fill\":{\"color\":\"#EBF0F8\"},\"line\":{\"color\":\"white\"}},\"header\":{\"fill\":{\"color\":\"#C8D4E3\"},\"line\":{\"color\":\"white\"}},\"type\":\"table\"}],\"barpolar\":[{\"marker\":{\"line\":{\"color\":\"#E5ECF6\",\"width\":0.5},\"pattern\":{\"fillmode\":\"overlay\",\"size\":10,\"solidity\":0.2}},\"type\":\"barpolar\"}],\"pie\":[{\"automargin\":true,\"type\":\"pie\"}]},\"layout\":{\"autotypenumbers\":\"strict\",\"colorway\":[\"#636efa\",\"#EF553B\",\"#00cc96\",\"#ab63fa\",\"#FFA15A\",\"#19d3f3\",\"#FF6692\",\"#B6E880\",\"#FF97FF\",\"#FECB52\"],\"font\":{\"color\":\"#2a3f5f\"},\"hovermode\":\"closest\",\"hoverlabel\":{\"align\":\"left\"},\"paper_bgcolor\":\"white\",\"plot_bgcolor\":\"#E5ECF6\",\"polar\":{\"bgcolor\":\"#E5ECF6\",\"angularaxis\":{\"gridcolor\":\"white\",\"linecolor\":\"white\",\"ticks\":\"\"},\"radialaxis\":{\"gridcolor\":\"white\",\"linecolor\":\"white\",\"ticks\":\"\"}},\"ternary\":{\"bgcolor\":\"#E5ECF6\",\"aaxis\":{\"gridcolor\":\"white\",\"linecolor\":\"white\",\"ticks\":\"\"},\"baxis\":{\"gridcolor\":\"white\",\"linecolor\":\"white\",\"ticks\":\"\"},\"caxis\":{\"gridcolor\":\"white\",\"linecolor\":\"white\",\"ticks\":\"\"}},\"coloraxis\":{\"colorbar\":{\"outlinewidth\":0,\"ticks\":\"\"}},\"colorscale\":{\"sequential\":[[0.0,\"#0d0887\"],[0.1111111111111111,\"#46039f\"],[0.2222222222222222,\"#7201a8\"],[0.3333333333333333,\"#9c179e\"],[0.4444444444444444,\"#bd3786\"],[0.5555555555555556,\"#d8576b\"],[0.6666666666666666,\"#ed7953\"],[0.7777777777777778,\"#fb9f3a\"],[0.8888888888888888,\"#fdca26\"],[1.0,\"#f0f921\"]],\"sequentialminus\":[[0.0,\"#0d0887\"],[0.1111111111111111,\"#46039f\"],[0.2222222222222222,\"#7201a8\"],[0.3333333333333333,\"#9c179e\"],[0.4444444444444444,\"#bd3786\"],[0.5555555555555556,\"#d8576b\"],[0.6666666666666666,\"#ed7953\"],[0.7777777777777778,\"#fb9f3a\"],[0.8888888888888888,\"#fdca26\"],[1.0,\"#f0f921\"]],\"diverging\":[[0,\"#8e0152\"],[0.1,\"#c51b7d\"],[0.2,\"#de77ae\"],[0.3,\"#f1b6da\"],[0.4,\"#fde0ef\"],[0.5,\"#f7f7f7\"],[0.6,\"#e6f5d0\"],[0.7,\"#b8e186\"],[0.8,\"#7fbc41\"],[0.9,\"#4d9221\"],[1,\"#276419\"]]},\"xaxis\":{\"gridcolor\":\"white\",\"linecolor\":\"white\",\"ticks\":\"\",\"title\":{\"standoff\":15},\"zerolinecolor\":\"white\",\"automargin\":true,\"zerolinewidth\":2},\"yaxis\":{\"gridcolor\":\"white\",\"linecolor\":\"white\",\"ticks\":\"\",\"title\":{\"standoff\":15},\"zerolinecolor\":\"white\",\"automargin\":true,\"zerolinewidth\":2},\"scene\":{\"xaxis\":{\"backgroundcolor\":\"#E5ECF6\",\"gridcolor\":\"white\",\"linecolor\":\"white\",\"showbackground\":true,\"ticks\":\"\",\"zerolinecolor\":\"white\",\"gridwidth\":2},\"yaxis\":{\"backgroundcolor\":\"#E5ECF6\",\"gridcolor\":\"white\",\"linecolor\":\"white\",\"showbackground\":true,\"ticks\":\"\",\"zerolinecolor\":\"white\",\"gridwidth\":2},\"zaxis\":{\"backgroundcolor\":\"#E5ECF6\",\"gridcolor\":\"white\",\"linecolor\":\"white\",\"showbackground\":true,\"ticks\":\"\",\"zerolinecolor\":\"white\",\"gridwidth\":2}},\"shapedefaults\":{\"line\":{\"color\":\"#2a3f5f\"}},\"annotationdefaults\":{\"arrowcolor\":\"#2a3f5f\",\"arrowhead\":0,\"arrowwidth\":1},\"geo\":{\"bgcolor\":\"white\",\"landcolor\":\"#E5ECF6\",\"subunitcolor\":\"white\",\"showland\":true,\"showlakes\":true,\"lakecolor\":\"white\"},\"title\":{\"x\":0.05},\"mapbox\":{\"style\":\"light\"}}},\"mapbox\":{\"center\":{\"lon\":4.700039704453442,\"lat\":50.87457142955465},\"style\":\"stamen-terrain\",\"zoom\":15},\"margin\":{\"r\":0,\"t\":0,\"l\":0,\"b\":0}},                        {\"responsive\": true}                    ).then(function(){\n",
       "                            \n",
       "var gd = document.getElementById('9a76c5c1-2561-425c-8d22-4f01a3ab2f31');\n",
       "var x = new MutationObserver(function (mutations, observer) {{\n",
       "        var display = window.getComputedStyle(gd).display;\n",
       "        if (!display || display === 'none') {{\n",
       "            console.log([gd, 'removed!']);\n",
       "            Plotly.purge(gd);\n",
       "            observer.disconnect();\n",
       "        }}\n",
       "}});\n",
       "\n",
       "// Listen for the removal of the full notebook cells\n",
       "var notebookContainer = gd.closest('#notebook-container');\n",
       "if (notebookContainer) {{\n",
       "    x.observe(notebookContainer, {childList: true});\n",
       "}}\n",
       "\n",
       "// Listen for the clearing of the current output cell\n",
       "var outputEl = gd.closest('.output');\n",
       "if (outputEl) {{\n",
       "    x.observe(outputEl, {childList: true});\n",
       "}}\n",
       "\n",
       "                        })                };                });            </script>        </div>"
      ]
     },
     "metadata": {},
     "output_type": "display_data"
    }
   ],
   "source": [
    "#Laeq\n",
    "\n",
    "import plotly.graph_objects as go\n",
    "\n",
    "fig = go.Figure()\n",
    "\n",
    "# Add density mapbox trace\n",
    "fig.add_trace(\n",
    "    go.Densitymapbox(\n",
    "        lat=[50.875809],\n",
    "        lon=[4.700110],\n",
    "        z=selected_naamsestraat62_hour_laeq_df.hourly_laeq_avg,\n",
    "        radius=10\n",
    "    )\n",
    ")\n",
    "\n",
    "# Add scattermapbox trace for individual markers\n",
    "fig.add_trace(\n",
    "    go.Scattermapbox(\n",
    "        lat=[50.875809],\n",
    "        lon=[4.700110],\n",
    "        mode='markers',\n",
    "        marker=dict(\n",
    "            size=5,\n",
    "            color='red',\n",
    "            opacity=0.7\n",
    "        ),\n",
    "        hovertemplate=\"Naamsestraat 62\",\n",
    "        showlegend = False\n",
    "    )\n",
    ")\n",
    "\n",
    "# Add density mapbox trace\n",
    "fig.add_trace(\n",
    "    go.Densitymapbox(\n",
    "        lat=[50.8738250],\n",
    "        lon=[4.7001178],\n",
    "        z=selected_naamsestraat81_hour_laeq_df.hourly_laeq_avg,\n",
    "        radius=10\n",
    "    )\n",
    ")\n",
    "\n",
    "# Add scattermapbox trace for individual markers\n",
    "fig.add_trace(\n",
    "    go.Scattermapbox(\n",
    "        lat=[50.8738250],\n",
    "        lon=[4.7001178],\n",
    "        mode='markers',\n",
    "        marker=dict(\n",
    "            size=5,\n",
    "            color='red',\n",
    "            opacity=0.7\n",
    "        ),\n",
    "        hovertemplate=\"Naamsestraat 81\",\n",
    "        showlegend = False\n",
    "    )\n",
    ")\n",
    "\n",
    "# Add density mapbox trace\n",
    "fig.add_trace(\n",
    "    go.Densitymapbox(\n",
    "        lat=[50.8745267],\n",
    "        lon=[4.6999168],\n",
    "        z=selected_calveriekapel_hour_laeq_df.hourly_laeq_avg,\n",
    "        radius=10\n",
    "    )\n",
    ")\n",
    "\n",
    "# Add scattermapbox trace for individual markers\n",
    "fig.add_trace(\n",
    "    go.Scattermapbox(\n",
    "        lat=[50.8745267],\n",
    "        lon=[4.6999168],\n",
    "        mode='markers',\n",
    "        marker=dict(\n",
    "            size=5,\n",
    "            color='red',\n",
    "            opacity=0.7\n",
    "        ),\n",
    "        hovertemplate=\"Calveriekapel\",\n",
    "        showlegend = False\n",
    "    )\n",
    ")\n",
    "\n",
    "# Add density mapbox trace\n",
    "fig.add_trace(\n",
    "    go.Densitymapbox(\n",
    "        lat=[50.8741177],\n",
    "        lon=[4.7000138],\n",
    "        z=selected_parkstraat2_hour_laeq_df.hourly_laeq_avg,\n",
    "        radius=10\n",
    "    )\n",
    ")\n",
    "\n",
    "# Add scattermapbox trace for individual markers\n",
    "fig.add_trace(\n",
    "    go.Scattermapbox(\n",
    "        lat=[50.8741177],\n",
    "        lon=[4.7000138],\n",
    "        mode='markers',\n",
    "        marker=dict(\n",
    "            size=5,\n",
    "            color='red',\n",
    "            opacity=0.7\n",
    "        ),\n",
    "        hovertemplate=\"Parkstraat 2\",\n",
    "        showlegend = False\n",
    "    )\n",
    ")\n",
    "\n",
    "fig.update_layout(\n",
    "    mapbox_style=\"stamen-terrain\",\n",
    "    mapbox_center={\"lon\": 180},\n",
    "    margin={\"r\": 0, \"t\": 0, \"l\": 0, \"b\": 0},\n",
    "    mapbox={\n",
    "        'zoom': 15,\n",
    "        'center': {'lon': aggregated_data.long.mean(), 'lat': aggregated_data.lat.mean()}\n",
    "    }\n",
    ")\n",
    "\n",
    "fig.show()\n"
   ]
  },
  {
   "cell_type": "code",
   "execution_count": 121,
   "id": "d9a800a6",
   "metadata": {},
   "outputs": [
    {
     "data": {
      "application/vnd.plotly.v1+json": {
       "config": {
        "plotlyServerURL": "https://plot.ly"
       },
       "data": [
        {
         "lat": [
          50.875809
         ],
         "lon": [
          4.70011
         ],
         "radius": 10,
         "type": "densitymapbox",
         "z": [
          52.49726953773212
         ]
        },
        {
         "hovertemplate": "Naamsestraat 62",
         "lat": [
          50.875809
         ],
         "lon": [
          4.70011
         ],
         "marker": {
          "color": "red",
          "opacity": 0.7,
          "size": 5
         },
         "mode": "markers",
         "showlegend": false,
         "type": "scattermapbox"
        },
        {
         "lat": [
          50.873825
         ],
         "lon": [
          4.7001178
         ],
         "radius": 10,
         "type": "densitymapbox",
         "z": [
          52.49726953773212
         ]
        },
        {
         "hovertemplate": "Naamsestraat 81",
         "lat": [
          50.873825
         ],
         "lon": [
          4.7001178
         ],
         "marker": {
          "color": "red",
          "opacity": 0.7,
          "size": 5
         },
         "mode": "markers",
         "showlegend": false,
         "type": "scattermapbox"
        },
        {
         "lat": [
          50.8745267
         ],
         "lon": [
          4.6999168
         ],
         "radius": 10,
         "type": "densitymapbox",
         "z": [
          52.49726953773212
         ]
        },
        {
         "hovertemplate": "Calveriekapel",
         "lat": [
          50.8745267
         ],
         "lon": [
          4.6999168
         ],
         "marker": {
          "color": "red",
          "opacity": 0.7,
          "size": 5
         },
         "mode": "markers",
         "showlegend": false,
         "type": "scattermapbox"
        },
        {
         "lat": [
          50.8741177
         ],
         "lon": [
          4.7000138
         ],
         "radius": 10,
         "type": "densitymapbox",
         "z": [
          52.49726953773212
         ]
        },
        {
         "hovertemplate": "Parkstraat 2",
         "lat": [
          50.8741177
         ],
         "lon": [
          4.7000138
         ],
         "marker": {
          "color": "red",
          "opacity": 0.7,
          "size": 5
         },
         "mode": "markers",
         "showlegend": false,
         "type": "scattermapbox"
        }
       ],
       "layout": {
        "mapbox": {
         "center": {
          "lat": 50.87457142955465,
          "lon": 4.700039704453442
         },
         "style": "stamen-terrain",
         "zoom": 15
        },
        "margin": {
         "b": 0,
         "l": 0,
         "r": 0,
         "t": 0
        },
        "template": {
         "data": {
          "bar": [
           {
            "error_x": {
             "color": "#2a3f5f"
            },
            "error_y": {
             "color": "#2a3f5f"
            },
            "marker": {
             "line": {
              "color": "#E5ECF6",
              "width": 0.5
             },
             "pattern": {
              "fillmode": "overlay",
              "size": 10,
              "solidity": 0.2
             }
            },
            "type": "bar"
           }
          ],
          "barpolar": [
           {
            "marker": {
             "line": {
              "color": "#E5ECF6",
              "width": 0.5
             },
             "pattern": {
              "fillmode": "overlay",
              "size": 10,
              "solidity": 0.2
             }
            },
            "type": "barpolar"
           }
          ],
          "carpet": [
           {
            "aaxis": {
             "endlinecolor": "#2a3f5f",
             "gridcolor": "white",
             "linecolor": "white",
             "minorgridcolor": "white",
             "startlinecolor": "#2a3f5f"
            },
            "baxis": {
             "endlinecolor": "#2a3f5f",
             "gridcolor": "white",
             "linecolor": "white",
             "minorgridcolor": "white",
             "startlinecolor": "#2a3f5f"
            },
            "type": "carpet"
           }
          ],
          "choropleth": [
           {
            "colorbar": {
             "outlinewidth": 0,
             "ticks": ""
            },
            "type": "choropleth"
           }
          ],
          "contour": [
           {
            "colorbar": {
             "outlinewidth": 0,
             "ticks": ""
            },
            "colorscale": [
             [
              0,
              "#0d0887"
             ],
             [
              0.1111111111111111,
              "#46039f"
             ],
             [
              0.2222222222222222,
              "#7201a8"
             ],
             [
              0.3333333333333333,
              "#9c179e"
             ],
             [
              0.4444444444444444,
              "#bd3786"
             ],
             [
              0.5555555555555556,
              "#d8576b"
             ],
             [
              0.6666666666666666,
              "#ed7953"
             ],
             [
              0.7777777777777778,
              "#fb9f3a"
             ],
             [
              0.8888888888888888,
              "#fdca26"
             ],
             [
              1,
              "#f0f921"
             ]
            ],
            "type": "contour"
           }
          ],
          "contourcarpet": [
           {
            "colorbar": {
             "outlinewidth": 0,
             "ticks": ""
            },
            "type": "contourcarpet"
           }
          ],
          "heatmap": [
           {
            "colorbar": {
             "outlinewidth": 0,
             "ticks": ""
            },
            "colorscale": [
             [
              0,
              "#0d0887"
             ],
             [
              0.1111111111111111,
              "#46039f"
             ],
             [
              0.2222222222222222,
              "#7201a8"
             ],
             [
              0.3333333333333333,
              "#9c179e"
             ],
             [
              0.4444444444444444,
              "#bd3786"
             ],
             [
              0.5555555555555556,
              "#d8576b"
             ],
             [
              0.6666666666666666,
              "#ed7953"
             ],
             [
              0.7777777777777778,
              "#fb9f3a"
             ],
             [
              0.8888888888888888,
              "#fdca26"
             ],
             [
              1,
              "#f0f921"
             ]
            ],
            "type": "heatmap"
           }
          ],
          "heatmapgl": [
           {
            "colorbar": {
             "outlinewidth": 0,
             "ticks": ""
            },
            "colorscale": [
             [
              0,
              "#0d0887"
             ],
             [
              0.1111111111111111,
              "#46039f"
             ],
             [
              0.2222222222222222,
              "#7201a8"
             ],
             [
              0.3333333333333333,
              "#9c179e"
             ],
             [
              0.4444444444444444,
              "#bd3786"
             ],
             [
              0.5555555555555556,
              "#d8576b"
             ],
             [
              0.6666666666666666,
              "#ed7953"
             ],
             [
              0.7777777777777778,
              "#fb9f3a"
             ],
             [
              0.8888888888888888,
              "#fdca26"
             ],
             [
              1,
              "#f0f921"
             ]
            ],
            "type": "heatmapgl"
           }
          ],
          "histogram": [
           {
            "marker": {
             "pattern": {
              "fillmode": "overlay",
              "size": 10,
              "solidity": 0.2
             }
            },
            "type": "histogram"
           }
          ],
          "histogram2d": [
           {
            "colorbar": {
             "outlinewidth": 0,
             "ticks": ""
            },
            "colorscale": [
             [
              0,
              "#0d0887"
             ],
             [
              0.1111111111111111,
              "#46039f"
             ],
             [
              0.2222222222222222,
              "#7201a8"
             ],
             [
              0.3333333333333333,
              "#9c179e"
             ],
             [
              0.4444444444444444,
              "#bd3786"
             ],
             [
              0.5555555555555556,
              "#d8576b"
             ],
             [
              0.6666666666666666,
              "#ed7953"
             ],
             [
              0.7777777777777778,
              "#fb9f3a"
             ],
             [
              0.8888888888888888,
              "#fdca26"
             ],
             [
              1,
              "#f0f921"
             ]
            ],
            "type": "histogram2d"
           }
          ],
          "histogram2dcontour": [
           {
            "colorbar": {
             "outlinewidth": 0,
             "ticks": ""
            },
            "colorscale": [
             [
              0,
              "#0d0887"
             ],
             [
              0.1111111111111111,
              "#46039f"
             ],
             [
              0.2222222222222222,
              "#7201a8"
             ],
             [
              0.3333333333333333,
              "#9c179e"
             ],
             [
              0.4444444444444444,
              "#bd3786"
             ],
             [
              0.5555555555555556,
              "#d8576b"
             ],
             [
              0.6666666666666666,
              "#ed7953"
             ],
             [
              0.7777777777777778,
              "#fb9f3a"
             ],
             [
              0.8888888888888888,
              "#fdca26"
             ],
             [
              1,
              "#f0f921"
             ]
            ],
            "type": "histogram2dcontour"
           }
          ],
          "mesh3d": [
           {
            "colorbar": {
             "outlinewidth": 0,
             "ticks": ""
            },
            "type": "mesh3d"
           }
          ],
          "parcoords": [
           {
            "line": {
             "colorbar": {
              "outlinewidth": 0,
              "ticks": ""
             }
            },
            "type": "parcoords"
           }
          ],
          "pie": [
           {
            "automargin": true,
            "type": "pie"
           }
          ],
          "scatter": [
           {
            "fillpattern": {
             "fillmode": "overlay",
             "size": 10,
             "solidity": 0.2
            },
            "type": "scatter"
           }
          ],
          "scatter3d": [
           {
            "line": {
             "colorbar": {
              "outlinewidth": 0,
              "ticks": ""
             }
            },
            "marker": {
             "colorbar": {
              "outlinewidth": 0,
              "ticks": ""
             }
            },
            "type": "scatter3d"
           }
          ],
          "scattercarpet": [
           {
            "marker": {
             "colorbar": {
              "outlinewidth": 0,
              "ticks": ""
             }
            },
            "type": "scattercarpet"
           }
          ],
          "scattergeo": [
           {
            "marker": {
             "colorbar": {
              "outlinewidth": 0,
              "ticks": ""
             }
            },
            "type": "scattergeo"
           }
          ],
          "scattergl": [
           {
            "marker": {
             "colorbar": {
              "outlinewidth": 0,
              "ticks": ""
             }
            },
            "type": "scattergl"
           }
          ],
          "scattermapbox": [
           {
            "marker": {
             "colorbar": {
              "outlinewidth": 0,
              "ticks": ""
             }
            },
            "type": "scattermapbox"
           }
          ],
          "scatterpolar": [
           {
            "marker": {
             "colorbar": {
              "outlinewidth": 0,
              "ticks": ""
             }
            },
            "type": "scatterpolar"
           }
          ],
          "scatterpolargl": [
           {
            "marker": {
             "colorbar": {
              "outlinewidth": 0,
              "ticks": ""
             }
            },
            "type": "scatterpolargl"
           }
          ],
          "scatterternary": [
           {
            "marker": {
             "colorbar": {
              "outlinewidth": 0,
              "ticks": ""
             }
            },
            "type": "scatterternary"
           }
          ],
          "surface": [
           {
            "colorbar": {
             "outlinewidth": 0,
             "ticks": ""
            },
            "colorscale": [
             [
              0,
              "#0d0887"
             ],
             [
              0.1111111111111111,
              "#46039f"
             ],
             [
              0.2222222222222222,
              "#7201a8"
             ],
             [
              0.3333333333333333,
              "#9c179e"
             ],
             [
              0.4444444444444444,
              "#bd3786"
             ],
             [
              0.5555555555555556,
              "#d8576b"
             ],
             [
              0.6666666666666666,
              "#ed7953"
             ],
             [
              0.7777777777777778,
              "#fb9f3a"
             ],
             [
              0.8888888888888888,
              "#fdca26"
             ],
             [
              1,
              "#f0f921"
             ]
            ],
            "type": "surface"
           }
          ],
          "table": [
           {
            "cells": {
             "fill": {
              "color": "#EBF0F8"
             },
             "line": {
              "color": "white"
             }
            },
            "header": {
             "fill": {
              "color": "#C8D4E3"
             },
             "line": {
              "color": "white"
             }
            },
            "type": "table"
           }
          ]
         },
         "layout": {
          "annotationdefaults": {
           "arrowcolor": "#2a3f5f",
           "arrowhead": 0,
           "arrowwidth": 1
          },
          "autotypenumbers": "strict",
          "coloraxis": {
           "colorbar": {
            "outlinewidth": 0,
            "ticks": ""
           }
          },
          "colorscale": {
           "diverging": [
            [
             0,
             "#8e0152"
            ],
            [
             0.1,
             "#c51b7d"
            ],
            [
             0.2,
             "#de77ae"
            ],
            [
             0.3,
             "#f1b6da"
            ],
            [
             0.4,
             "#fde0ef"
            ],
            [
             0.5,
             "#f7f7f7"
            ],
            [
             0.6,
             "#e6f5d0"
            ],
            [
             0.7,
             "#b8e186"
            ],
            [
             0.8,
             "#7fbc41"
            ],
            [
             0.9,
             "#4d9221"
            ],
            [
             1,
             "#276419"
            ]
           ],
           "sequential": [
            [
             0,
             "#0d0887"
            ],
            [
             0.1111111111111111,
             "#46039f"
            ],
            [
             0.2222222222222222,
             "#7201a8"
            ],
            [
             0.3333333333333333,
             "#9c179e"
            ],
            [
             0.4444444444444444,
             "#bd3786"
            ],
            [
             0.5555555555555556,
             "#d8576b"
            ],
            [
             0.6666666666666666,
             "#ed7953"
            ],
            [
             0.7777777777777778,
             "#fb9f3a"
            ],
            [
             0.8888888888888888,
             "#fdca26"
            ],
            [
             1,
             "#f0f921"
            ]
           ],
           "sequentialminus": [
            [
             0,
             "#0d0887"
            ],
            [
             0.1111111111111111,
             "#46039f"
            ],
            [
             0.2222222222222222,
             "#7201a8"
            ],
            [
             0.3333333333333333,
             "#9c179e"
            ],
            [
             0.4444444444444444,
             "#bd3786"
            ],
            [
             0.5555555555555556,
             "#d8576b"
            ],
            [
             0.6666666666666666,
             "#ed7953"
            ],
            [
             0.7777777777777778,
             "#fb9f3a"
            ],
            [
             0.8888888888888888,
             "#fdca26"
            ],
            [
             1,
             "#f0f921"
            ]
           ]
          },
          "colorway": [
           "#636efa",
           "#EF553B",
           "#00cc96",
           "#ab63fa",
           "#FFA15A",
           "#19d3f3",
           "#FF6692",
           "#B6E880",
           "#FF97FF",
           "#FECB52"
          ],
          "font": {
           "color": "#2a3f5f"
          },
          "geo": {
           "bgcolor": "white",
           "lakecolor": "white",
           "landcolor": "#E5ECF6",
           "showlakes": true,
           "showland": true,
           "subunitcolor": "white"
          },
          "hoverlabel": {
           "align": "left"
          },
          "hovermode": "closest",
          "mapbox": {
           "style": "light"
          },
          "paper_bgcolor": "white",
          "plot_bgcolor": "#E5ECF6",
          "polar": {
           "angularaxis": {
            "gridcolor": "white",
            "linecolor": "white",
            "ticks": ""
           },
           "bgcolor": "#E5ECF6",
           "radialaxis": {
            "gridcolor": "white",
            "linecolor": "white",
            "ticks": ""
           }
          },
          "scene": {
           "xaxis": {
            "backgroundcolor": "#E5ECF6",
            "gridcolor": "white",
            "gridwidth": 2,
            "linecolor": "white",
            "showbackground": true,
            "ticks": "",
            "zerolinecolor": "white"
           },
           "yaxis": {
            "backgroundcolor": "#E5ECF6",
            "gridcolor": "white",
            "gridwidth": 2,
            "linecolor": "white",
            "showbackground": true,
            "ticks": "",
            "zerolinecolor": "white"
           },
           "zaxis": {
            "backgroundcolor": "#E5ECF6",
            "gridcolor": "white",
            "gridwidth": 2,
            "linecolor": "white",
            "showbackground": true,
            "ticks": "",
            "zerolinecolor": "white"
           }
          },
          "shapedefaults": {
           "line": {
            "color": "#2a3f5f"
           }
          },
          "ternary": {
           "aaxis": {
            "gridcolor": "white",
            "linecolor": "white",
            "ticks": ""
           },
           "baxis": {
            "gridcolor": "white",
            "linecolor": "white",
            "ticks": ""
           },
           "bgcolor": "#E5ECF6",
           "caxis": {
            "gridcolor": "white",
            "linecolor": "white",
            "ticks": ""
           }
          },
          "title": {
           "x": 0.05
          },
          "xaxis": {
           "automargin": true,
           "gridcolor": "white",
           "linecolor": "white",
           "ticks": "",
           "title": {
            "standoff": 15
           },
           "zerolinecolor": "white",
           "zerolinewidth": 2
          },
          "yaxis": {
           "automargin": true,
           "gridcolor": "white",
           "linecolor": "white",
           "ticks": "",
           "title": {
            "standoff": 15
           },
           "zerolinecolor": "white",
           "zerolinewidth": 2
          }
         }
        }
       }
      },
      "text/html": [
       "<div>                            <div id=\"8f237ef1-af61-41d2-8867-bbf8d2355564\" class=\"plotly-graph-div\" style=\"height:525px; width:100%;\"></div>            <script type=\"text/javascript\">                require([\"plotly\"], function(Plotly) {                    window.PLOTLYENV=window.PLOTLYENV || {};                                    if (document.getElementById(\"8f237ef1-af61-41d2-8867-bbf8d2355564\")) {                    Plotly.newPlot(                        \"8f237ef1-af61-41d2-8867-bbf8d2355564\",                        [{\"lat\":[50.875809],\"lon\":[4.70011],\"radius\":10,\"z\":[52.49726953773212],\"type\":\"densitymapbox\"},{\"hovertemplate\":\"Naamsestraat 62\",\"lat\":[50.875809],\"lon\":[4.70011],\"marker\":{\"color\":\"red\",\"opacity\":0.7,\"size\":5},\"mode\":\"markers\",\"showlegend\":false,\"type\":\"scattermapbox\"},{\"lat\":[50.873825],\"lon\":[4.7001178],\"radius\":10,\"z\":[52.49726953773212],\"type\":\"densitymapbox\"},{\"hovertemplate\":\"Naamsestraat 81\",\"lat\":[50.873825],\"lon\":[4.7001178],\"marker\":{\"color\":\"red\",\"opacity\":0.7,\"size\":5},\"mode\":\"markers\",\"showlegend\":false,\"type\":\"scattermapbox\"},{\"lat\":[50.8745267],\"lon\":[4.6999168],\"radius\":10,\"z\":[52.49726953773212],\"type\":\"densitymapbox\"},{\"hovertemplate\":\"Calveriekapel\",\"lat\":[50.8745267],\"lon\":[4.6999168],\"marker\":{\"color\":\"red\",\"opacity\":0.7,\"size\":5},\"mode\":\"markers\",\"showlegend\":false,\"type\":\"scattermapbox\"},{\"lat\":[50.8741177],\"lon\":[4.7000138],\"radius\":10,\"z\":[52.49726953773212],\"type\":\"densitymapbox\"},{\"hovertemplate\":\"Parkstraat 2\",\"lat\":[50.8741177],\"lon\":[4.7000138],\"marker\":{\"color\":\"red\",\"opacity\":0.7,\"size\":5},\"mode\":\"markers\",\"showlegend\":false,\"type\":\"scattermapbox\"}],                        {\"template\":{\"data\":{\"histogram2dcontour\":[{\"type\":\"histogram2dcontour\",\"colorbar\":{\"outlinewidth\":0,\"ticks\":\"\"},\"colorscale\":[[0.0,\"#0d0887\"],[0.1111111111111111,\"#46039f\"],[0.2222222222222222,\"#7201a8\"],[0.3333333333333333,\"#9c179e\"],[0.4444444444444444,\"#bd3786\"],[0.5555555555555556,\"#d8576b\"],[0.6666666666666666,\"#ed7953\"],[0.7777777777777778,\"#fb9f3a\"],[0.8888888888888888,\"#fdca26\"],[1.0,\"#f0f921\"]]}],\"choropleth\":[{\"type\":\"choropleth\",\"colorbar\":{\"outlinewidth\":0,\"ticks\":\"\"}}],\"histogram2d\":[{\"type\":\"histogram2d\",\"colorbar\":{\"outlinewidth\":0,\"ticks\":\"\"},\"colorscale\":[[0.0,\"#0d0887\"],[0.1111111111111111,\"#46039f\"],[0.2222222222222222,\"#7201a8\"],[0.3333333333333333,\"#9c179e\"],[0.4444444444444444,\"#bd3786\"],[0.5555555555555556,\"#d8576b\"],[0.6666666666666666,\"#ed7953\"],[0.7777777777777778,\"#fb9f3a\"],[0.8888888888888888,\"#fdca26\"],[1.0,\"#f0f921\"]]}],\"heatmap\":[{\"type\":\"heatmap\",\"colorbar\":{\"outlinewidth\":0,\"ticks\":\"\"},\"colorscale\":[[0.0,\"#0d0887\"],[0.1111111111111111,\"#46039f\"],[0.2222222222222222,\"#7201a8\"],[0.3333333333333333,\"#9c179e\"],[0.4444444444444444,\"#bd3786\"],[0.5555555555555556,\"#d8576b\"],[0.6666666666666666,\"#ed7953\"],[0.7777777777777778,\"#fb9f3a\"],[0.8888888888888888,\"#fdca26\"],[1.0,\"#f0f921\"]]}],\"heatmapgl\":[{\"type\":\"heatmapgl\",\"colorbar\":{\"outlinewidth\":0,\"ticks\":\"\"},\"colorscale\":[[0.0,\"#0d0887\"],[0.1111111111111111,\"#46039f\"],[0.2222222222222222,\"#7201a8\"],[0.3333333333333333,\"#9c179e\"],[0.4444444444444444,\"#bd3786\"],[0.5555555555555556,\"#d8576b\"],[0.6666666666666666,\"#ed7953\"],[0.7777777777777778,\"#fb9f3a\"],[0.8888888888888888,\"#fdca26\"],[1.0,\"#f0f921\"]]}],\"contourcarpet\":[{\"type\":\"contourcarpet\",\"colorbar\":{\"outlinewidth\":0,\"ticks\":\"\"}}],\"contour\":[{\"type\":\"contour\",\"colorbar\":{\"outlinewidth\":0,\"ticks\":\"\"},\"colorscale\":[[0.0,\"#0d0887\"],[0.1111111111111111,\"#46039f\"],[0.2222222222222222,\"#7201a8\"],[0.3333333333333333,\"#9c179e\"],[0.4444444444444444,\"#bd3786\"],[0.5555555555555556,\"#d8576b\"],[0.6666666666666666,\"#ed7953\"],[0.7777777777777778,\"#fb9f3a\"],[0.8888888888888888,\"#fdca26\"],[1.0,\"#f0f921\"]]}],\"surface\":[{\"type\":\"surface\",\"colorbar\":{\"outlinewidth\":0,\"ticks\":\"\"},\"colorscale\":[[0.0,\"#0d0887\"],[0.1111111111111111,\"#46039f\"],[0.2222222222222222,\"#7201a8\"],[0.3333333333333333,\"#9c179e\"],[0.4444444444444444,\"#bd3786\"],[0.5555555555555556,\"#d8576b\"],[0.6666666666666666,\"#ed7953\"],[0.7777777777777778,\"#fb9f3a\"],[0.8888888888888888,\"#fdca26\"],[1.0,\"#f0f921\"]]}],\"mesh3d\":[{\"type\":\"mesh3d\",\"colorbar\":{\"outlinewidth\":0,\"ticks\":\"\"}}],\"scatter\":[{\"fillpattern\":{\"fillmode\":\"overlay\",\"size\":10,\"solidity\":0.2},\"type\":\"scatter\"}],\"parcoords\":[{\"type\":\"parcoords\",\"line\":{\"colorbar\":{\"outlinewidth\":0,\"ticks\":\"\"}}}],\"scatterpolargl\":[{\"type\":\"scatterpolargl\",\"marker\":{\"colorbar\":{\"outlinewidth\":0,\"ticks\":\"\"}}}],\"bar\":[{\"error_x\":{\"color\":\"#2a3f5f\"},\"error_y\":{\"color\":\"#2a3f5f\"},\"marker\":{\"line\":{\"color\":\"#E5ECF6\",\"width\":0.5},\"pattern\":{\"fillmode\":\"overlay\",\"size\":10,\"solidity\":0.2}},\"type\":\"bar\"}],\"scattergeo\":[{\"type\":\"scattergeo\",\"marker\":{\"colorbar\":{\"outlinewidth\":0,\"ticks\":\"\"}}}],\"scatterpolar\":[{\"type\":\"scatterpolar\",\"marker\":{\"colorbar\":{\"outlinewidth\":0,\"ticks\":\"\"}}}],\"histogram\":[{\"marker\":{\"pattern\":{\"fillmode\":\"overlay\",\"size\":10,\"solidity\":0.2}},\"type\":\"histogram\"}],\"scattergl\":[{\"type\":\"scattergl\",\"marker\":{\"colorbar\":{\"outlinewidth\":0,\"ticks\":\"\"}}}],\"scatter3d\":[{\"type\":\"scatter3d\",\"line\":{\"colorbar\":{\"outlinewidth\":0,\"ticks\":\"\"}},\"marker\":{\"colorbar\":{\"outlinewidth\":0,\"ticks\":\"\"}}}],\"scattermapbox\":[{\"type\":\"scattermapbox\",\"marker\":{\"colorbar\":{\"outlinewidth\":0,\"ticks\":\"\"}}}],\"scatterternary\":[{\"type\":\"scatterternary\",\"marker\":{\"colorbar\":{\"outlinewidth\":0,\"ticks\":\"\"}}}],\"scattercarpet\":[{\"type\":\"scattercarpet\",\"marker\":{\"colorbar\":{\"outlinewidth\":0,\"ticks\":\"\"}}}],\"carpet\":[{\"aaxis\":{\"endlinecolor\":\"#2a3f5f\",\"gridcolor\":\"white\",\"linecolor\":\"white\",\"minorgridcolor\":\"white\",\"startlinecolor\":\"#2a3f5f\"},\"baxis\":{\"endlinecolor\":\"#2a3f5f\",\"gridcolor\":\"white\",\"linecolor\":\"white\",\"minorgridcolor\":\"white\",\"startlinecolor\":\"#2a3f5f\"},\"type\":\"carpet\"}],\"table\":[{\"cells\":{\"fill\":{\"color\":\"#EBF0F8\"},\"line\":{\"color\":\"white\"}},\"header\":{\"fill\":{\"color\":\"#C8D4E3\"},\"line\":{\"color\":\"white\"}},\"type\":\"table\"}],\"barpolar\":[{\"marker\":{\"line\":{\"color\":\"#E5ECF6\",\"width\":0.5},\"pattern\":{\"fillmode\":\"overlay\",\"size\":10,\"solidity\":0.2}},\"type\":\"barpolar\"}],\"pie\":[{\"automargin\":true,\"type\":\"pie\"}]},\"layout\":{\"autotypenumbers\":\"strict\",\"colorway\":[\"#636efa\",\"#EF553B\",\"#00cc96\",\"#ab63fa\",\"#FFA15A\",\"#19d3f3\",\"#FF6692\",\"#B6E880\",\"#FF97FF\",\"#FECB52\"],\"font\":{\"color\":\"#2a3f5f\"},\"hovermode\":\"closest\",\"hoverlabel\":{\"align\":\"left\"},\"paper_bgcolor\":\"white\",\"plot_bgcolor\":\"#E5ECF6\",\"polar\":{\"bgcolor\":\"#E5ECF6\",\"angularaxis\":{\"gridcolor\":\"white\",\"linecolor\":\"white\",\"ticks\":\"\"},\"radialaxis\":{\"gridcolor\":\"white\",\"linecolor\":\"white\",\"ticks\":\"\"}},\"ternary\":{\"bgcolor\":\"#E5ECF6\",\"aaxis\":{\"gridcolor\":\"white\",\"linecolor\":\"white\",\"ticks\":\"\"},\"baxis\":{\"gridcolor\":\"white\",\"linecolor\":\"white\",\"ticks\":\"\"},\"caxis\":{\"gridcolor\":\"white\",\"linecolor\":\"white\",\"ticks\":\"\"}},\"coloraxis\":{\"colorbar\":{\"outlinewidth\":0,\"ticks\":\"\"}},\"colorscale\":{\"sequential\":[[0.0,\"#0d0887\"],[0.1111111111111111,\"#46039f\"],[0.2222222222222222,\"#7201a8\"],[0.3333333333333333,\"#9c179e\"],[0.4444444444444444,\"#bd3786\"],[0.5555555555555556,\"#d8576b\"],[0.6666666666666666,\"#ed7953\"],[0.7777777777777778,\"#fb9f3a\"],[0.8888888888888888,\"#fdca26\"],[1.0,\"#f0f921\"]],\"sequentialminus\":[[0.0,\"#0d0887\"],[0.1111111111111111,\"#46039f\"],[0.2222222222222222,\"#7201a8\"],[0.3333333333333333,\"#9c179e\"],[0.4444444444444444,\"#bd3786\"],[0.5555555555555556,\"#d8576b\"],[0.6666666666666666,\"#ed7953\"],[0.7777777777777778,\"#fb9f3a\"],[0.8888888888888888,\"#fdca26\"],[1.0,\"#f0f921\"]],\"diverging\":[[0,\"#8e0152\"],[0.1,\"#c51b7d\"],[0.2,\"#de77ae\"],[0.3,\"#f1b6da\"],[0.4,\"#fde0ef\"],[0.5,\"#f7f7f7\"],[0.6,\"#e6f5d0\"],[0.7,\"#b8e186\"],[0.8,\"#7fbc41\"],[0.9,\"#4d9221\"],[1,\"#276419\"]]},\"xaxis\":{\"gridcolor\":\"white\",\"linecolor\":\"white\",\"ticks\":\"\",\"title\":{\"standoff\":15},\"zerolinecolor\":\"white\",\"automargin\":true,\"zerolinewidth\":2},\"yaxis\":{\"gridcolor\":\"white\",\"linecolor\":\"white\",\"ticks\":\"\",\"title\":{\"standoff\":15},\"zerolinecolor\":\"white\",\"automargin\":true,\"zerolinewidth\":2},\"scene\":{\"xaxis\":{\"backgroundcolor\":\"#E5ECF6\",\"gridcolor\":\"white\",\"linecolor\":\"white\",\"showbackground\":true,\"ticks\":\"\",\"zerolinecolor\":\"white\",\"gridwidth\":2},\"yaxis\":{\"backgroundcolor\":\"#E5ECF6\",\"gridcolor\":\"white\",\"linecolor\":\"white\",\"showbackground\":true,\"ticks\":\"\",\"zerolinecolor\":\"white\",\"gridwidth\":2},\"zaxis\":{\"backgroundcolor\":\"#E5ECF6\",\"gridcolor\":\"white\",\"linecolor\":\"white\",\"showbackground\":true,\"ticks\":\"\",\"zerolinecolor\":\"white\",\"gridwidth\":2}},\"shapedefaults\":{\"line\":{\"color\":\"#2a3f5f\"}},\"annotationdefaults\":{\"arrowcolor\":\"#2a3f5f\",\"arrowhead\":0,\"arrowwidth\":1},\"geo\":{\"bgcolor\":\"white\",\"landcolor\":\"#E5ECF6\",\"subunitcolor\":\"white\",\"showland\":true,\"showlakes\":true,\"lakecolor\":\"white\"},\"title\":{\"x\":0.05},\"mapbox\":{\"style\":\"light\"}}},\"mapbox\":{\"center\":{\"lon\":4.700039704453442,\"lat\":50.87457142955465},\"style\":\"stamen-terrain\",\"zoom\":15},\"margin\":{\"r\":0,\"t\":0,\"l\":0,\"b\":0}},                        {\"responsive\": true}                    ).then(function(){\n",
       "                            \n",
       "var gd = document.getElementById('8f237ef1-af61-41d2-8867-bbf8d2355564');\n",
       "var x = new MutationObserver(function (mutations, observer) {{\n",
       "        var display = window.getComputedStyle(gd).display;\n",
       "        if (!display || display === 'none') {{\n",
       "            console.log([gd, 'removed!']);\n",
       "            Plotly.purge(gd);\n",
       "            observer.disconnect();\n",
       "        }}\n",
       "}});\n",
       "\n",
       "// Listen for the removal of the full notebook cells\n",
       "var notebookContainer = gd.closest('#notebook-container');\n",
       "if (notebookContainer) {{\n",
       "    x.observe(notebookContainer, {childList: true});\n",
       "}}\n",
       "\n",
       "// Listen for the clearing of the current output cell\n",
       "var outputEl = gd.closest('.output');\n",
       "if (outputEl) {{\n",
       "    x.observe(outputEl, {childList: true});\n",
       "}}\n",
       "\n",
       "                        })                };                });            </script>        </div>"
      ]
     },
     "metadata": {},
     "output_type": "display_data"
    }
   ],
   "source": [
    "#Lceq\n",
    "\n",
    "import plotly.graph_objects as go\n",
    "\n",
    "fig = go.Figure()\n",
    "\n",
    "# Add density mapbox trace\n",
    "fig.add_trace(\n",
    "    go.Densitymapbox(\n",
    "        lat=[50.875809],\n",
    "        lon=[4.700110],\n",
    "        z=selected_naamsestraat62_hour_lceq_df.hourly_lceq_avg,\n",
    "        radius=10\n",
    "    )\n",
    ")\n",
    "\n",
    "# Add scattermapbox trace for individual markers\n",
    "fig.add_trace(\n",
    "    go.Scattermapbox(\n",
    "        lat=[50.875809],\n",
    "        lon=[4.700110],\n",
    "        mode='markers',\n",
    "        marker=dict(\n",
    "            size=5,\n",
    "            color='red',\n",
    "            opacity=0.7\n",
    "        ),\n",
    "        hovertemplate=\"Naamsestraat 62\",\n",
    "        showlegend = False\n",
    "    )\n",
    ")\n",
    "\n",
    "# Add density mapbox trace\n",
    "fig.add_trace(\n",
    "    go.Densitymapbox(\n",
    "        lat=[50.8738250],\n",
    "        lon=[4.7001178],\n",
    "        z=selected_naamsestraat81_hour_lceq_df.hourly_lceq_avg,\n",
    "        radius=10\n",
    "    )\n",
    ")\n",
    "\n",
    "# Add scattermapbox trace for individual markers\n",
    "fig.add_trace(\n",
    "    go.Scattermapbox(\n",
    "        lat=[50.8738250],\n",
    "        lon=[4.7001178],\n",
    "        mode='markers',\n",
    "        marker=dict(\n",
    "            size=5,\n",
    "            color='red',\n",
    "            opacity=0.7\n",
    "        ),\n",
    "        hovertemplate=\"Naamsestraat 81\",\n",
    "        showlegend = False\n",
    "    )\n",
    ")\n",
    "\n",
    "# Add density mapbox trace\n",
    "fig.add_trace(\n",
    "    go.Densitymapbox(\n",
    "        lat=[50.8745267],\n",
    "        lon=[4.6999168],\n",
    "        z=selected_calveriekapel_hour_lceq_df.hourly_lceq_avg,\n",
    "        radius=10\n",
    "    )\n",
    ")\n",
    "\n",
    "# Add scattermapbox trace for individual markers\n",
    "fig.add_trace(\n",
    "    go.Scattermapbox(\n",
    "        lat=[50.8745267],\n",
    "        lon=[4.6999168],\n",
    "        mode='markers',\n",
    "        marker=dict(\n",
    "            size=5,\n",
    "            color='red',\n",
    "            opacity=0.7\n",
    "        ),\n",
    "        hovertemplate=\"Calveriekapel\",\n",
    "        showlegend = False\n",
    "    )\n",
    ")\n",
    "\n",
    "# Add density mapbox trace\n",
    "fig.add_trace(\n",
    "    go.Densitymapbox(\n",
    "        lat=[50.8741177],\n",
    "        lon=[4.7000138],\n",
    "        z=selected_parkstraat2_hour_lceq_df.hourly_lceq_avg,\n",
    "        radius=10\n",
    "    )\n",
    ")\n",
    "\n",
    "# Add scattermapbox trace for individual markers\n",
    "fig.add_trace(\n",
    "    go.Scattermapbox(\n",
    "        lat=[50.8741177],\n",
    "        lon=[4.7000138],\n",
    "        mode='markers',\n",
    "        marker=dict(\n",
    "            size=5,\n",
    "            color='red',\n",
    "            opacity=0.7\n",
    "        ),\n",
    "        hovertemplate=\"Parkstraat 2\",\n",
    "        showlegend = False\n",
    "    )\n",
    ")\n",
    "\n",
    "fig.update_layout(\n",
    "    mapbox_style=\"stamen-terrain\",\n",
    "    mapbox_center={\"lon\": 180},\n",
    "    margin={\"r\": 0, \"t\": 0, \"l\": 0, \"b\": 0},\n",
    "    mapbox={\n",
    "        'zoom': 15,\n",
    "        'center': {'lon': aggregated_data.long.mean(), 'lat': aggregated_data.lat.mean()}\n",
    "    }\n",
    ")\n",
    "\n",
    "fig.show()"
   ]
  },
  {
   "cell_type": "code",
   "execution_count": null,
   "id": "b34e38b3",
   "metadata": {},
   "outputs": [],
   "source": []
  }
 ],
 "metadata": {
  "kernelspec": {
   "display_name": "Python 3 (ipykernel)",
   "language": "python",
   "name": "python3"
  },
  "language_info": {
   "codemirror_mode": {
    "name": "ipython",
    "version": 3
   },
   "file_extension": ".py",
   "mimetype": "text/x-python",
   "name": "python",
   "nbconvert_exporter": "python",
   "pygments_lexer": "ipython3",
   "version": "3.10.9"
  }
 },
 "nbformat": 4,
 "nbformat_minor": 5
}

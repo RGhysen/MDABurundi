{
  "nbformat": 4,
  "nbformat_minor": 0,
  "metadata": {
    "colab": {
      "provenance": [],
      "collapsed_sections": [
        "mkekKTB7O50h",
        "Qxt-ukC9O_WV",
        "SzNo2l3WPMkj",
        "c1UCGQkDPXRo",
        "qXKxhHRxRT_i",
        "H4xzcFnUVM3V",
        "q-oivY5nWRhD",
        "CZSJiQxIWd7g",
        "I3HiddSRYdlX",
        "sxkRwQ2jbMly",
        "pCDTnjv6bR6n",
        "DYsndjMgbbSi"
      ],
      "toc_visible": true
    },
    "kernelspec": {
      "name": "python3",
      "display_name": "Python 3"
    },
    "language_info": {
      "name": "python"
    }
  },
  "cells": [
    {
      "cell_type": "markdown",
      "source": [
        "#Libraries"
      ],
      "metadata": {
        "id": "mkekKTB7O50h"
      }
    },
    {
      "cell_type": "code",
      "source": [
        "pip install pyod"
      ],
      "metadata": {
        "colab": {
          "base_uri": "https://localhost:8080/"
        },
        "id": "Rba3OvZDYUM-",
        "outputId": "ec781574-c468-4ddc-eda7-296802195f3b"
      },
      "execution_count": null,
      "outputs": [
        {
          "output_type": "stream",
          "name": "stdout",
          "text": [
            "Looking in indexes: https://pypi.org/simple, https://us-python.pkg.dev/colab-wheels/public/simple/\n",
            "Collecting pyod\n",
            "  Downloading pyod-1.0.9.tar.gz (149 kB)\n",
            "\u001b[2K     \u001b[90m━━━━━━━━━━━━━━━━━━━━━━━━━━━━━━━━━━━━━━━\u001b[0m \u001b[32m150.0/150.0 kB\u001b[0m \u001b[31m3.7 MB/s\u001b[0m eta \u001b[36m0:00:00\u001b[0m\n",
            "\u001b[?25h  Preparing metadata (setup.py) ... \u001b[?25l\u001b[?25hdone\n",
            "Requirement already satisfied: joblib in /usr/local/lib/python3.10/dist-packages (from pyod) (1.2.0)\n",
            "Requirement already satisfied: matplotlib in /usr/local/lib/python3.10/dist-packages (from pyod) (3.7.1)\n",
            "Requirement already satisfied: numpy>=1.19 in /usr/local/lib/python3.10/dist-packages (from pyod) (1.22.4)\n",
            "Requirement already satisfied: numba>=0.51 in /usr/local/lib/python3.10/dist-packages (from pyod) (0.56.4)\n",
            "Requirement already satisfied: scipy>=1.5.1 in /usr/local/lib/python3.10/dist-packages (from pyod) (1.10.1)\n",
            "Requirement already satisfied: scikit_learn>=0.20.0 in /usr/local/lib/python3.10/dist-packages (from pyod) (1.2.2)\n",
            "Requirement already satisfied: six in /usr/local/lib/python3.10/dist-packages (from pyod) (1.16.0)\n",
            "Requirement already satisfied: llvmlite<0.40,>=0.39.0dev0 in /usr/local/lib/python3.10/dist-packages (from numba>=0.51->pyod) (0.39.1)\n",
            "Requirement already satisfied: setuptools in /usr/local/lib/python3.10/dist-packages (from numba>=0.51->pyod) (67.7.2)\n",
            "Requirement already satisfied: threadpoolctl>=2.0.0 in /usr/local/lib/python3.10/dist-packages (from scikit_learn>=0.20.0->pyod) (3.1.0)\n",
            "Requirement already satisfied: contourpy>=1.0.1 in /usr/local/lib/python3.10/dist-packages (from matplotlib->pyod) (1.0.7)\n",
            "Requirement already satisfied: cycler>=0.10 in /usr/local/lib/python3.10/dist-packages (from matplotlib->pyod) (0.11.0)\n",
            "Requirement already satisfied: fonttools>=4.22.0 in /usr/local/lib/python3.10/dist-packages (from matplotlib->pyod) (4.39.3)\n",
            "Requirement already satisfied: kiwisolver>=1.0.1 in /usr/local/lib/python3.10/dist-packages (from matplotlib->pyod) (1.4.4)\n",
            "Requirement already satisfied: packaging>=20.0 in /usr/local/lib/python3.10/dist-packages (from matplotlib->pyod) (23.1)\n",
            "Requirement already satisfied: pillow>=6.2.0 in /usr/local/lib/python3.10/dist-packages (from matplotlib->pyod) (8.4.0)\n",
            "Requirement already satisfied: pyparsing>=2.3.1 in /usr/local/lib/python3.10/dist-packages (from matplotlib->pyod) (3.0.9)\n",
            "Requirement already satisfied: python-dateutil>=2.7 in /usr/local/lib/python3.10/dist-packages (from matplotlib->pyod) (2.8.2)\n",
            "Building wheels for collected packages: pyod\n",
            "  Building wheel for pyod (setup.py) ... \u001b[?25l\u001b[?25hdone\n",
            "  Created wheel for pyod: filename=pyod-1.0.9-py3-none-any.whl size=184112 sha256=b6ccaf8217068a7d10f545c1df69805f7f815c8a30a03635ed1c81efafff38a6\n",
            "  Stored in directory: /root/.cache/pip/wheels/83/55/6b/552e083cf5509c0afe808b76cf434f1be284d01a112623bd37\n",
            "Successfully built pyod\n",
            "Installing collected packages: pyod\n",
            "Successfully installed pyod-1.0.9\n"
          ]
        }
      ]
    },
    {
      "cell_type": "code",
      "execution_count": null,
      "metadata": {
        "id": "wwTtXLoSOhL5"
      },
      "outputs": [],
      "source": [
        "import pandas as pd\n",
        "import numpy as np\n",
        "import matplotlib.pyplot as plt\n",
        "from scipy.stats import median_abs_deviation\n",
        "from pyod.models.mad import MAD\n",
        "from sklearn.neighbors import LocalOutlierFactor"
      ]
    },
    {
      "cell_type": "markdown",
      "source": [
        "#Dataset"
      ],
      "metadata": {
        "id": "Qxt-ukC9O_WV"
      }
    },
    {
      "cell_type": "code",
      "source": [
        "#csv_results_42_255441_mp-03-naamsestraat-62-taste\n",
        "naamsestraat62 = pd.read_csv(\"/content/drive/MyDrive/Export 42 Noise Data /csv_results_42_255441_mp-03-naamsestraat-62-taste.csv\")\n",
        "#csv_results_42_255442_mp-05-calvariekapel-ku-leuven\n",
        "calvariekapel = pd.read_csv(\"/content/drive/MyDrive/Export 42 Noise Data /csv_results_42_255442_mp-05-calvariekapel-ku-leuven.csv\")\n",
        "#csv_results_42_255443_mp-06-parkstraat-2-la-filosovia\n",
        "paarkstraat2 = pd.read_csv(\"/content/drive/MyDrive/Export 42 Noise Data /csv_results_42_255443_mp-06-parkstraat-2-la-filosovia.csv\")\n",
        "#csv_results_42_255444_mp-07-naamsestraat-81\n",
        "naamsestraat81 = pd.read_csv(\"/content/drive/MyDrive/Export 42 Noise Data /csv_results_42_255444_mp-07-naamsestraat-81.csv\")"
      ],
      "metadata": {
        "id": "EMfVfCVlO-KZ"
      },
      "execution_count": null,
      "outputs": []
    },
    {
      "cell_type": "code",
      "source": [
        "naamsestraat62.head()"
      ],
      "metadata": {
        "colab": {
          "base_uri": "https://localhost:8080/",
          "height": 206
        },
        "id": "dGDtxbUCTUF9",
        "outputId": "627ca15e-45e0-423f-9392-67e6c869d097"
      },
      "execution_count": null,
      "outputs": [
        {
          "output_type": "execute_result",
          "data": {
            "text/plain": [
              "   object_id                   description         result_timestamp  lamax  \\\n",
              "0     255441  MP 03: Naamsestraat 62 Taste  01/01/2022 00:00:00.349   87.6   \n",
              "1     255441  MP 03: Naamsestraat 62 Taste  01/01/2022 00:00:01.349   84.5   \n",
              "2     255441  MP 03: Naamsestraat 62 Taste  01/01/2022 00:00:02.349   84.8   \n",
              "3     255441  MP 03: Naamsestraat 62 Taste  01/01/2022 00:00:03.349   81.9   \n",
              "4     255441  MP 03: Naamsestraat 62 Taste  01/01/2022 00:00:04.349   78.3   \n",
              "\n",
              "  lamax_unit  laeq laeq_unit   lceq lceq_unit  lcpeak lcpeak_unit  \n",
              "0      dB(A)  82.7     dB(A)  83.61     dB(C)   97.17       dB(C)  \n",
              "1      dB(A)  83.1     dB(A)  84.42     dB(C)   96.41       dB(C)  \n",
              "2      dB(A)  82.7     dB(A)  84.19     dB(C)   96.24       dB(C)  \n",
              "3      dB(A)  79.3     dB(A)  81.08     dB(C)   94.03       dB(C)  \n",
              "4      dB(A)  76.0     dB(A)  77.12     dB(C)   89.81       dB(C)  "
            ],
            "text/html": [
              "\n",
              "  <div id=\"df-c9aac82a-fabb-415c-ad2f-7dbf86ca1280\">\n",
              "    <div class=\"colab-df-container\">\n",
              "      <div>\n",
              "<style scoped>\n",
              "    .dataframe tbody tr th:only-of-type {\n",
              "        vertical-align: middle;\n",
              "    }\n",
              "\n",
              "    .dataframe tbody tr th {\n",
              "        vertical-align: top;\n",
              "    }\n",
              "\n",
              "    .dataframe thead th {\n",
              "        text-align: right;\n",
              "    }\n",
              "</style>\n",
              "<table border=\"1\" class=\"dataframe\">\n",
              "  <thead>\n",
              "    <tr style=\"text-align: right;\">\n",
              "      <th></th>\n",
              "      <th>object_id</th>\n",
              "      <th>description</th>\n",
              "      <th>result_timestamp</th>\n",
              "      <th>lamax</th>\n",
              "      <th>lamax_unit</th>\n",
              "      <th>laeq</th>\n",
              "      <th>laeq_unit</th>\n",
              "      <th>lceq</th>\n",
              "      <th>lceq_unit</th>\n",
              "      <th>lcpeak</th>\n",
              "      <th>lcpeak_unit</th>\n",
              "    </tr>\n",
              "  </thead>\n",
              "  <tbody>\n",
              "    <tr>\n",
              "      <th>0</th>\n",
              "      <td>255441</td>\n",
              "      <td>MP 03: Naamsestraat 62 Taste</td>\n",
              "      <td>01/01/2022 00:00:00.349</td>\n",
              "      <td>87.6</td>\n",
              "      <td>dB(A)</td>\n",
              "      <td>82.7</td>\n",
              "      <td>dB(A)</td>\n",
              "      <td>83.61</td>\n",
              "      <td>dB(C)</td>\n",
              "      <td>97.17</td>\n",
              "      <td>dB(C)</td>\n",
              "    </tr>\n",
              "    <tr>\n",
              "      <th>1</th>\n",
              "      <td>255441</td>\n",
              "      <td>MP 03: Naamsestraat 62 Taste</td>\n",
              "      <td>01/01/2022 00:00:01.349</td>\n",
              "      <td>84.5</td>\n",
              "      <td>dB(A)</td>\n",
              "      <td>83.1</td>\n",
              "      <td>dB(A)</td>\n",
              "      <td>84.42</td>\n",
              "      <td>dB(C)</td>\n",
              "      <td>96.41</td>\n",
              "      <td>dB(C)</td>\n",
              "    </tr>\n",
              "    <tr>\n",
              "      <th>2</th>\n",
              "      <td>255441</td>\n",
              "      <td>MP 03: Naamsestraat 62 Taste</td>\n",
              "      <td>01/01/2022 00:00:02.349</td>\n",
              "      <td>84.8</td>\n",
              "      <td>dB(A)</td>\n",
              "      <td>82.7</td>\n",
              "      <td>dB(A)</td>\n",
              "      <td>84.19</td>\n",
              "      <td>dB(C)</td>\n",
              "      <td>96.24</td>\n",
              "      <td>dB(C)</td>\n",
              "    </tr>\n",
              "    <tr>\n",
              "      <th>3</th>\n",
              "      <td>255441</td>\n",
              "      <td>MP 03: Naamsestraat 62 Taste</td>\n",
              "      <td>01/01/2022 00:00:03.349</td>\n",
              "      <td>81.9</td>\n",
              "      <td>dB(A)</td>\n",
              "      <td>79.3</td>\n",
              "      <td>dB(A)</td>\n",
              "      <td>81.08</td>\n",
              "      <td>dB(C)</td>\n",
              "      <td>94.03</td>\n",
              "      <td>dB(C)</td>\n",
              "    </tr>\n",
              "    <tr>\n",
              "      <th>4</th>\n",
              "      <td>255441</td>\n",
              "      <td>MP 03: Naamsestraat 62 Taste</td>\n",
              "      <td>01/01/2022 00:00:04.349</td>\n",
              "      <td>78.3</td>\n",
              "      <td>dB(A)</td>\n",
              "      <td>76.0</td>\n",
              "      <td>dB(A)</td>\n",
              "      <td>77.12</td>\n",
              "      <td>dB(C)</td>\n",
              "      <td>89.81</td>\n",
              "      <td>dB(C)</td>\n",
              "    </tr>\n",
              "  </tbody>\n",
              "</table>\n",
              "</div>\n",
              "      <button class=\"colab-df-convert\" onclick=\"convertToInteractive('df-c9aac82a-fabb-415c-ad2f-7dbf86ca1280')\"\n",
              "              title=\"Convert this dataframe to an interactive table.\"\n",
              "              style=\"display:none;\">\n",
              "        \n",
              "  <svg xmlns=\"http://www.w3.org/2000/svg\" height=\"24px\"viewBox=\"0 0 24 24\"\n",
              "       width=\"24px\">\n",
              "    <path d=\"M0 0h24v24H0V0z\" fill=\"none\"/>\n",
              "    <path d=\"M18.56 5.44l.94 2.06.94-2.06 2.06-.94-2.06-.94-.94-2.06-.94 2.06-2.06.94zm-11 1L8.5 8.5l.94-2.06 2.06-.94-2.06-.94L8.5 2.5l-.94 2.06-2.06.94zm10 10l.94 2.06.94-2.06 2.06-.94-2.06-.94-.94-2.06-.94 2.06-2.06.94z\"/><path d=\"M17.41 7.96l-1.37-1.37c-.4-.4-.92-.59-1.43-.59-.52 0-1.04.2-1.43.59L10.3 9.45l-7.72 7.72c-.78.78-.78 2.05 0 2.83L4 21.41c.39.39.9.59 1.41.59.51 0 1.02-.2 1.41-.59l7.78-7.78 2.81-2.81c.8-.78.8-2.07 0-2.86zM5.41 20L4 18.59l7.72-7.72 1.47 1.35L5.41 20z\"/>\n",
              "  </svg>\n",
              "      </button>\n",
              "      \n",
              "  <style>\n",
              "    .colab-df-container {\n",
              "      display:flex;\n",
              "      flex-wrap:wrap;\n",
              "      gap: 12px;\n",
              "    }\n",
              "\n",
              "    .colab-df-convert {\n",
              "      background-color: #E8F0FE;\n",
              "      border: none;\n",
              "      border-radius: 50%;\n",
              "      cursor: pointer;\n",
              "      display: none;\n",
              "      fill: #1967D2;\n",
              "      height: 32px;\n",
              "      padding: 0 0 0 0;\n",
              "      width: 32px;\n",
              "    }\n",
              "\n",
              "    .colab-df-convert:hover {\n",
              "      background-color: #E2EBFA;\n",
              "      box-shadow: 0px 1px 2px rgba(60, 64, 67, 0.3), 0px 1px 3px 1px rgba(60, 64, 67, 0.15);\n",
              "      fill: #174EA6;\n",
              "    }\n",
              "\n",
              "    [theme=dark] .colab-df-convert {\n",
              "      background-color: #3B4455;\n",
              "      fill: #D2E3FC;\n",
              "    }\n",
              "\n",
              "    [theme=dark] .colab-df-convert:hover {\n",
              "      background-color: #434B5C;\n",
              "      box-shadow: 0px 1px 3px 1px rgba(0, 0, 0, 0.15);\n",
              "      filter: drop-shadow(0px 1px 2px rgba(0, 0, 0, 0.3));\n",
              "      fill: #FFFFFF;\n",
              "    }\n",
              "  </style>\n",
              "\n",
              "      <script>\n",
              "        const buttonEl =\n",
              "          document.querySelector('#df-c9aac82a-fabb-415c-ad2f-7dbf86ca1280 button.colab-df-convert');\n",
              "        buttonEl.style.display =\n",
              "          google.colab.kernel.accessAllowed ? 'block' : 'none';\n",
              "\n",
              "        async function convertToInteractive(key) {\n",
              "          const element = document.querySelector('#df-c9aac82a-fabb-415c-ad2f-7dbf86ca1280');\n",
              "          const dataTable =\n",
              "            await google.colab.kernel.invokeFunction('convertToInteractive',\n",
              "                                                     [key], {});\n",
              "          if (!dataTable) return;\n",
              "\n",
              "          const docLinkHtml = 'Like what you see? Visit the ' +\n",
              "            '<a target=\"_blank\" href=https://colab.research.google.com/notebooks/data_table.ipynb>data table notebook</a>'\n",
              "            + ' to learn more about interactive tables.';\n",
              "          element.innerHTML = '';\n",
              "          dataTable['output_type'] = 'display_data';\n",
              "          await google.colab.output.renderOutput(dataTable, element);\n",
              "          const docLink = document.createElement('div');\n",
              "          docLink.innerHTML = docLinkHtml;\n",
              "          element.appendChild(docLink);\n",
              "        }\n",
              "      </script>\n",
              "    </div>\n",
              "  </div>\n",
              "  "
            ]
          },
          "metadata": {},
          "execution_count": 6
        }
      ]
    },
    {
      "cell_type": "markdown",
      "source": [
        "#Missing Data"
      ],
      "metadata": {
        "id": "SzNo2l3WPMkj"
      }
    },
    {
      "cell_type": "code",
      "source": [
        "naamsestraat62.shape"
      ],
      "metadata": {
        "colab": {
          "base_uri": "https://localhost:8080/"
        },
        "id": "nuvMJuMsgMlJ",
        "outputId": "2b93df87-e2e9-4406-a204-305a8f8c4b8a"
      },
      "execution_count": null,
      "outputs": [
        {
          "output_type": "execute_result",
          "data": {
            "text/plain": [
              "(2677683, 11)"
            ]
          },
          "metadata": {},
          "execution_count": 79
        }
      ]
    },
    {
      "cell_type": "code",
      "source": [
        "naamsestraat62.isna().sum()"
      ],
      "metadata": {
        "colab": {
          "base_uri": "https://localhost:8080/"
        },
        "id": "GHjQYxB3PO9j",
        "outputId": "7252ccf6-1c03-42b0-aa15-f3c2266bd7a5"
      },
      "execution_count": null,
      "outputs": [
        {
          "output_type": "execute_result",
          "data": {
            "text/plain": [
              "object_id            0\n",
              "description          0\n",
              "result_timestamp     0\n",
              "lamax                3\n",
              "lamax_unit           3\n",
              "laeq                 3\n",
              "laeq_unit            3\n",
              "lceq                12\n",
              "lceq_unit           12\n",
              "lcpeak              12\n",
              "lcpeak_unit         12\n",
              "dtype: int64"
            ]
          },
          "metadata": {},
          "execution_count": 80
        }
      ]
    },
    {
      "cell_type": "code",
      "source": [
        "naamsestraat62_clean = naamsestraat62.dropna()"
      ],
      "metadata": {
        "id": "A6fv6V0WfeUS"
      },
      "execution_count": null,
      "outputs": []
    },
    {
      "cell_type": "code",
      "source": [
        "naamsestraat62_clean.shape"
      ],
      "metadata": {
        "colab": {
          "base_uri": "https://localhost:8080/"
        },
        "id": "QSTB8KcLgTk5",
        "outputId": "47577a4d-f570-42f8-e757-703494991a93"
      },
      "execution_count": null,
      "outputs": [
        {
          "output_type": "execute_result",
          "data": {
            "text/plain": [
              "(2677668, 11)"
            ]
          },
          "metadata": {},
          "execution_count": 82
        }
      ]
    },
    {
      "cell_type": "code",
      "source": [
        "naamsestraat62_clean.isna().sum()"
      ],
      "metadata": {
        "colab": {
          "base_uri": "https://localhost:8080/"
        },
        "id": "OFYBD8RifpAD",
        "outputId": "ea94ed39-5511-4810-cbfc-e90388b6f71c"
      },
      "execution_count": null,
      "outputs": [
        {
          "output_type": "execute_result",
          "data": {
            "text/plain": [
              "object_id           0\n",
              "description         0\n",
              "result_timestamp    0\n",
              "lamax               0\n",
              "lamax_unit          0\n",
              "laeq                0\n",
              "laeq_unit           0\n",
              "lceq                0\n",
              "lceq_unit           0\n",
              "lcpeak              0\n",
              "lcpeak_unit         0\n",
              "dtype: int64"
            ]
          },
          "metadata": {},
          "execution_count": 83
        }
      ]
    },
    {
      "cell_type": "code",
      "source": [
        "calvariekapel.isna().sum()"
      ],
      "metadata": {
        "colab": {
          "base_uri": "https://localhost:8080/"
        },
        "id": "XUmUmeVPPRU_",
        "outputId": "0c0f143c-b919-4e39-f47f-e56e8bc5de2f"
      },
      "execution_count": null,
      "outputs": [
        {
          "output_type": "execute_result",
          "data": {
            "text/plain": [
              "object_id           0\n",
              "description         0\n",
              "result_timestamp    0\n",
              "lamax               0\n",
              "lamax_unit          0\n",
              "laeq                0\n",
              "laeq_unit           0\n",
              "lceq                0\n",
              "lceq_unit           0\n",
              "lcpeak              0\n",
              "lcpeak_unit         0\n",
              "dtype: int64"
            ]
          },
          "metadata": {},
          "execution_count": 4
        }
      ]
    },
    {
      "cell_type": "code",
      "source": [
        "paarkstraat2.isna().sum()"
      ],
      "metadata": {
        "colab": {
          "base_uri": "https://localhost:8080/"
        },
        "id": "yKkjHwZ-PTBu",
        "outputId": "e3e8a28d-1af5-4317-ab10-a1ea3426fffa"
      },
      "execution_count": null,
      "outputs": [
        {
          "output_type": "execute_result",
          "data": {
            "text/plain": [
              "object_id           0\n",
              "description         0\n",
              "result_timestamp    0\n",
              "lamax               0\n",
              "lamax_unit          0\n",
              "laeq                0\n",
              "laeq_unit           0\n",
              "lceq                0\n",
              "lceq_unit           0\n",
              "lcpeak              0\n",
              "lcpeak_unit         0\n",
              "dtype: int64"
            ]
          },
          "metadata": {},
          "execution_count": 5
        }
      ]
    },
    {
      "cell_type": "code",
      "source": [
        "naamsestraat81.isna().sum()"
      ],
      "metadata": {
        "colab": {
          "base_uri": "https://localhost:8080/"
        },
        "id": "EpsMrg9HPVVW",
        "outputId": "aa0d95bb-d322-4f1b-c35d-db6658335ded"
      },
      "execution_count": null,
      "outputs": [
        {
          "output_type": "execute_result",
          "data": {
            "text/plain": [
              "object_id           0\n",
              "description         0\n",
              "result_timestamp    0\n",
              "lamax               0\n",
              "lamax_unit          0\n",
              "laeq                0\n",
              "laeq_unit           0\n",
              "lceq                0\n",
              "lceq_unit           0\n",
              "lcpeak              0\n",
              "lcpeak_unit         0\n",
              "dtype: int64"
            ]
          },
          "metadata": {},
          "execution_count": 6
        }
      ]
    },
    {
      "cell_type": "markdown",
      "source": [
        "#Summary Statistics"
      ],
      "metadata": {
        "id": "c1UCGQkDPXRo"
      }
    },
    {
      "cell_type": "code",
      "source": [
        "def summarize_dataset(dataset):\n",
        "    return round(dataset.describe(), 2)"
      ],
      "metadata": {
        "id": "1zqhYkJ-rNk4"
      },
      "execution_count": null,
      "outputs": []
    },
    {
      "cell_type": "code",
      "source": [
        "round(naamsestraat62.describe(), 2)"
      ],
      "metadata": {
        "colab": {
          "base_uri": "https://localhost:8080/",
          "height": 300
        },
        "id": "zfaR2bbDPbN9",
        "outputId": "8571b11b-57ef-4012-81bf-bb7a2b14d679"
      },
      "execution_count": null,
      "outputs": [
        {
          "output_type": "execute_result",
          "data": {
            "text/plain": [
              "       object_id       lamax        laeq        lceq      lcpeak\n",
              "count  2677683.0  2677680.00  2677680.00  2677671.00  2677671.00\n",
              "mean    255441.0       53.24       51.73       61.53       73.15\n",
              "std          0.0        6.58        6.43        6.00        5.94\n",
              "min     255441.0       42.80       41.80       52.75       62.82\n",
              "25%     255441.0       47.30       46.00       56.58       68.10\n",
              "50%     255441.0       52.10       50.40       59.91       72.12\n",
              "75%     255441.0       57.60       56.00       65.24       76.89\n",
              "max     255441.0      104.10      100.50       99.97      120.59"
            ],
            "text/html": [
              "\n",
              "  <div id=\"df-20a9ef80-4b40-4f91-957a-1d9c11eae846\">\n",
              "    <div class=\"colab-df-container\">\n",
              "      <div>\n",
              "<style scoped>\n",
              "    .dataframe tbody tr th:only-of-type {\n",
              "        vertical-align: middle;\n",
              "    }\n",
              "\n",
              "    .dataframe tbody tr th {\n",
              "        vertical-align: top;\n",
              "    }\n",
              "\n",
              "    .dataframe thead th {\n",
              "        text-align: right;\n",
              "    }\n",
              "</style>\n",
              "<table border=\"1\" class=\"dataframe\">\n",
              "  <thead>\n",
              "    <tr style=\"text-align: right;\">\n",
              "      <th></th>\n",
              "      <th>object_id</th>\n",
              "      <th>lamax</th>\n",
              "      <th>laeq</th>\n",
              "      <th>lceq</th>\n",
              "      <th>lcpeak</th>\n",
              "    </tr>\n",
              "  </thead>\n",
              "  <tbody>\n",
              "    <tr>\n",
              "      <th>count</th>\n",
              "      <td>2677683.0</td>\n",
              "      <td>2677680.00</td>\n",
              "      <td>2677680.00</td>\n",
              "      <td>2677671.00</td>\n",
              "      <td>2677671.00</td>\n",
              "    </tr>\n",
              "    <tr>\n",
              "      <th>mean</th>\n",
              "      <td>255441.0</td>\n",
              "      <td>53.24</td>\n",
              "      <td>51.73</td>\n",
              "      <td>61.53</td>\n",
              "      <td>73.15</td>\n",
              "    </tr>\n",
              "    <tr>\n",
              "      <th>std</th>\n",
              "      <td>0.0</td>\n",
              "      <td>6.58</td>\n",
              "      <td>6.43</td>\n",
              "      <td>6.00</td>\n",
              "      <td>5.94</td>\n",
              "    </tr>\n",
              "    <tr>\n",
              "      <th>min</th>\n",
              "      <td>255441.0</td>\n",
              "      <td>42.80</td>\n",
              "      <td>41.80</td>\n",
              "      <td>52.75</td>\n",
              "      <td>62.82</td>\n",
              "    </tr>\n",
              "    <tr>\n",
              "      <th>25%</th>\n",
              "      <td>255441.0</td>\n",
              "      <td>47.30</td>\n",
              "      <td>46.00</td>\n",
              "      <td>56.58</td>\n",
              "      <td>68.10</td>\n",
              "    </tr>\n",
              "    <tr>\n",
              "      <th>50%</th>\n",
              "      <td>255441.0</td>\n",
              "      <td>52.10</td>\n",
              "      <td>50.40</td>\n",
              "      <td>59.91</td>\n",
              "      <td>72.12</td>\n",
              "    </tr>\n",
              "    <tr>\n",
              "      <th>75%</th>\n",
              "      <td>255441.0</td>\n",
              "      <td>57.60</td>\n",
              "      <td>56.00</td>\n",
              "      <td>65.24</td>\n",
              "      <td>76.89</td>\n",
              "    </tr>\n",
              "    <tr>\n",
              "      <th>max</th>\n",
              "      <td>255441.0</td>\n",
              "      <td>104.10</td>\n",
              "      <td>100.50</td>\n",
              "      <td>99.97</td>\n",
              "      <td>120.59</td>\n",
              "    </tr>\n",
              "  </tbody>\n",
              "</table>\n",
              "</div>\n",
              "      <button class=\"colab-df-convert\" onclick=\"convertToInteractive('df-20a9ef80-4b40-4f91-957a-1d9c11eae846')\"\n",
              "              title=\"Convert this dataframe to an interactive table.\"\n",
              "              style=\"display:none;\">\n",
              "        \n",
              "  <svg xmlns=\"http://www.w3.org/2000/svg\" height=\"24px\"viewBox=\"0 0 24 24\"\n",
              "       width=\"24px\">\n",
              "    <path d=\"M0 0h24v24H0V0z\" fill=\"none\"/>\n",
              "    <path d=\"M18.56 5.44l.94 2.06.94-2.06 2.06-.94-2.06-.94-.94-2.06-.94 2.06-2.06.94zm-11 1L8.5 8.5l.94-2.06 2.06-.94-2.06-.94L8.5 2.5l-.94 2.06-2.06.94zm10 10l.94 2.06.94-2.06 2.06-.94-2.06-.94-.94-2.06-.94 2.06-2.06.94z\"/><path d=\"M17.41 7.96l-1.37-1.37c-.4-.4-.92-.59-1.43-.59-.52 0-1.04.2-1.43.59L10.3 9.45l-7.72 7.72c-.78.78-.78 2.05 0 2.83L4 21.41c.39.39.9.59 1.41.59.51 0 1.02-.2 1.41-.59l7.78-7.78 2.81-2.81c.8-.78.8-2.07 0-2.86zM5.41 20L4 18.59l7.72-7.72 1.47 1.35L5.41 20z\"/>\n",
              "  </svg>\n",
              "      </button>\n",
              "      \n",
              "  <style>\n",
              "    .colab-df-container {\n",
              "      display:flex;\n",
              "      flex-wrap:wrap;\n",
              "      gap: 12px;\n",
              "    }\n",
              "\n",
              "    .colab-df-convert {\n",
              "      background-color: #E8F0FE;\n",
              "      border: none;\n",
              "      border-radius: 50%;\n",
              "      cursor: pointer;\n",
              "      display: none;\n",
              "      fill: #1967D2;\n",
              "      height: 32px;\n",
              "      padding: 0 0 0 0;\n",
              "      width: 32px;\n",
              "    }\n",
              "\n",
              "    .colab-df-convert:hover {\n",
              "      background-color: #E2EBFA;\n",
              "      box-shadow: 0px 1px 2px rgba(60, 64, 67, 0.3), 0px 1px 3px 1px rgba(60, 64, 67, 0.15);\n",
              "      fill: #174EA6;\n",
              "    }\n",
              "\n",
              "    [theme=dark] .colab-df-convert {\n",
              "      background-color: #3B4455;\n",
              "      fill: #D2E3FC;\n",
              "    }\n",
              "\n",
              "    [theme=dark] .colab-df-convert:hover {\n",
              "      background-color: #434B5C;\n",
              "      box-shadow: 0px 1px 3px 1px rgba(0, 0, 0, 0.15);\n",
              "      filter: drop-shadow(0px 1px 2px rgba(0, 0, 0, 0.3));\n",
              "      fill: #FFFFFF;\n",
              "    }\n",
              "  </style>\n",
              "\n",
              "      <script>\n",
              "        const buttonEl =\n",
              "          document.querySelector('#df-20a9ef80-4b40-4f91-957a-1d9c11eae846 button.colab-df-convert');\n",
              "        buttonEl.style.display =\n",
              "          google.colab.kernel.accessAllowed ? 'block' : 'none';\n",
              "\n",
              "        async function convertToInteractive(key) {\n",
              "          const element = document.querySelector('#df-20a9ef80-4b40-4f91-957a-1d9c11eae846');\n",
              "          const dataTable =\n",
              "            await google.colab.kernel.invokeFunction('convertToInteractive',\n",
              "                                                     [key], {});\n",
              "          if (!dataTable) return;\n",
              "\n",
              "          const docLinkHtml = 'Like what you see? Visit the ' +\n",
              "            '<a target=\"_blank\" href=https://colab.research.google.com/notebooks/data_table.ipynb>data table notebook</a>'\n",
              "            + ' to learn more about interactive tables.';\n",
              "          element.innerHTML = '';\n",
              "          dataTable['output_type'] = 'display_data';\n",
              "          await google.colab.output.renderOutput(dataTable, element);\n",
              "          const docLink = document.createElement('div');\n",
              "          docLink.innerHTML = docLinkHtml;\n",
              "          element.appendChild(docLink);\n",
              "        }\n",
              "      </script>\n",
              "    </div>\n",
              "  </div>\n",
              "  "
            ]
          },
          "metadata": {},
          "execution_count": 7
        }
      ]
    },
    {
      "cell_type": "code",
      "source": [
        "round(calvariekapel.describe(), 2)"
      ],
      "metadata": {
        "colab": {
          "base_uri": "https://localhost:8080/",
          "height": 300
        },
        "id": "dHBWgbVVPe2E",
        "outputId": "63212f83-dc16-47f6-ffa2-0077c91d44b4"
      },
      "execution_count": null,
      "outputs": [
        {
          "output_type": "execute_result",
          "data": {
            "text/plain": [
              "       object_id       lamax        laeq        lceq      lcpeak\n",
              "count  2678318.0  2678318.00  2678318.00  2678318.00  2678318.00\n",
              "mean    255442.0       50.37       48.56       57.52       69.75\n",
              "std          0.0       10.59       10.21        8.50        8.82\n",
              "min     255442.0       32.30       31.80       43.99       53.83\n",
              "25%     255442.0       41.50       39.90       50.38       62.26\n",
              "50%     255442.0       50.60       48.00       55.95       69.07\n",
              "75%     255442.0       58.00       56.00       63.44       75.72\n",
              "max     255442.0      108.50      105.20      105.02      121.27"
            ],
            "text/html": [
              "\n",
              "  <div id=\"df-105a6322-ee76-4927-adfb-3ed11806bc81\">\n",
              "    <div class=\"colab-df-container\">\n",
              "      <div>\n",
              "<style scoped>\n",
              "    .dataframe tbody tr th:only-of-type {\n",
              "        vertical-align: middle;\n",
              "    }\n",
              "\n",
              "    .dataframe tbody tr th {\n",
              "        vertical-align: top;\n",
              "    }\n",
              "\n",
              "    .dataframe thead th {\n",
              "        text-align: right;\n",
              "    }\n",
              "</style>\n",
              "<table border=\"1\" class=\"dataframe\">\n",
              "  <thead>\n",
              "    <tr style=\"text-align: right;\">\n",
              "      <th></th>\n",
              "      <th>object_id</th>\n",
              "      <th>lamax</th>\n",
              "      <th>laeq</th>\n",
              "      <th>lceq</th>\n",
              "      <th>lcpeak</th>\n",
              "    </tr>\n",
              "  </thead>\n",
              "  <tbody>\n",
              "    <tr>\n",
              "      <th>count</th>\n",
              "      <td>2678318.0</td>\n",
              "      <td>2678318.00</td>\n",
              "      <td>2678318.00</td>\n",
              "      <td>2678318.00</td>\n",
              "      <td>2678318.00</td>\n",
              "    </tr>\n",
              "    <tr>\n",
              "      <th>mean</th>\n",
              "      <td>255442.0</td>\n",
              "      <td>50.37</td>\n",
              "      <td>48.56</td>\n",
              "      <td>57.52</td>\n",
              "      <td>69.75</td>\n",
              "    </tr>\n",
              "    <tr>\n",
              "      <th>std</th>\n",
              "      <td>0.0</td>\n",
              "      <td>10.59</td>\n",
              "      <td>10.21</td>\n",
              "      <td>8.50</td>\n",
              "      <td>8.82</td>\n",
              "    </tr>\n",
              "    <tr>\n",
              "      <th>min</th>\n",
              "      <td>255442.0</td>\n",
              "      <td>32.30</td>\n",
              "      <td>31.80</td>\n",
              "      <td>43.99</td>\n",
              "      <td>53.83</td>\n",
              "    </tr>\n",
              "    <tr>\n",
              "      <th>25%</th>\n",
              "      <td>255442.0</td>\n",
              "      <td>41.50</td>\n",
              "      <td>39.90</td>\n",
              "      <td>50.38</td>\n",
              "      <td>62.26</td>\n",
              "    </tr>\n",
              "    <tr>\n",
              "      <th>50%</th>\n",
              "      <td>255442.0</td>\n",
              "      <td>50.60</td>\n",
              "      <td>48.00</td>\n",
              "      <td>55.95</td>\n",
              "      <td>69.07</td>\n",
              "    </tr>\n",
              "    <tr>\n",
              "      <th>75%</th>\n",
              "      <td>255442.0</td>\n",
              "      <td>58.00</td>\n",
              "      <td>56.00</td>\n",
              "      <td>63.44</td>\n",
              "      <td>75.72</td>\n",
              "    </tr>\n",
              "    <tr>\n",
              "      <th>max</th>\n",
              "      <td>255442.0</td>\n",
              "      <td>108.50</td>\n",
              "      <td>105.20</td>\n",
              "      <td>105.02</td>\n",
              "      <td>121.27</td>\n",
              "    </tr>\n",
              "  </tbody>\n",
              "</table>\n",
              "</div>\n",
              "      <button class=\"colab-df-convert\" onclick=\"convertToInteractive('df-105a6322-ee76-4927-adfb-3ed11806bc81')\"\n",
              "              title=\"Convert this dataframe to an interactive table.\"\n",
              "              style=\"display:none;\">\n",
              "        \n",
              "  <svg xmlns=\"http://www.w3.org/2000/svg\" height=\"24px\"viewBox=\"0 0 24 24\"\n",
              "       width=\"24px\">\n",
              "    <path d=\"M0 0h24v24H0V0z\" fill=\"none\"/>\n",
              "    <path d=\"M18.56 5.44l.94 2.06.94-2.06 2.06-.94-2.06-.94-.94-2.06-.94 2.06-2.06.94zm-11 1L8.5 8.5l.94-2.06 2.06-.94-2.06-.94L8.5 2.5l-.94 2.06-2.06.94zm10 10l.94 2.06.94-2.06 2.06-.94-2.06-.94-.94-2.06-.94 2.06-2.06.94z\"/><path d=\"M17.41 7.96l-1.37-1.37c-.4-.4-.92-.59-1.43-.59-.52 0-1.04.2-1.43.59L10.3 9.45l-7.72 7.72c-.78.78-.78 2.05 0 2.83L4 21.41c.39.39.9.59 1.41.59.51 0 1.02-.2 1.41-.59l7.78-7.78 2.81-2.81c.8-.78.8-2.07 0-2.86zM5.41 20L4 18.59l7.72-7.72 1.47 1.35L5.41 20z\"/>\n",
              "  </svg>\n",
              "      </button>\n",
              "      \n",
              "  <style>\n",
              "    .colab-df-container {\n",
              "      display:flex;\n",
              "      flex-wrap:wrap;\n",
              "      gap: 12px;\n",
              "    }\n",
              "\n",
              "    .colab-df-convert {\n",
              "      background-color: #E8F0FE;\n",
              "      border: none;\n",
              "      border-radius: 50%;\n",
              "      cursor: pointer;\n",
              "      display: none;\n",
              "      fill: #1967D2;\n",
              "      height: 32px;\n",
              "      padding: 0 0 0 0;\n",
              "      width: 32px;\n",
              "    }\n",
              "\n",
              "    .colab-df-convert:hover {\n",
              "      background-color: #E2EBFA;\n",
              "      box-shadow: 0px 1px 2px rgba(60, 64, 67, 0.3), 0px 1px 3px 1px rgba(60, 64, 67, 0.15);\n",
              "      fill: #174EA6;\n",
              "    }\n",
              "\n",
              "    [theme=dark] .colab-df-convert {\n",
              "      background-color: #3B4455;\n",
              "      fill: #D2E3FC;\n",
              "    }\n",
              "\n",
              "    [theme=dark] .colab-df-convert:hover {\n",
              "      background-color: #434B5C;\n",
              "      box-shadow: 0px 1px 3px 1px rgba(0, 0, 0, 0.15);\n",
              "      filter: drop-shadow(0px 1px 2px rgba(0, 0, 0, 0.3));\n",
              "      fill: #FFFFFF;\n",
              "    }\n",
              "  </style>\n",
              "\n",
              "      <script>\n",
              "        const buttonEl =\n",
              "          document.querySelector('#df-105a6322-ee76-4927-adfb-3ed11806bc81 button.colab-df-convert');\n",
              "        buttonEl.style.display =\n",
              "          google.colab.kernel.accessAllowed ? 'block' : 'none';\n",
              "\n",
              "        async function convertToInteractive(key) {\n",
              "          const element = document.querySelector('#df-105a6322-ee76-4927-adfb-3ed11806bc81');\n",
              "          const dataTable =\n",
              "            await google.colab.kernel.invokeFunction('convertToInteractive',\n",
              "                                                     [key], {});\n",
              "          if (!dataTable) return;\n",
              "\n",
              "          const docLinkHtml = 'Like what you see? Visit the ' +\n",
              "            '<a target=\"_blank\" href=https://colab.research.google.com/notebooks/data_table.ipynb>data table notebook</a>'\n",
              "            + ' to learn more about interactive tables.';\n",
              "          element.innerHTML = '';\n",
              "          dataTable['output_type'] = 'display_data';\n",
              "          await google.colab.output.renderOutput(dataTable, element);\n",
              "          const docLink = document.createElement('div');\n",
              "          docLink.innerHTML = docLinkHtml;\n",
              "          element.appendChild(docLink);\n",
              "        }\n",
              "      </script>\n",
              "    </div>\n",
              "  </div>\n",
              "  "
            ]
          },
          "metadata": {},
          "execution_count": 8
        }
      ]
    },
    {
      "cell_type": "code",
      "source": [
        "round(paarkstraat2.describe(), 2)"
      ],
      "metadata": {
        "colab": {
          "base_uri": "https://localhost:8080/",
          "height": 300
        },
        "id": "FbHSXAp4Pg0N",
        "outputId": "7265b122-d1b3-4f27-ae2c-5100679580cc"
      },
      "execution_count": null,
      "outputs": [
        {
          "output_type": "execute_result",
          "data": {
            "text/plain": [
              "       object_id       lamax        laeq        lceq      lcpeak\n",
              "count  2630766.0  2630766.00  2630766.00  2630766.00  2630766.00\n",
              "mean    255443.0       50.09       48.27       57.12       69.80\n",
              "std          0.0       10.28       10.16        9.40        8.93\n",
              "min     255443.0       33.00       32.00       41.75       53.59\n",
              "25%     255443.0       40.90       39.10       48.87       61.40\n",
              "50%     255443.0       51.00       48.40       56.14       69.27\n",
              "75%     255443.0       57.70       56.10       64.07       76.66\n",
              "max     255443.0      106.90      104.50      103.87      121.01"
            ],
            "text/html": [
              "\n",
              "  <div id=\"df-90481336-ef87-4d6f-9ec4-a0ccccfd55c5\">\n",
              "    <div class=\"colab-df-container\">\n",
              "      <div>\n",
              "<style scoped>\n",
              "    .dataframe tbody tr th:only-of-type {\n",
              "        vertical-align: middle;\n",
              "    }\n",
              "\n",
              "    .dataframe tbody tr th {\n",
              "        vertical-align: top;\n",
              "    }\n",
              "\n",
              "    .dataframe thead th {\n",
              "        text-align: right;\n",
              "    }\n",
              "</style>\n",
              "<table border=\"1\" class=\"dataframe\">\n",
              "  <thead>\n",
              "    <tr style=\"text-align: right;\">\n",
              "      <th></th>\n",
              "      <th>object_id</th>\n",
              "      <th>lamax</th>\n",
              "      <th>laeq</th>\n",
              "      <th>lceq</th>\n",
              "      <th>lcpeak</th>\n",
              "    </tr>\n",
              "  </thead>\n",
              "  <tbody>\n",
              "    <tr>\n",
              "      <th>count</th>\n",
              "      <td>2630766.0</td>\n",
              "      <td>2630766.00</td>\n",
              "      <td>2630766.00</td>\n",
              "      <td>2630766.00</td>\n",
              "      <td>2630766.00</td>\n",
              "    </tr>\n",
              "    <tr>\n",
              "      <th>mean</th>\n",
              "      <td>255443.0</td>\n",
              "      <td>50.09</td>\n",
              "      <td>48.27</td>\n",
              "      <td>57.12</td>\n",
              "      <td>69.80</td>\n",
              "    </tr>\n",
              "    <tr>\n",
              "      <th>std</th>\n",
              "      <td>0.0</td>\n",
              "      <td>10.28</td>\n",
              "      <td>10.16</td>\n",
              "      <td>9.40</td>\n",
              "      <td>8.93</td>\n",
              "    </tr>\n",
              "    <tr>\n",
              "      <th>min</th>\n",
              "      <td>255443.0</td>\n",
              "      <td>33.00</td>\n",
              "      <td>32.00</td>\n",
              "      <td>41.75</td>\n",
              "      <td>53.59</td>\n",
              "    </tr>\n",
              "    <tr>\n",
              "      <th>25%</th>\n",
              "      <td>255443.0</td>\n",
              "      <td>40.90</td>\n",
              "      <td>39.10</td>\n",
              "      <td>48.87</td>\n",
              "      <td>61.40</td>\n",
              "    </tr>\n",
              "    <tr>\n",
              "      <th>50%</th>\n",
              "      <td>255443.0</td>\n",
              "      <td>51.00</td>\n",
              "      <td>48.40</td>\n",
              "      <td>56.14</td>\n",
              "      <td>69.27</td>\n",
              "    </tr>\n",
              "    <tr>\n",
              "      <th>75%</th>\n",
              "      <td>255443.0</td>\n",
              "      <td>57.70</td>\n",
              "      <td>56.10</td>\n",
              "      <td>64.07</td>\n",
              "      <td>76.66</td>\n",
              "    </tr>\n",
              "    <tr>\n",
              "      <th>max</th>\n",
              "      <td>255443.0</td>\n",
              "      <td>106.90</td>\n",
              "      <td>104.50</td>\n",
              "      <td>103.87</td>\n",
              "      <td>121.01</td>\n",
              "    </tr>\n",
              "  </tbody>\n",
              "</table>\n",
              "</div>\n",
              "      <button class=\"colab-df-convert\" onclick=\"convertToInteractive('df-90481336-ef87-4d6f-9ec4-a0ccccfd55c5')\"\n",
              "              title=\"Convert this dataframe to an interactive table.\"\n",
              "              style=\"display:none;\">\n",
              "        \n",
              "  <svg xmlns=\"http://www.w3.org/2000/svg\" height=\"24px\"viewBox=\"0 0 24 24\"\n",
              "       width=\"24px\">\n",
              "    <path d=\"M0 0h24v24H0V0z\" fill=\"none\"/>\n",
              "    <path d=\"M18.56 5.44l.94 2.06.94-2.06 2.06-.94-2.06-.94-.94-2.06-.94 2.06-2.06.94zm-11 1L8.5 8.5l.94-2.06 2.06-.94-2.06-.94L8.5 2.5l-.94 2.06-2.06.94zm10 10l.94 2.06.94-2.06 2.06-.94-2.06-.94-.94-2.06-.94 2.06-2.06.94z\"/><path d=\"M17.41 7.96l-1.37-1.37c-.4-.4-.92-.59-1.43-.59-.52 0-1.04.2-1.43.59L10.3 9.45l-7.72 7.72c-.78.78-.78 2.05 0 2.83L4 21.41c.39.39.9.59 1.41.59.51 0 1.02-.2 1.41-.59l7.78-7.78 2.81-2.81c.8-.78.8-2.07 0-2.86zM5.41 20L4 18.59l7.72-7.72 1.47 1.35L5.41 20z\"/>\n",
              "  </svg>\n",
              "      </button>\n",
              "      \n",
              "  <style>\n",
              "    .colab-df-container {\n",
              "      display:flex;\n",
              "      flex-wrap:wrap;\n",
              "      gap: 12px;\n",
              "    }\n",
              "\n",
              "    .colab-df-convert {\n",
              "      background-color: #E8F0FE;\n",
              "      border: none;\n",
              "      border-radius: 50%;\n",
              "      cursor: pointer;\n",
              "      display: none;\n",
              "      fill: #1967D2;\n",
              "      height: 32px;\n",
              "      padding: 0 0 0 0;\n",
              "      width: 32px;\n",
              "    }\n",
              "\n",
              "    .colab-df-convert:hover {\n",
              "      background-color: #E2EBFA;\n",
              "      box-shadow: 0px 1px 2px rgba(60, 64, 67, 0.3), 0px 1px 3px 1px rgba(60, 64, 67, 0.15);\n",
              "      fill: #174EA6;\n",
              "    }\n",
              "\n",
              "    [theme=dark] .colab-df-convert {\n",
              "      background-color: #3B4455;\n",
              "      fill: #D2E3FC;\n",
              "    }\n",
              "\n",
              "    [theme=dark] .colab-df-convert:hover {\n",
              "      background-color: #434B5C;\n",
              "      box-shadow: 0px 1px 3px 1px rgba(0, 0, 0, 0.15);\n",
              "      filter: drop-shadow(0px 1px 2px rgba(0, 0, 0, 0.3));\n",
              "      fill: #FFFFFF;\n",
              "    }\n",
              "  </style>\n",
              "\n",
              "      <script>\n",
              "        const buttonEl =\n",
              "          document.querySelector('#df-90481336-ef87-4d6f-9ec4-a0ccccfd55c5 button.colab-df-convert');\n",
              "        buttonEl.style.display =\n",
              "          google.colab.kernel.accessAllowed ? 'block' : 'none';\n",
              "\n",
              "        async function convertToInteractive(key) {\n",
              "          const element = document.querySelector('#df-90481336-ef87-4d6f-9ec4-a0ccccfd55c5');\n",
              "          const dataTable =\n",
              "            await google.colab.kernel.invokeFunction('convertToInteractive',\n",
              "                                                     [key], {});\n",
              "          if (!dataTable) return;\n",
              "\n",
              "          const docLinkHtml = 'Like what you see? Visit the ' +\n",
              "            '<a target=\"_blank\" href=https://colab.research.google.com/notebooks/data_table.ipynb>data table notebook</a>'\n",
              "            + ' to learn more about interactive tables.';\n",
              "          element.innerHTML = '';\n",
              "          dataTable['output_type'] = 'display_data';\n",
              "          await google.colab.output.renderOutput(dataTable, element);\n",
              "          const docLink = document.createElement('div');\n",
              "          docLink.innerHTML = docLinkHtml;\n",
              "          element.appendChild(docLink);\n",
              "        }\n",
              "      </script>\n",
              "    </div>\n",
              "  </div>\n",
              "  "
            ]
          },
          "metadata": {},
          "execution_count": 9
        }
      ]
    },
    {
      "cell_type": "code",
      "source": [
        "round(naamsestraat81.describe(), 2)"
      ],
      "metadata": {
        "colab": {
          "base_uri": "https://localhost:8080/",
          "height": 300
        },
        "id": "lRhgkMZIPizG",
        "outputId": "b845c110-d5e9-45c7-af00-73a36a6221ab"
      },
      "execution_count": null,
      "outputs": [
        {
          "output_type": "execute_result",
          "data": {
            "text/plain": [
              "       object_id       lamax        laeq        lceq      lcpeak\n",
              "count  2678323.0  2678323.00  2678323.00  2678323.00  2678323.00\n",
              "mean    255444.0       48.80       47.52       58.75       70.08\n",
              "std          0.0       10.78       10.54        8.56        8.55\n",
              "min     255444.0       32.00       31.30       45.41       55.26\n",
              "25%     255444.0       39.00       38.00       51.04       62.39\n",
              "50%     255444.0       48.30       46.80       57.29       69.03\n",
              "75%     255444.0       57.10       55.60       64.74       76.19\n",
              "max     255444.0      107.80      103.80      103.88      120.75"
            ],
            "text/html": [
              "\n",
              "  <div id=\"df-bf5ae2dd-2398-43d2-9f04-86178897acca\">\n",
              "    <div class=\"colab-df-container\">\n",
              "      <div>\n",
              "<style scoped>\n",
              "    .dataframe tbody tr th:only-of-type {\n",
              "        vertical-align: middle;\n",
              "    }\n",
              "\n",
              "    .dataframe tbody tr th {\n",
              "        vertical-align: top;\n",
              "    }\n",
              "\n",
              "    .dataframe thead th {\n",
              "        text-align: right;\n",
              "    }\n",
              "</style>\n",
              "<table border=\"1\" class=\"dataframe\">\n",
              "  <thead>\n",
              "    <tr style=\"text-align: right;\">\n",
              "      <th></th>\n",
              "      <th>object_id</th>\n",
              "      <th>lamax</th>\n",
              "      <th>laeq</th>\n",
              "      <th>lceq</th>\n",
              "      <th>lcpeak</th>\n",
              "    </tr>\n",
              "  </thead>\n",
              "  <tbody>\n",
              "    <tr>\n",
              "      <th>count</th>\n",
              "      <td>2678323.0</td>\n",
              "      <td>2678323.00</td>\n",
              "      <td>2678323.00</td>\n",
              "      <td>2678323.00</td>\n",
              "      <td>2678323.00</td>\n",
              "    </tr>\n",
              "    <tr>\n",
              "      <th>mean</th>\n",
              "      <td>255444.0</td>\n",
              "      <td>48.80</td>\n",
              "      <td>47.52</td>\n",
              "      <td>58.75</td>\n",
              "      <td>70.08</td>\n",
              "    </tr>\n",
              "    <tr>\n",
              "      <th>std</th>\n",
              "      <td>0.0</td>\n",
              "      <td>10.78</td>\n",
              "      <td>10.54</td>\n",
              "      <td>8.56</td>\n",
              "      <td>8.55</td>\n",
              "    </tr>\n",
              "    <tr>\n",
              "      <th>min</th>\n",
              "      <td>255444.0</td>\n",
              "      <td>32.00</td>\n",
              "      <td>31.30</td>\n",
              "      <td>45.41</td>\n",
              "      <td>55.26</td>\n",
              "    </tr>\n",
              "    <tr>\n",
              "      <th>25%</th>\n",
              "      <td>255444.0</td>\n",
              "      <td>39.00</td>\n",
              "      <td>38.00</td>\n",
              "      <td>51.04</td>\n",
              "      <td>62.39</td>\n",
              "    </tr>\n",
              "    <tr>\n",
              "      <th>50%</th>\n",
              "      <td>255444.0</td>\n",
              "      <td>48.30</td>\n",
              "      <td>46.80</td>\n",
              "      <td>57.29</td>\n",
              "      <td>69.03</td>\n",
              "    </tr>\n",
              "    <tr>\n",
              "      <th>75%</th>\n",
              "      <td>255444.0</td>\n",
              "      <td>57.10</td>\n",
              "      <td>55.60</td>\n",
              "      <td>64.74</td>\n",
              "      <td>76.19</td>\n",
              "    </tr>\n",
              "    <tr>\n",
              "      <th>max</th>\n",
              "      <td>255444.0</td>\n",
              "      <td>107.80</td>\n",
              "      <td>103.80</td>\n",
              "      <td>103.88</td>\n",
              "      <td>120.75</td>\n",
              "    </tr>\n",
              "  </tbody>\n",
              "</table>\n",
              "</div>\n",
              "      <button class=\"colab-df-convert\" onclick=\"convertToInteractive('df-bf5ae2dd-2398-43d2-9f04-86178897acca')\"\n",
              "              title=\"Convert this dataframe to an interactive table.\"\n",
              "              style=\"display:none;\">\n",
              "        \n",
              "  <svg xmlns=\"http://www.w3.org/2000/svg\" height=\"24px\"viewBox=\"0 0 24 24\"\n",
              "       width=\"24px\">\n",
              "    <path d=\"M0 0h24v24H0V0z\" fill=\"none\"/>\n",
              "    <path d=\"M18.56 5.44l.94 2.06.94-2.06 2.06-.94-2.06-.94-.94-2.06-.94 2.06-2.06.94zm-11 1L8.5 8.5l.94-2.06 2.06-.94-2.06-.94L8.5 2.5l-.94 2.06-2.06.94zm10 10l.94 2.06.94-2.06 2.06-.94-2.06-.94-.94-2.06-.94 2.06-2.06.94z\"/><path d=\"M17.41 7.96l-1.37-1.37c-.4-.4-.92-.59-1.43-.59-.52 0-1.04.2-1.43.59L10.3 9.45l-7.72 7.72c-.78.78-.78 2.05 0 2.83L4 21.41c.39.39.9.59 1.41.59.51 0 1.02-.2 1.41-.59l7.78-7.78 2.81-2.81c.8-.78.8-2.07 0-2.86zM5.41 20L4 18.59l7.72-7.72 1.47 1.35L5.41 20z\"/>\n",
              "  </svg>\n",
              "      </button>\n",
              "      \n",
              "  <style>\n",
              "    .colab-df-container {\n",
              "      display:flex;\n",
              "      flex-wrap:wrap;\n",
              "      gap: 12px;\n",
              "    }\n",
              "\n",
              "    .colab-df-convert {\n",
              "      background-color: #E8F0FE;\n",
              "      border: none;\n",
              "      border-radius: 50%;\n",
              "      cursor: pointer;\n",
              "      display: none;\n",
              "      fill: #1967D2;\n",
              "      height: 32px;\n",
              "      padding: 0 0 0 0;\n",
              "      width: 32px;\n",
              "    }\n",
              "\n",
              "    .colab-df-convert:hover {\n",
              "      background-color: #E2EBFA;\n",
              "      box-shadow: 0px 1px 2px rgba(60, 64, 67, 0.3), 0px 1px 3px 1px rgba(60, 64, 67, 0.15);\n",
              "      fill: #174EA6;\n",
              "    }\n",
              "\n",
              "    [theme=dark] .colab-df-convert {\n",
              "      background-color: #3B4455;\n",
              "      fill: #D2E3FC;\n",
              "    }\n",
              "\n",
              "    [theme=dark] .colab-df-convert:hover {\n",
              "      background-color: #434B5C;\n",
              "      box-shadow: 0px 1px 3px 1px rgba(0, 0, 0, 0.15);\n",
              "      filter: drop-shadow(0px 1px 2px rgba(0, 0, 0, 0.3));\n",
              "      fill: #FFFFFF;\n",
              "    }\n",
              "  </style>\n",
              "\n",
              "      <script>\n",
              "        const buttonEl =\n",
              "          document.querySelector('#df-bf5ae2dd-2398-43d2-9f04-86178897acca button.colab-df-convert');\n",
              "        buttonEl.style.display =\n",
              "          google.colab.kernel.accessAllowed ? 'block' : 'none';\n",
              "\n",
              "        async function convertToInteractive(key) {\n",
              "          const element = document.querySelector('#df-bf5ae2dd-2398-43d2-9f04-86178897acca');\n",
              "          const dataTable =\n",
              "            await google.colab.kernel.invokeFunction('convertToInteractive',\n",
              "                                                     [key], {});\n",
              "          if (!dataTable) return;\n",
              "\n",
              "          const docLinkHtml = 'Like what you see? Visit the ' +\n",
              "            '<a target=\"_blank\" href=https://colab.research.google.com/notebooks/data_table.ipynb>data table notebook</a>'\n",
              "            + ' to learn more about interactive tables.';\n",
              "          element.innerHTML = '';\n",
              "          dataTable['output_type'] = 'display_data';\n",
              "          await google.colab.output.renderOutput(dataTable, element);\n",
              "          const docLink = document.createElement('div');\n",
              "          docLink.innerHTML = docLinkHtml;\n",
              "          element.appendChild(docLink);\n",
              "        }\n",
              "      </script>\n",
              "    </div>\n",
              "  </div>\n",
              "  "
            ]
          },
          "metadata": {},
          "execution_count": 10
        }
      ]
    },
    {
      "cell_type": "markdown",
      "source": [
        "#Outlier Detection - IQR Criteria - Naamsestraat62"
      ],
      "metadata": {
        "id": "qXKxhHRxRT_i"
      }
    },
    {
      "cell_type": "code",
      "source": [
        "def identify_outliers_IQR(dataset, column, factor=1.5):\n",
        "    q1 = dataset[column].quantile(0.25)\n",
        "    q3 = dataset[column].quantile(0.75)\n",
        "    iqr = q3 - q1\n",
        "    lower_limit = q1 - (iqr * factor)\n",
        "    upper_limit = q3 + (iqr * factor)\n",
        "    is_lower = dataset[column] < lower_limit\n",
        "    is_upper = dataset[column] > upper_limit\n",
        "    outliers = dataset[is_lower | is_upper]\n",
        "    lower_outliers = dataset[dataset[column] < lower_limit]\n",
        "    upper_outliers = dataset[dataset[column] > upper_limit]\n",
        "    print(f\"Total number of outliers in {column}: {len(outliers)}\")\n",
        "    print(f\"Number of lower outliers in {column}: {len(lower_outliers)}\")\n",
        "    print(f\"Number of upper outliers in {column}: {len(upper_outliers)}\")\n",
        "    return outliers, lower_outliers, upper_outliers"
      ],
      "metadata": {
        "id": "1XiFASoJr224"
      },
      "execution_count": null,
      "outputs": []
    },
    {
      "cell_type": "code",
      "source": [
        "#my_outliers, my_lower_outliers, my_upper_outliers = identify_outliers(my_dataset, 'my_column', factor=2.0)"
      ],
      "metadata": {
        "id": "DM-cIGlGr_dN"
      },
      "execution_count": null,
      "outputs": []
    },
    {
      "cell_type": "markdown",
      "source": [
        "Naamsestraat62 - lamax"
      ],
      "metadata": {
        "id": "bU4qO_3ZUIif"
      }
    },
    {
      "cell_type": "code",
      "source": [
        "q1_lamax_naamsestraat62 = naamsestraat62['lamax'].quantile(0.25)\n",
        "q3_lamax_naamsestraat62 = naamsestraat62['lamax'].quantile(0.75)\n",
        "iqr_lamax_naamsestraat62 = q3_lamax_naamsestraat62 - q1_lamax_naamsestraat62\n",
        "factor = 1.5\n",
        "lower_limit_lamax_naamsestraat62 = q1_lamax_naamsestraat62 - (iqr_lamax_naamsestraat62 * factor)\n",
        "upper_limit_lamax_naamsestraat62 = q3_lamax_naamsestraat62 + (iqr_lamax_naamsestraat62 * factor)\n",
        "is_lower_lamax_naamsestraat62 = naamsestraat62['lamax'] < lower_limit_lamax_naamsestraat62\n",
        "is_upper_lamax_naamsestraat62 = naamsestraat62['lamax'] > upper_limit_lamax_naamsestraat62\n",
        "outliers_lamax_naamsestraat62 = naamsestraat62[is_lower_lamax_naamsestraat62 | is_upper_lamax_naamsestraat62]\n",
        "print(len(outliers_lamax_naamsestraat62))\n",
        "lower_outliers_lamax_naamsestraat62 = naamsestraat62[naamsestraat62['lamax'] < lower_limit_lamax_naamsestraat62]\n",
        "print(len(lower_outliers_lamax_naamsestraat62))\n",
        "upper_outliers_lamax_naamsestraat62 = naamsestraat62[naamsestraat62['lamax'] > upper_limit_lamax_naamsestraat62]\n",
        "print(len(upper_outliers_lamax_naamsestraat62))"
      ],
      "metadata": {
        "colab": {
          "base_uri": "https://localhost:8080/"
        },
        "id": "fFexWxa8RVxA",
        "outputId": "905f7e3b-3924-4cd4-dd66-52c111b5c680"
      },
      "execution_count": null,
      "outputs": [
        {
          "output_type": "stream",
          "name": "stdout",
          "text": [
            "13575\n",
            "0\n",
            "13575\n"
          ]
        }
      ]
    },
    {
      "cell_type": "markdown",
      "source": [
        "Naamsestraat62 - laeq"
      ],
      "metadata": {
        "id": "9xxxVThKUOoj"
      }
    },
    {
      "cell_type": "code",
      "source": [
        "q1_laeq_naamsestraat62 = naamsestraat62['laeq'].quantile(0.25)\n",
        "q3_laeq_naamsestraat62 = naamsestraat62['laeq'].quantile(0.75)\n",
        "iqr_laeq_naamsestraat62 = q3_laeq_naamsestraat62 - q1_laeq_naamsestraat62\n",
        "factor = 1.5\n",
        "lower_limit_laeq_naamsestraat62 = q1_laeq_naamsestraat62 - (iqr_laeq_naamsestraat62 * factor)\n",
        "upper_limit_laeq_naamsestraat62 = q3_laeq_naamsestraat62 + (iqr_laeq_naamsestraat62 * factor)\n",
        "is_lower_laeq_naamsestraat62 = naamsestraat62['laeq'] < lower_limit_laeq_naamsestraat62\n",
        "is_upper_laeq_naamsestraat62 = naamsestraat62['laeq'] > upper_limit_laeq_naamsestraat62\n",
        "outliers_laeq_naamsestraat62 = naamsestraat62[is_lower_laeq_naamsestraat62 | is_upper_laeq_naamsestraat62]\n",
        "print(len(outliers_laeq_naamsestraat62))\n",
        "lower_outliers_laeq_naamsestraat62 = naamsestraat62[naamsestraat62['laeq'] < lower_limit_laeq_naamsestraat62]\n",
        "print(len(lower_outliers_laeq_naamsestraat62))\n",
        "upper_outliers_laeq_naamsestraat62 = naamsestraat62[naamsestraat62['laeq'] > upper_limit_laeq_naamsestraat62]\n",
        "print(len(upper_outliers_laeq_naamsestraat62))"
      ],
      "metadata": {
        "colab": {
          "base_uri": "https://localhost:8080/"
        },
        "id": "n5WWCZZlTRW4",
        "outputId": "4b1c9c3d-bfad-4649-a34c-9e212e58b9d8"
      },
      "execution_count": null,
      "outputs": [
        {
          "output_type": "stream",
          "name": "stdout",
          "text": [
            "13746\n",
            "0\n",
            "13746\n"
          ]
        }
      ]
    },
    {
      "cell_type": "markdown",
      "source": [
        "Naamsestraat62 - lceq"
      ],
      "metadata": {
        "id": "E5_20NO0UnZI"
      }
    },
    {
      "cell_type": "code",
      "source": [
        "q1_lceq_naamsestraat62 = naamsestraat62['lceq'].quantile(0.25)\n",
        "q3_lceq_naamsestraat62 = naamsestraat62['lceq'].quantile(0.75)\n",
        "iqr_lceq_naamsestraat62 = q3_lceq_naamsestraat62 - q1_lceq_naamsestraat62\n",
        "factor = 1.5\n",
        "lower_limit_lceq_naamsestraat62 = q1_lceq_naamsestraat62 - (iqr_lceq_naamsestraat62 * factor)\n",
        "upper_limit_lceq_naamsestraat62 = q3_lceq_naamsestraat62 + (iqr_lceq_naamsestraat62 * factor)\n",
        "is_lower_lceq_naamsestraat62 = naamsestraat62['lceq'] < lower_limit_lceq_naamsestraat62\n",
        "is_upper_lceq_naamsestraat62 = naamsestraat62['lceq'] > upper_limit_lceq_naamsestraat62\n",
        "outliers_lceq_naamsestraat62 = naamsestraat62[is_lower_lceq_naamsestraat62 | is_upper_lceq_naamsestraat62]\n",
        "print(len(outliers_lceq_naamsestraat62))\n",
        "lower_outliers_lceq_naamsestraat62 = naamsestraat62[naamsestraat62['lceq'] < lower_limit_lceq_naamsestraat62]\n",
        "print(len(lower_outliers_lceq_naamsestraat62))\n",
        "upper_outliers_lceq_naamsestraat62 = naamsestraat62[naamsestraat62['lceq'] > upper_limit_lceq_naamsestraat62]\n",
        "print(len(upper_outliers_lceq_naamsestraat62))"
      ],
      "metadata": {
        "colab": {
          "base_uri": "https://localhost:8080/"
        },
        "id": "OH9pxIdvUdaD",
        "outputId": "ee0abc8e-0292-4ebd-9bcf-5648a819c593"
      },
      "execution_count": null,
      "outputs": [
        {
          "output_type": "stream",
          "name": "stdout",
          "text": [
            "35405\n",
            "0\n",
            "35405\n"
          ]
        }
      ]
    },
    {
      "cell_type": "markdown",
      "source": [
        "Naamsestraat62 - lcpeak"
      ],
      "metadata": {
        "id": "gE1Pj6aTUy4M"
      }
    },
    {
      "cell_type": "code",
      "source": [
        "q1_lcpeak_naamsestraat62 = naamsestraat62['lcpeak'].quantile(0.25)\n",
        "q3_lcpeak_naamsestraat62 = naamsestraat62['lcpeak'].quantile(0.75)\n",
        "iqr_lcpeak_naamsestraat62 = q3_lcpeak_naamsestraat62 - q1_lcpeak_naamsestraat62\n",
        "factor = 1.5\n",
        "lower_limit_lcpeak_naamsestraat62 = q1_lcpeak_naamsestraat62 - (iqr_lcpeak_naamsestraat62 * factor)\n",
        "upper_limit_lcpeak_naamsestraat62 = q3_lcpeak_naamsestraat62 + (iqr_lcpeak_naamsestraat62 * factor)\n",
        "is_lower_lcpeak_naamsestraat62 = naamsestraat62['lcpeak'] < lower_limit_lcpeak_naamsestraat62\n",
        "is_upper_lcpeak_naamsestraat62 = naamsestraat62['lcpeak'] > upper_limit_lcpeak_naamsestraat62\n",
        "outliers_lcpeak_naamsestraat62 = naamsestraat62[is_lower_lcpeak_naamsestraat62 | is_upper_lcpeak_naamsestraat62]\n",
        "print(len(outliers_lcpeak_naamsestraat62))\n",
        "lower_outliers_lcpeak_naamsestraat62 = naamsestraat62[naamsestraat62['lcpeak'] < lower_limit_lcpeak_naamsestraat62]\n",
        "print(len(lower_outliers_lcpeak_naamsestraat62))\n",
        "upper_outliers_lcpeak_naamsestraat62 = naamsestraat62[naamsestraat62['lcpeak'] > upper_limit_lcpeak_naamsestraat62]\n",
        "print(len(upper_outliers_lcpeak_naamsestraat62))"
      ],
      "metadata": {
        "colab": {
          "base_uri": "https://localhost:8080/"
        },
        "id": "i7seOnYKUwST",
        "outputId": "e4ff8481-8bbe-477a-8075-7868e60790ba"
      },
      "execution_count": null,
      "outputs": [
        {
          "output_type": "stream",
          "name": "stdout",
          "text": [
            "25916\n",
            "0\n",
            "25916\n"
          ]
        }
      ]
    },
    {
      "cell_type": "markdown",
      "source": [
        "#Outlier Detection - IQR Criteria - Calvariekapel "
      ],
      "metadata": {
        "id": "H4xzcFnUVM3V"
      }
    },
    {
      "cell_type": "markdown",
      "source": [
        "Calvariekapel - lamax"
      ],
      "metadata": {
        "id": "LnwhGD-nVdme"
      }
    },
    {
      "cell_type": "code",
      "source": [
        "q1_lamax_calvariekapel = calvariekapel['lamax'].quantile(0.25)\n",
        "q3_lamax_calvariekapel = calvariekapel['lamax'].quantile(0.75)\n",
        "iqr_lamax_calvariekapel = q3_lamax_calvariekapel - q1_lamax_calvariekapel\n",
        "factor = 1.5\n",
        "lower_limit_lamax_calvariekapel = q1_lamax_calvariekapel - (iqr_lamax_calvariekapel * factor)\n",
        "upper_limit_lamax_calvariekapel = q3_lamax_calvariekapel + (iqr_lamax_calvariekapel * factor)\n",
        "is_lower_lamax_calvariekapel = calvariekapel['lamax'] < lower_limit_lamax_calvariekapel\n",
        "is_upper_lamax_calvariekapel = calvariekapel['lamax'] > upper_limit_lamax_calvariekapel\n",
        "outliers_lamax_calvariekapel = calvariekapel[is_lower_lamax_calvariekapel | is_upper_lamax_calvariekapel]\n",
        "print(len(outliers_lamax_calvariekapel))\n",
        "lower_outliers_lamax_calvariekapel = calvariekapel[calvariekapel['lamax'] < lower_limit_lamax_calvariekapel]\n",
        "print(len(lower_outliers_lamax_calvariekapel))\n",
        "upper_outliers_lamax_calvariekapel = calvariekapel[calvariekapel['lamax'] > upper_limit_lamax_calvariekapel]\n",
        "print(len(upper_outliers_lamax_calvariekapel))"
      ],
      "metadata": {
        "colab": {
          "base_uri": "https://localhost:8080/"
        },
        "outputId": "b55a9628-ca54-4c8e-be7b-38d7110a98c7",
        "id": "Kxbbdq0yVdmf"
      },
      "execution_count": null,
      "outputs": [
        {
          "output_type": "stream",
          "name": "stdout",
          "text": [
            "1213\n",
            "0\n",
            "1213\n"
          ]
        }
      ]
    },
    {
      "cell_type": "markdown",
      "source": [
        "Calvariekapel - laeq"
      ],
      "metadata": {
        "id": "j5rdV5WXVdmf"
      }
    },
    {
      "cell_type": "code",
      "source": [
        "q1_laeq_calvariekapel = calvariekapel['laeq'].quantile(0.25)\n",
        "q3_laeq_calvariekapel = calvariekapel['laeq'].quantile(0.75)\n",
        "iqr_laeq_calvariekapel = q3_laeq_calvariekapel - q1_laeq_calvariekapel\n",
        "factor = 1.5\n",
        "lower_limit_laeq_calvariekapel = q1_laeq_calvariekapel - (iqr_laeq_calvariekapel * factor)\n",
        "upper_limit_laeq_calvariekapel = q3_laeq_calvariekapel + (iqr_laeq_calvariekapel * factor)\n",
        "is_lower_laeq_calvariekapel = calvariekapel['laeq'] < lower_limit_laeq_calvariekapel\n",
        "is_upper_laeq_calvariekapel = calvariekapel['laeq'] > upper_limit_laeq_calvariekapel\n",
        "outliers_laeq_calvariekapel = calvariekapel[is_lower_laeq_calvariekapel | is_upper_laeq_calvariekapel]\n",
        "print(len(outliers_laeq_calvariekapel))\n",
        "lower_outliers_laeq_calvariekapel = calvariekapel[calvariekapel['laeq'] < lower_limit_laeq_calvariekapel]\n",
        "print(len(lower_outliers_laeq_calvariekapel))\n",
        "upper_outliers_laeq_calvariekapel = calvariekapel[calvariekapel['laeq'] > upper_limit_laeq_calvariekapel]\n",
        "print(len(upper_outliers_laeq_calvariekapel))"
      ],
      "metadata": {
        "colab": {
          "base_uri": "https://localhost:8080/"
        },
        "outputId": "3743b74a-dc11-486c-9465-524d404e6a0d",
        "id": "TTH201jlVdmf"
      },
      "execution_count": null,
      "outputs": [
        {
          "output_type": "stream",
          "name": "stdout",
          "text": [
            "603\n",
            "0\n",
            "603\n"
          ]
        }
      ]
    },
    {
      "cell_type": "markdown",
      "source": [
        "Calvariekapel - lceq"
      ],
      "metadata": {
        "id": "OjG9bsl_Vdmf"
      }
    },
    {
      "cell_type": "code",
      "source": [
        "q1_lceq_calvariekapel = calvariekapel['lceq'].quantile(0.25)\n",
        "q3_lceq_calvariekapel = calvariekapel['lceq'].quantile(0.75)\n",
        "iqr_lceq_calvariekapel = q3_lceq_calvariekapel - q1_lceq_calvariekapel\n",
        "factor = 1.5\n",
        "lower_limit_lceq_calvariekapel = q1_lceq_calvariekapel - (iqr_lceq_calvariekapel * factor)\n",
        "upper_limit_lceq_calvariekapel = q3_lceq_calvariekapel + (iqr_lceq_calvariekapel * factor)\n",
        "is_lower_lceq_calvariekapel = calvariekapel['lceq'] < lower_limit_lceq_calvariekapel\n",
        "is_upper_lceq_calvariekapel = calvariekapel['lceq'] > upper_limit_lceq_calvariekapel\n",
        "outliers_lceq_calvariekapel = calvariekapel[is_lower_lceq_calvariekapel | is_upper_lceq_calvariekapel]\n",
        "print(len(outliers_lceq_calvariekapel))\n",
        "lower_outliers_lceq_calvariekapel = calvariekapel[calvariekapel['lceq'] < lower_limit_lceq_calvariekapel]\n",
        "print(len(lower_outliers_lceq_calvariekapel))\n",
        "upper_outliers_lceq_calvariekapel = calvariekapel[calvariekapel['lceq'] > upper_limit_lceq_calvariekapel]\n",
        "print(len(upper_outliers_lceq_calvariekapel))"
      ],
      "metadata": {
        "colab": {
          "base_uri": "https://localhost:8080/"
        },
        "outputId": "d4355fab-2f2d-42fc-9d14-59ecafd0d157",
        "id": "BzbIXUZdVdmf"
      },
      "execution_count": null,
      "outputs": [
        {
          "output_type": "stream",
          "name": "stdout",
          "text": [
            "8255\n",
            "0\n",
            "8255\n"
          ]
        }
      ]
    },
    {
      "cell_type": "markdown",
      "source": [
        "Calvariekapel - lcpeak"
      ],
      "metadata": {
        "id": "BLlHS1tdVdmf"
      }
    },
    {
      "cell_type": "code",
      "source": [
        "q1_lcpeak_calvariekapel = calvariekapel['lcpeak'].quantile(0.25)\n",
        "q3_lcpeak_calvariekapel = calvariekapel['lcpeak'].quantile(0.75)\n",
        "iqr_lcpeak_calvariekapel = q3_lcpeak_calvariekapel - q1_lcpeak_calvariekapel\n",
        "factor = 1.5\n",
        "lower_limit_lcpeak_calvariekapel = q1_lcpeak_calvariekapel - (iqr_lcpeak_calvariekapel * factor)\n",
        "upper_limit_lcpeak_calvariekapel = q3_lcpeak_calvariekapel + (iqr_lcpeak_calvariekapel * factor)\n",
        "is_lower_lcpeak_calvariekapel = calvariekapel['lcpeak'] < lower_limit_lcpeak_calvariekapel\n",
        "is_upper_lcpeak_calvariekapel = calvariekapel['lcpeak'] > upper_limit_lcpeak_calvariekapel\n",
        "outliers_lcpeak_calvariekapel = calvariekapel[is_lower_lcpeak_calvariekapel | is_upper_lcpeak_calvariekapel]\n",
        "print(len(outliers_lcpeak_calvariekapel))\n",
        "lower_outliers_lcpeak_calvariekapel = calvariekapel[calvariekapel['lcpeak'] < lower_limit_lcpeak_calvariekapel]\n",
        "print(len(lower_outliers_lcpeak_calvariekapel))\n",
        "upper_outliers_lcpeak_calvariekapel = calvariekapel[calvariekapel['lcpeak'] > upper_limit_lcpeak_calvariekapel]\n",
        "print(len(upper_outliers_lcpeak_calvariekapel))"
      ],
      "metadata": {
        "colab": {
          "base_uri": "https://localhost:8080/"
        },
        "outputId": "a362baa3-f003-4796-b8c4-6cbf04dab681",
        "id": "rBmHxGYgVdmg"
      },
      "execution_count": null,
      "outputs": [
        {
          "output_type": "stream",
          "name": "stdout",
          "text": [
            "5585\n",
            "0\n",
            "5585\n"
          ]
        }
      ]
    },
    {
      "cell_type": "markdown",
      "source": [
        "#Outlier Detection - IQR Criteria - Paarkstraat2"
      ],
      "metadata": {
        "id": "q-oivY5nWRhD"
      }
    },
    {
      "cell_type": "markdown",
      "source": [
        "Paarkstraat2 - lamax"
      ],
      "metadata": {
        "id": "TkxPoZIWWqyb"
      }
    },
    {
      "cell_type": "code",
      "source": [
        "q1_lamax_paarkstraat2 = paarkstraat2['lamax'].quantile(0.25)\n",
        "q3_lamax_paarkstraat2 = paarkstraat2['lamax'].quantile(0.75)\n",
        "iqr_lamax_paarkstraat2 = q3_lamax_paarkstraat2 - q1_lamax_paarkstraat2\n",
        "factor = 1.5\n",
        "lower_limit_lamax_paarkstraat2 = q1_lamax_paarkstraat2 - (iqr_lamax_paarkstraat2 * factor)\n",
        "upper_limit_lamax_paarkstraat2 = q3_lamax_paarkstraat2 + (iqr_lamax_paarkstraat2 * factor)\n",
        "is_lower_lamax_paarkstraat2 = paarkstraat2['lamax'] < lower_limit_lamax_paarkstraat2\n",
        "is_upper_lamax_paarkstraat2 = paarkstraat2['lamax'] > upper_limit_lamax_paarkstraat2\n",
        "outliers_lamax_paarkstraat2 = paarkstraat2[is_lower_lamax_paarkstraat2 | is_upper_lamax_paarkstraat2]\n",
        "print(len(outliers_lamax_paarkstraat2))\n",
        "lower_outliers_lamax_paarkstraat2 = paarkstraat2[paarkstraat2['lamax'] < lower_limit_lamax_paarkstraat2]\n",
        "print(len(lower_outliers_lamax_paarkstraat2))\n",
        "upper_outliers_lamax_paarkstraat2 = paarkstraat2[paarkstraat2['lamax'] > upper_limit_lamax_paarkstraat2]\n",
        "print(len(upper_outliers_lamax_paarkstraat2))"
      ],
      "metadata": {
        "colab": {
          "base_uri": "https://localhost:8080/"
        },
        "outputId": "1a3faea2-96f8-44d4-f39c-bbebab90dc7a",
        "id": "x3kUVvM3Wqyb"
      },
      "execution_count": null,
      "outputs": [
        {
          "output_type": "stream",
          "name": "stdout",
          "text": [
            "784\n",
            "0\n",
            "784\n"
          ]
        }
      ]
    },
    {
      "cell_type": "markdown",
      "source": [
        "Paarkstraat2 - laeq"
      ],
      "metadata": {
        "id": "F9rFqicrWqyc"
      }
    },
    {
      "cell_type": "code",
      "source": [
        "q1_laeq_paarkstraat2 = paarkstraat2['laeq'].quantile(0.25)\n",
        "q3_laeq_paarkstraat2 = paarkstraat2['laeq'].quantile(0.75)\n",
        "iqr_laeq_paarkstraat2 = q3_laeq_paarkstraat2 - q1_laeq_paarkstraat2\n",
        "factor = 1.5\n",
        "lower_limit_laeq_paarkstraat2 = q1_laeq_paarkstraat2 - (iqr_laeq_paarkstraat2 * factor)\n",
        "upper_limit_laeq_paarkstraat2 = q3_laeq_paarkstraat2 + (iqr_laeq_paarkstraat2 * factor)\n",
        "is_lower_laeq_paarkstraat2 = paarkstraat2['laeq'] < lower_limit_laeq_paarkstraat2\n",
        "is_upper_laeq_paarkstraat2 = paarkstraat2['laeq'] > upper_limit_laeq_paarkstraat2\n",
        "outliers_laeq_paarkstraat2 = paarkstraat2[is_lower_laeq_paarkstraat2 | is_upper_laeq_paarkstraat2]\n",
        "print(len(outliers_laeq_paarkstraat2))\n",
        "lower_outliers_laeq_paarkstraat2 = paarkstraat2[paarkstraat2['laeq'] < lower_limit_laeq_paarkstraat2]\n",
        "print(len(lower_outliers_laeq_paarkstraat2))\n",
        "upper_outliers_laeq_paarkstraat2 = paarkstraat2[paarkstraat2['laeq'] > upper_limit_laeq_paarkstraat2]\n",
        "print(len(upper_outliers_laeq_paarkstraat2))"
      ],
      "metadata": {
        "colab": {
          "base_uri": "https://localhost:8080/"
        },
        "outputId": "8078f10b-fb43-4fc1-f4c2-c6f4bc37883a",
        "id": "Hp_oAQIOWqyc"
      },
      "execution_count": null,
      "outputs": [
        {
          "output_type": "stream",
          "name": "stdout",
          "text": [
            "545\n",
            "0\n",
            "545\n"
          ]
        }
      ]
    },
    {
      "cell_type": "markdown",
      "source": [
        "Paarkstraat2 - lceq"
      ],
      "metadata": {
        "id": "GWNWpayRWqyd"
      }
    },
    {
      "cell_type": "code",
      "source": [
        "q1_lceq_paarkstraat2 = paarkstraat2['lceq'].quantile(0.25)\n",
        "q3_lceq_paarkstraat2 = paarkstraat2['lceq'].quantile(0.75)\n",
        "iqr_lceq_paarkstraat2 = q3_lceq_paarkstraat2 - q1_lceq_paarkstraat2\n",
        "factor = 1.5\n",
        "lower_limit_lceq_paarkstraat2 = q1_lceq_paarkstraat2 - (iqr_lceq_paarkstraat2 * factor)\n",
        "upper_limit_lceq_paarkstraat2 = q3_lceq_paarkstraat2 + (iqr_lceq_paarkstraat2 * factor)\n",
        "is_lower_lceq_paarkstraat2 = paarkstraat2['lceq'] < lower_limit_lceq_paarkstraat2\n",
        "is_upper_lceq_paarkstraat2 = paarkstraat2['lceq'] > upper_limit_lceq_paarkstraat2\n",
        "outliers_lceq_paarkstraat2 = paarkstraat2[is_lower_lceq_paarkstraat2 | is_upper_lceq_paarkstraat2]\n",
        "print(len(outliers_lceq_paarkstraat2))\n",
        "lower_outliers_lceq_paarkstraat2 = paarkstraat2[paarkstraat2['lceq'] < lower_limit_lceq_paarkstraat2]\n",
        "print(len(lower_outliers_lceq_paarkstraat2))\n",
        "upper_outliers_lceq_paarkstraat2 = paarkstraat2[paarkstraat2['lceq'] > upper_limit_lceq_paarkstraat2]\n",
        "print(len(upper_outliers_lceq_paarkstraat2))"
      ],
      "metadata": {
        "colab": {
          "base_uri": "https://localhost:8080/"
        },
        "outputId": "d0fd1739-0791-4d58-c6b6-bbde36cd0ab4",
        "id": "60rO1TIlWqyd"
      },
      "execution_count": null,
      "outputs": [
        {
          "output_type": "stream",
          "name": "stdout",
          "text": [
            "2734\n",
            "0\n",
            "2734\n"
          ]
        }
      ]
    },
    {
      "cell_type": "markdown",
      "source": [
        "Paarkstraat2 - lcpeak"
      ],
      "metadata": {
        "id": "089gO6fcWqyd"
      }
    },
    {
      "cell_type": "code",
      "source": [
        "q1_lcpeak_paarkstraat2 = paarkstraat2['lcpeak'].quantile(0.25)\n",
        "q3_lcpeak_paarkstraat2 = paarkstraat2['lcpeak'].quantile(0.75)\n",
        "iqr_lcpeak_paarkstraat2 = q3_lcpeak_paarkstraat2 - q1_lcpeak_paarkstraat2\n",
        "factor = 1.5\n",
        "lower_limit_lcpeak_paarkstraat2 = q1_lcpeak_paarkstraat2 - (iqr_lcpeak_paarkstraat2 * factor)\n",
        "upper_limit_lcpeak_paarkstraat2 = q3_lcpeak_paarkstraat2 + (iqr_lcpeak_paarkstraat2 * factor)\n",
        "is_lower_lcpeak_paarkstraat2 = paarkstraat2['lcpeak'] < lower_limit_lcpeak_paarkstraat2\n",
        "is_upper_lcpeak_paarkstraat2 = paarkstraat2['lcpeak'] > upper_limit_lcpeak_paarkstraat2\n",
        "outliers_lcpeak_paarkstraat2 = paarkstraat2[is_lower_lcpeak_paarkstraat2 | is_upper_lcpeak_paarkstraat2]\n",
        "print(len(outliers_lcpeak_paarkstraat2))\n",
        "lower_outliers_lcpeak_paarkstraat2 = paarkstraat2[paarkstraat2['lcpeak'] < lower_limit_lcpeak_paarkstraat2]\n",
        "print(len(lower_outliers_lcpeak_paarkstraat2))\n",
        "upper_outliers_lcpeak_paarkstraat2 = paarkstraat2[paarkstraat2['lcpeak'] > upper_limit_lcpeak_paarkstraat2]\n",
        "print(len(upper_outliers_lcpeak_paarkstraat2))"
      ],
      "metadata": {
        "colab": {
          "base_uri": "https://localhost:8080/"
        },
        "outputId": "af22100e-b84a-43b8-8314-9e48eb00554c",
        "id": "SpaJ0TtVWqyd"
      },
      "execution_count": null,
      "outputs": [
        {
          "output_type": "stream",
          "name": "stdout",
          "text": [
            "746\n",
            "0\n",
            "746\n"
          ]
        }
      ]
    },
    {
      "cell_type": "markdown",
      "source": [
        "#Outlier Detection - IQR Criteria - Naamsestraat81"
      ],
      "metadata": {
        "id": "CZSJiQxIWd7g"
      }
    },
    {
      "cell_type": "markdown",
      "source": [
        "Naamsestraat81 - lamax"
      ],
      "metadata": {
        "id": "ykVSN0rDWrXN"
      }
    },
    {
      "cell_type": "code",
      "source": [
        "q1_lamax_naamsestraat81 = naamsestraat81['lamax'].quantile(0.25)\n",
        "q3_lamax_naamsestraat81 = naamsestraat81['lamax'].quantile(0.75)\n",
        "iqr_lamax_naamsestraat81 = q3_lamax_naamsestraat81 - q1_lamax_naamsestraat81\n",
        "factor = 1.5\n",
        "lower_limit_lamax_naamsestraat81 = q1_lamax_naamsestraat81 - (iqr_lamax_naamsestraat81 * factor)\n",
        "upper_limit_lamax_naamsestraat81 = q3_lamax_naamsestraat81 + (iqr_lamax_naamsestraat81 * factor)\n",
        "is_lower_lamax_naamsestraat81 = naamsestraat81['lamax'] < lower_limit_lamax_naamsestraat81\n",
        "is_upper_lamax_naamsestraat81 = naamsestraat81['lamax'] > upper_limit_lamax_naamsestraat81\n",
        "outliers_lamax_naamsestraat81 = naamsestraat81[is_lower_lamax_naamsestraat81 | is_upper_lamax_naamsestraat81]\n",
        "print(len(outliers_lamax_naamsestraat81))\n",
        "lower_outliers_lamax_naamsestraat81 = naamsestraat81[naamsestraat81['lamax'] < lower_limit_lamax_naamsestraat81]\n",
        "print(len(lower_outliers_lamax_naamsestraat81))\n",
        "upper_outliers_lamax_naamsestraat81 = naamsestraat81[naamsestraat81['lamax'] > upper_limit_lamax_naamsestraat81]\n",
        "print(len(upper_outliers_lamax_naamsestraat81))"
      ],
      "metadata": {
        "colab": {
          "base_uri": "https://localhost:8080/"
        },
        "outputId": "ba186e3c-745d-4a2a-b197-09540f79b909",
        "id": "w6NsLpI8WrXN"
      },
      "execution_count": null,
      "outputs": [
        {
          "output_type": "stream",
          "name": "stdout",
          "text": [
            "1331\n",
            "0\n",
            "1331\n"
          ]
        }
      ]
    },
    {
      "cell_type": "markdown",
      "source": [
        "Naamsestraat81 - laeq"
      ],
      "metadata": {
        "id": "6QDw6WryWrXN"
      }
    },
    {
      "cell_type": "code",
      "source": [
        "q1_laeq_naamsestraat81 = naamsestraat81['laeq'].quantile(0.25)\n",
        "q3_laeq_naamsestraat81 = naamsestraat81['laeq'].quantile(0.75)\n",
        "iqr_laeq_naamsestraat81 = q3_laeq_naamsestraat81 - q1_laeq_naamsestraat81\n",
        "factor = 1.5\n",
        "lower_limit_laeq_naamsestraat81 = q1_laeq_naamsestraat81 - (iqr_laeq_naamsestraat81 * factor)\n",
        "upper_limit_laeq_naamsestraat81 = q3_laeq_naamsestraat81 + (iqr_laeq_naamsestraat81 * factor)\n",
        "is_lower_laeq_naamsestraat81 = naamsestraat81['laeq'] < lower_limit_laeq_naamsestraat81\n",
        "is_upper_laeq_naamsestraat81 = naamsestraat81['laeq'] > upper_limit_laeq_naamsestraat81\n",
        "outliers_laeq_naamsestraat81 = naamsestraat81[is_lower_laeq_naamsestraat81 | is_upper_laeq_naamsestraat81]\n",
        "print(len(outliers_laeq_naamsestraat81))\n",
        "lower_outliers_laeq_naamsestraat81 = naamsestraat81[naamsestraat81['laeq'] < lower_limit_laeq_naamsestraat81]\n",
        "print(len(lower_outliers_laeq_naamsestraat81))\n",
        "upper_outliers_laeq_naamsestraat81 = naamsestraat81[naamsestraat81['laeq'] > upper_limit_laeq_naamsestraat81]\n",
        "print(len(upper_outliers_laeq_naamsestraat81))"
      ],
      "metadata": {
        "colab": {
          "base_uri": "https://localhost:8080/"
        },
        "outputId": "4cde3338-6015-4398-d41b-33dd7be80af3",
        "id": "h8nIVkjiWrXN"
      },
      "execution_count": null,
      "outputs": [
        {
          "output_type": "stream",
          "name": "stdout",
          "text": [
            "1449\n",
            "0\n",
            "1449\n"
          ]
        }
      ]
    },
    {
      "cell_type": "markdown",
      "source": [
        "Naamsestraat81 - lceq"
      ],
      "metadata": {
        "id": "XLo97WMvWrXN"
      }
    },
    {
      "cell_type": "code",
      "source": [
        "q1_lceq_naamsestraat81 = naamsestraat81['lceq'].quantile(0.25)\n",
        "q3_lceq_naamsestraat81 = naamsestraat81['lceq'].quantile(0.75)\n",
        "iqr_lceq_naamsestraat81 = q3_lceq_naamsestraat81 - q1_lceq_naamsestraat81\n",
        "factor = 1.5\n",
        "lower_limit_lceq_naamsestraat81 = q1_lceq_naamsestraat81 - (iqr_lceq_naamsestraat81 * factor)\n",
        "upper_limit_lceq_naamsestraat81 = q3_lceq_naamsestraat81 + (iqr_lceq_naamsestraat81 * factor)\n",
        "is_lower_lceq_naamsestraat81 = naamsestraat81['lceq'] < lower_limit_lceq_naamsestraat81\n",
        "is_upper_lceq_naamsestraat81 = naamsestraat81['lceq'] > upper_limit_lceq_naamsestraat81\n",
        "outliers_lceq_naamsestraat81 = naamsestraat81[is_lower_lceq_naamsestraat81 | is_upper_lceq_naamsestraat81]\n",
        "print(len(outliers_lceq_naamsestraat81))\n",
        "lower_outliers_lceq_naamsestraat81 = naamsestraat81[naamsestraat81['lceq'] < lower_limit_lceq_naamsestraat81]\n",
        "print(len(lower_outliers_lceq_naamsestraat81))\n",
        "upper_outliers_lceq_naamsestraat81 = naamsestraat81[naamsestraat81['lceq'] > upper_limit_lceq_naamsestraat81]\n",
        "print(len(upper_outliers_lceq_naamsestraat81))"
      ],
      "metadata": {
        "colab": {
          "base_uri": "https://localhost:8080/"
        },
        "outputId": "3c72d196-6603-4cd4-85ff-167083b543b2",
        "id": "M8MoKpU2WrXO"
      },
      "execution_count": null,
      "outputs": [
        {
          "output_type": "stream",
          "name": "stdout",
          "text": [
            "6339\n",
            "0\n",
            "6339\n"
          ]
        }
      ]
    },
    {
      "cell_type": "markdown",
      "source": [
        "Naamsestraat81 - lcpeak"
      ],
      "metadata": {
        "id": "uL-la7ldWrXO"
      }
    },
    {
      "cell_type": "code",
      "source": [
        "q1_lcpeak_naamsestraat81 = naamsestraat81['lcpeak'].quantile(0.25)\n",
        "q3_lcpeak_naamsestraat81 = naamsestraat81['lcpeak'].quantile(0.75)\n",
        "iqr_lcpeak_naamsestraat81 = q3_lcpeak_naamsestraat81 - q1_lcpeak_naamsestraat81\n",
        "factor = 1.5\n",
        "lower_limit_lcpeak_naamsestraat81 = q1_lcpeak_naamsestraat81 - (iqr_lcpeak_naamsestraat81 * factor)\n",
        "upper_limit_lcpeak_naamsestraat81 = q3_lcpeak_naamsestraat81 + (iqr_lcpeak_naamsestraat81 * factor)\n",
        "is_lower_lcpeak_naamsestraat81 = naamsestraat81['lcpeak'] < lower_limit_lcpeak_naamsestraat81\n",
        "is_upper_lcpeak_naamsestraat81 = naamsestraat81['lcpeak'] > upper_limit_lcpeak_naamsestraat81\n",
        "outliers_lcpeak_naamsestraat81 = naamsestraat81[is_lower_lcpeak_naamsestraat81 | is_upper_lcpeak_naamsestraat81]\n",
        "print(len(outliers_lcpeak_naamsestraat81))\n",
        "lower_outliers_lcpeak_naamsestraat81 = naamsestraat81[naamsestraat81['lcpeak'] < lower_limit_lcpeak_naamsestraat81]\n",
        "print(len(lower_outliers_lcpeak_naamsestraat81))\n",
        "upper_outliers_lcpeak_naamsestraat81 = naamsestraat81[naamsestraat81['lcpeak'] > upper_limit_lcpeak_naamsestraat81]\n",
        "print(len(upper_outliers_lcpeak_naamsestraat81))"
      ],
      "metadata": {
        "colab": {
          "base_uri": "https://localhost:8080/"
        },
        "outputId": "a17e7e2d-6cdc-4c1c-cea4-9318fb21562a",
        "id": "XNFYVAbMWrXO"
      },
      "execution_count": null,
      "outputs": [
        {
          "output_type": "stream",
          "name": "stdout",
          "text": [
            "3399\n",
            "0\n",
            "3399\n"
          ]
        }
      ]
    },
    {
      "cell_type": "markdown",
      "source": [
        "#Outlier Detection - MAD Criteria - Naamsestraat62"
      ],
      "metadata": {
        "id": "I3HiddSRYdlX"
      }
    },
    {
      "cell_type": "code",
      "source": [
        "def detect_outliers_mad(dataset, column, threshold=3.5):\n",
        "    mad_score = median_abs_deviation(dataset[column])\n",
        "    mad = mad_score * threshold\n",
        "    lof = LocalOutlierFactor(n_neighbors=20, contamination='auto', novelty=False)\n",
        "    column_reshaped = dataset[column].values.reshape(-1,1)\n",
        "    labels = lof.fit_predict(column_reshaped)\n",
        "    outliers = dataset[labels==-1]\n",
        "    print(f\"Number of outliers in {column}: {len(outliers)}\")\n",
        "    return outliers"
      ],
      "metadata": {
        "id": "dq66UI1Esexq"
      },
      "execution_count": null,
      "outputs": []
    },
    {
      "cell_type": "code",
      "source": [
        "#my_outliers = detect_outliers_mad(my_dataset, 'my_column', threshold=4.0)"
      ],
      "metadata": {
        "id": "XPOiXADFshq0"
      },
      "execution_count": null,
      "outputs": []
    },
    {
      "cell_type": "markdown",
      "source": [
        "lamax"
      ],
      "metadata": {
        "id": "QrKnl6qUYlJP"
      }
    },
    {
      "cell_type": "code",
      "source": [
        "mad_score_lamax_naamsestraat62 = median_abs_deviation(naamsestraat62_clean['lamax'])\n",
        "mad_score_lamax_naamsestraat62"
      ],
      "metadata": {
        "colab": {
          "base_uri": "https://localhost:8080/"
        },
        "id": "7T5vMASfegSM",
        "outputId": "499f4060-e6d8-4ee6-81eb-a7173b335ccf"
      },
      "execution_count": null,
      "outputs": [
        {
          "output_type": "execute_result",
          "data": {
            "text/plain": [
              "5.0"
            ]
          },
          "metadata": {},
          "execution_count": 85
        }
      ]
    },
    {
      "cell_type": "code",
      "source": [
        "mad= MAD(threshold = 3.5)\n",
        "lamax_naamsestraat62_reshaped = naamsestraat62_clean['lamax'].values.reshape(-1,1)\n",
        "labels_lamax_naamsestraat62 = mad.fit_predict(lamax_naamsestraat62_reshaped)\n",
        "print(labels_lamax_naamsestraat62.sum())"
      ],
      "metadata": {
        "colab": {
          "base_uri": "https://localhost:8080/"
        },
        "id": "1AOFvCZLYhMG",
        "outputId": "58ab8236-1ec8-4107-c1e5-116bf9872695"
      },
      "execution_count": null,
      "outputs": [
        {
          "output_type": "stream",
          "name": "stdout",
          "text": [
            "2427\n"
          ]
        },
        {
          "output_type": "stream",
          "name": "stderr",
          "text": [
            "/usr/local/lib/python3.10/dist-packages/sklearn/utils/deprecation.py:86: FutureWarning: Function fit_predict is deprecated\n",
            "  warnings.warn(msg, category=FutureWarning)\n"
          ]
        }
      ]
    },
    {
      "cell_type": "code",
      "source": [
        "outliers_mad_lamax_naamsestraat62 = naamsestraat62_clean[labels_lamax_naamsestraat62 == 1]\n",
        "outliers_mad_lamax_naamsestraat62['lamax'].describe()"
      ],
      "metadata": {
        "colab": {
          "base_uri": "https://localhost:8080/"
        },
        "id": "ERH6K8BuqOji",
        "outputId": "944365d0-ac34-4f03-aa1d-b9f9dded105f"
      },
      "execution_count": null,
      "outputs": [
        {
          "output_type": "execute_result",
          "data": {
            "text/plain": [
              "count    2427.000000\n",
              "mean       81.868521\n",
              "std         4.512468\n",
              "min        78.100000\n",
              "25%        78.900000\n",
              "50%        80.300000\n",
              "75%        82.950000\n",
              "max       104.100000\n",
              "Name: lamax, dtype: float64"
            ]
          },
          "metadata": {},
          "execution_count": 129
        }
      ]
    },
    {
      "cell_type": "markdown",
      "source": [
        "laeq"
      ],
      "metadata": {
        "id": "TT7Xw7fPajNj"
      }
    },
    {
      "cell_type": "code",
      "source": [
        "mad_score_laeq_naamsestraat62 = median_abs_deviation(naamsestraat62_clean['laeq'])\n",
        "mad_score_laeq_naamsestraat62"
      ],
      "metadata": {
        "colab": {
          "base_uri": "https://localhost:8080/"
        },
        "id": "qKsEHkxjhiux",
        "outputId": "7f4694b8-ceb4-45c5-845e-7477a91ebf38"
      },
      "execution_count": null,
      "outputs": [
        {
          "output_type": "execute_result",
          "data": {
            "text/plain": [
              "4.799999999999997"
            ]
          },
          "metadata": {},
          "execution_count": 90
        }
      ]
    },
    {
      "cell_type": "code",
      "source": [
        "mad= MAD(threshold = 3.5)\n",
        "laeq_naamsestraat62_reshaped = naamsestraat62_clean['laeq'].values.reshape(-1,1)\n",
        "labels_laeq_naamsestraat62 = mad.fit_predict(laeq_naamsestraat62_reshaped)\n",
        "print(labels_laeq_naamsestraat62.sum())"
      ],
      "metadata": {
        "colab": {
          "base_uri": "https://localhost:8080/"
        },
        "id": "ZDw9XBccZTR2",
        "outputId": "486450ef-ace2-4d48-dadb-c47fa4ebf277"
      },
      "execution_count": null,
      "outputs": [
        {
          "output_type": "stream",
          "name": "stdout",
          "text": [
            "2748\n"
          ]
        },
        {
          "output_type": "stream",
          "name": "stderr",
          "text": [
            "/usr/local/lib/python3.10/dist-packages/sklearn/utils/deprecation.py:86: FutureWarning: Function fit_predict is deprecated\n",
            "  warnings.warn(msg, category=FutureWarning)\n"
          ]
        }
      ]
    },
    {
      "cell_type": "code",
      "source": [
        "outliers_mad_laeq_naamsestraat62 = naamsestraat62_clean[labels_laeq_naamsestraat62 == 1]\n",
        "outliers_mad_laeq_naamsestraat62['laeq'].describe()"
      ],
      "metadata": {
        "colab": {
          "base_uri": "https://localhost:8080/"
        },
        "id": "_NbgtN2crC1A",
        "outputId": "84b8c5bd-0c82-48ec-d90b-92f3f9720a37"
      },
      "execution_count": null,
      "outputs": [
        {
          "output_type": "execute_result",
          "data": {
            "text/plain": [
              "count    2748.000000\n",
              "mean       78.542358\n",
              "std         3.926095\n",
              "min        75.400000\n",
              "25%        76.100000\n",
              "50%        77.200000\n",
              "75%        79.400000\n",
              "max       100.500000\n",
              "Name: laeq, dtype: float64"
            ]
          },
          "metadata": {},
          "execution_count": 130
        }
      ]
    },
    {
      "cell_type": "markdown",
      "source": [
        "lceq"
      ],
      "metadata": {
        "id": "bkXpRBKja063"
      }
    },
    {
      "cell_type": "code",
      "source": [
        "mad_score_lceq_naamsestraat62 = median_abs_deviation(naamsestraat62_clean['lceq'])\n",
        "mad_score_lceq_naamsestraat62"
      ],
      "metadata": {
        "colab": {
          "base_uri": "https://localhost:8080/"
        },
        "id": "PFWMJzPJhobX",
        "outputId": "7289f89c-b5a2-4ee1-ce77-fc3bcd3ceaf3"
      },
      "execution_count": null,
      "outputs": [
        {
          "output_type": "execute_result",
          "data": {
            "text/plain": [
              "3.8400000000000034"
            ]
          },
          "metadata": {},
          "execution_count": 91
        }
      ]
    },
    {
      "cell_type": "code",
      "source": [
        "mad= MAD(threshold = 3.5)\n",
        "lceq_naamsestraat62_reshaped = naamsestraat62_clean['lceq'].values.reshape(-1,1)\n",
        "labels_lceq_naamsestraat62 = mad.fit_predict(lceq_naamsestraat62_reshaped)\n",
        "print(labels_lceq_naamsestraat62.sum())"
      ],
      "metadata": {
        "colab": {
          "base_uri": "https://localhost:8080/"
        },
        "id": "Cljg6-T-aqOY",
        "outputId": "1c807f51-8507-418b-d194-47ade50ffc3e"
      },
      "execution_count": null,
      "outputs": [
        {
          "output_type": "stream",
          "name": "stdout",
          "text": [
            "22474\n"
          ]
        },
        {
          "output_type": "stream",
          "name": "stderr",
          "text": [
            "/usr/local/lib/python3.10/dist-packages/sklearn/utils/deprecation.py:86: FutureWarning: Function fit_predict is deprecated\n",
            "  warnings.warn(msg, category=FutureWarning)\n"
          ]
        }
      ]
    },
    {
      "cell_type": "code",
      "source": [
        "outliers_mad_lceq_naamsestraat62 = naamsestraat62_clean[labels_lceq_naamsestraat62 == 1]\n",
        "outliers_mad_lceq_naamsestraat62['lceq'].describe()"
      ],
      "metadata": {
        "colab": {
          "base_uri": "https://localhost:8080/"
        },
        "id": "lNuouFqNrXrc",
        "outputId": "8a05faab-7d1f-438c-be4f-a7e6147579f8"
      },
      "execution_count": null,
      "outputs": [
        {
          "output_type": "execute_result",
          "data": {
            "text/plain": [
              "count    22474.000000\n",
              "mean        82.925699\n",
              "std          2.795882\n",
              "min         79.840000\n",
              "25%         80.730000\n",
              "50%         82.080000\n",
              "75%         84.357500\n",
              "max         99.970000\n",
              "Name: lceq, dtype: float64"
            ]
          },
          "metadata": {},
          "execution_count": 131
        }
      ]
    },
    {
      "cell_type": "markdown",
      "source": [
        "lcpeak"
      ],
      "metadata": {
        "id": "dKzm1klNbHAA"
      }
    },
    {
      "cell_type": "code",
      "source": [
        "mad_score_lcpeak_naamsestraat62 = median_abs_deviation(naamsestraat62_clean['lcpeak'])\n",
        "mad_score_lcpeak_naamsestraat62"
      ],
      "metadata": {
        "colab": {
          "base_uri": "https://localhost:8080/"
        },
        "id": "q3YM0rz6htII",
        "outputId": "379a4956-006a-405f-d420-4c4171be528e"
      },
      "execution_count": null,
      "outputs": [
        {
          "output_type": "execute_result",
          "data": {
            "text/plain": [
              "4.27000000000001"
            ]
          },
          "metadata": {},
          "execution_count": 92
        }
      ]
    },
    {
      "cell_type": "code",
      "source": [
        "mad= MAD(threshold = 3.5)\n",
        "lcpeak_naamsestraat62_reshaped = naamsestraat62_clean['lcpeak'].values.reshape(-1,1)\n",
        "labels_lcpeak_naamsestraat62 = mad.fit_predict(lcpeak_naamsestraat62_reshaped)\n",
        "print(labels_lcpeak_naamsestraat62.sum())"
      ],
      "metadata": {
        "colab": {
          "base_uri": "https://localhost:8080/"
        },
        "id": "eCq4MHZ9a9uW",
        "outputId": "55e8e1f5-e231-41f7-cd76-ea569aa1da16"
      },
      "execution_count": null,
      "outputs": [
        {
          "output_type": "stream",
          "name": "stderr",
          "text": [
            "/usr/local/lib/python3.10/dist-packages/sklearn/utils/deprecation.py:86: FutureWarning: Function fit_predict is deprecated\n",
            "  warnings.warn(msg, category=FutureWarning)\n"
          ]
        },
        {
          "output_type": "stream",
          "name": "stdout",
          "text": [
            "5454\n"
          ]
        }
      ]
    },
    {
      "cell_type": "code",
      "source": [
        "outliers_mad_lcpeak_naamsestraat62 = naamsestraat62_clean[labels_lcpeak_naamsestraat62 == 1]\n",
        "outliers_mad_lcpeak_naamsestraat62['lcpeak'].describe()"
      ],
      "metadata": {
        "colab": {
          "base_uri": "https://localhost:8080/"
        },
        "id": "X-Bjd2LKrcA6",
        "outputId": "a47c156b-9fd0-4447-8382-c9c90a8da50a"
      },
      "execution_count": null,
      "outputs": [
        {
          "output_type": "execute_result",
          "data": {
            "text/plain": [
              "count    5454.000000\n",
              "mean       96.703788\n",
              "std         2.933845\n",
              "min        94.280000\n",
              "25%        94.950000\n",
              "50%        95.850000\n",
              "75%        97.390000\n",
              "max       120.590000\n",
              "Name: lcpeak, dtype: float64"
            ]
          },
          "metadata": {},
          "execution_count": 133
        }
      ]
    },
    {
      "cell_type": "markdown",
      "source": [
        "#Outlier Detection - MAD Criteria - Calvariekapel"
      ],
      "metadata": {
        "id": "sxkRwQ2jbMly"
      }
    },
    {
      "cell_type": "markdown",
      "source": [
        "lamax"
      ],
      "metadata": {
        "id": "jFonE8pfcFrs"
      }
    },
    {
      "cell_type": "code",
      "source": [
        "mad_score_lamax_calvariekapel = median_abs_deviation(calvariekapel['lamax'])\n",
        "mad_score_lamax_calvariekapel"
      ],
      "metadata": {
        "colab": {
          "base_uri": "https://localhost:8080/"
        },
        "id": "o03FwDBNiAj5",
        "outputId": "d6839a1c-e1ba-4909-b585-1531aff19e67"
      },
      "execution_count": null,
      "outputs": [
        {
          "output_type": "execute_result",
          "data": {
            "text/plain": [
              "8.199999999999996"
            ]
          },
          "metadata": {},
          "execution_count": 93
        }
      ]
    },
    {
      "cell_type": "code",
      "source": [
        "mad= MAD(threshold = 3.5)\n",
        "lamax_calvariekapel_reshaped = calvariekapel['lamax'].values.reshape(-1,1)\n",
        "labels_lamax_calvariekapel = mad.fit_predict(lamax_calvariekapel_reshaped)\n",
        "print(labels_lamax_calvariekapel.sum())"
      ],
      "metadata": {
        "colab": {
          "base_uri": "https://localhost:8080/"
        },
        "outputId": "49c41fb7-031f-4854-bbde-a7d2e459ba70",
        "id": "DefP-KYqcFrs"
      },
      "execution_count": null,
      "outputs": [
        {
          "output_type": "stream",
          "name": "stdout",
          "text": [
            "90\n"
          ]
        },
        {
          "output_type": "stream",
          "name": "stderr",
          "text": [
            "/usr/local/lib/python3.10/dist-packages/sklearn/utils/deprecation.py:86: FutureWarning: Function fit_predict is deprecated\n",
            "  warnings.warn(msg, category=FutureWarning)\n"
          ]
        }
      ]
    },
    {
      "cell_type": "code",
      "source": [
        "outliers_mad_lamax_calvariekapel = calvariekapel[labels_lamax_calvariekapel == 1]\n",
        "outliers_mad_lamax_calvariekapel['lamax'].describe()"
      ],
      "metadata": {
        "colab": {
          "base_uri": "https://localhost:8080/"
        },
        "id": "IxcZxiYfrn9X",
        "outputId": "d4d5c264-397b-43e3-b9f6-f64ca28e8bef"
      },
      "execution_count": null,
      "outputs": [
        {
          "output_type": "execute_result",
          "data": {
            "text/plain": [
              "count     90.000000\n",
              "mean      98.896667\n",
              "std        4.104573\n",
              "min       93.200000\n",
              "25%       95.050000\n",
              "50%       98.200000\n",
              "75%      102.500000\n",
              "max      108.500000\n",
              "Name: lamax, dtype: float64"
            ]
          },
          "metadata": {},
          "execution_count": 134
        }
      ]
    },
    {
      "cell_type": "markdown",
      "source": [
        "laeq"
      ],
      "metadata": {
        "id": "WAFzZTLbcFrt"
      }
    },
    {
      "cell_type": "code",
      "source": [
        "mad_score_laeq_calvariekapel = median_abs_deviation(calvariekapel['laeq'])\n",
        "mad_score_laeq_calvariekapel"
      ],
      "metadata": {
        "colab": {
          "base_uri": "https://localhost:8080/"
        },
        "id": "nmiqOmsdiIAD",
        "outputId": "87dbeb3f-8d2a-4227-e295-1f19081d69f4"
      },
      "execution_count": null,
      "outputs": [
        {
          "output_type": "execute_result",
          "data": {
            "text/plain": [
              "8.100000000000001"
            ]
          },
          "metadata": {},
          "execution_count": 94
        }
      ]
    },
    {
      "cell_type": "code",
      "source": [
        "mad= MAD(threshold = 3.5)\n",
        "laeq_calvariekapel_reshaped = calvariekapel['laeq'].values.reshape(-1,1)\n",
        "labels_laeq_calvariekapel = mad.fit_predict(laeq_calvariekapel_reshaped)\n",
        "print(labels_laeq_calvariekapel.sum())"
      ],
      "metadata": {
        "colab": {
          "base_uri": "https://localhost:8080/"
        },
        "outputId": "eb508d05-9aab-444f-8de1-0ea3ced1bf56",
        "id": "OOgZ1LNFcFrt"
      },
      "execution_count": null,
      "outputs": [
        {
          "output_type": "stream",
          "name": "stdout",
          "text": [
            "89\n"
          ]
        },
        {
          "output_type": "stream",
          "name": "stderr",
          "text": [
            "/usr/local/lib/python3.10/dist-packages/sklearn/utils/deprecation.py:86: FutureWarning: Function fit_predict is deprecated\n",
            "  warnings.warn(msg, category=FutureWarning)\n"
          ]
        }
      ]
    },
    {
      "cell_type": "code",
      "source": [
        "outliers_mad_laeq_calvariekapel = calvariekapel[labels_laeq_calvariekapel == 1]\n",
        "outliers_mad_laeq_calvariekapel['laeq'].describe()"
      ],
      "metadata": {
        "colab": {
          "base_uri": "https://localhost:8080/"
        },
        "id": "cMSWnffir0DS",
        "outputId": "0a59ae92-664c-43dc-e8cb-3f0e8e2c1974"
      },
      "execution_count": null,
      "outputs": [
        {
          "output_type": "execute_result",
          "data": {
            "text/plain": [
              "count     89.000000\n",
              "mean      95.237079\n",
              "std        3.862712\n",
              "min       90.100000\n",
              "25%       92.000000\n",
              "50%       94.300000\n",
              "75%       98.600000\n",
              "max      105.200000\n",
              "Name: laeq, dtype: float64"
            ]
          },
          "metadata": {},
          "execution_count": 135
        }
      ]
    },
    {
      "cell_type": "markdown",
      "source": [
        "lceq"
      ],
      "metadata": {
        "id": "QUojJPDKcFrt"
      }
    },
    {
      "cell_type": "code",
      "source": [
        "mad_score_lceq_calvariekapel = median_abs_deviation(calvariekapel['lceq'])\n",
        "mad_score_lceq_calvariekapel"
      ],
      "metadata": {
        "colab": {
          "base_uri": "https://localhost:8080/"
        },
        "id": "Dx7TSxGTiPLB",
        "outputId": "189eb768-7208-4afd-ecbd-0d96813279c5"
      },
      "execution_count": null,
      "outputs": [
        {
          "output_type": "execute_result",
          "data": {
            "text/plain": [
              "6.339999999999996"
            ]
          },
          "metadata": {},
          "execution_count": 95
        }
      ]
    },
    {
      "cell_type": "code",
      "source": [
        "mad= MAD(threshold = 3.5)\n",
        "lceq_calvariekapel_reshaped = calvariekapel['lceq'].values.reshape(-1,1)\n",
        "labels_lceq_calvariekapel = mad.fit_predict(lceq_calvariekapel_reshaped)\n",
        "print(labels_lceq_calvariekapel.sum())"
      ],
      "metadata": {
        "colab": {
          "base_uri": "https://localhost:8080/"
        },
        "outputId": "ba7e98f4-48d7-4112-d078-8ac009794b32",
        "id": "jYsuLEfDcFrt"
      },
      "execution_count": null,
      "outputs": [
        {
          "output_type": "stream",
          "name": "stdout",
          "text": [
            "956\n"
          ]
        },
        {
          "output_type": "stream",
          "name": "stderr",
          "text": [
            "/usr/local/lib/python3.10/dist-packages/sklearn/utils/deprecation.py:86: FutureWarning: Function fit_predict is deprecated\n",
            "  warnings.warn(msg, category=FutureWarning)\n"
          ]
        }
      ]
    },
    {
      "cell_type": "code",
      "source": [
        "outliers_mad_lceq_calvariekapel = calvariekapel[labels_lceq_calvariekapel == 1]\n",
        "outliers_mad_lceq_calvariekapel['lceq'].describe()"
      ],
      "metadata": {
        "colab": {
          "base_uri": "https://localhost:8080/"
        },
        "id": "hqM-8NCjr01z",
        "outputId": "9151a954-42f8-4dd4-bd3d-80e88a8d6490"
      },
      "execution_count": null,
      "outputs": [
        {
          "output_type": "execute_result",
          "data": {
            "text/plain": [
              "count    956.000000\n",
              "mean      91.196653\n",
              "std        2.362972\n",
              "min       88.850000\n",
              "25%       89.530000\n",
              "50%       90.555000\n",
              "75%       92.085000\n",
              "max      105.020000\n",
              "Name: lceq, dtype: float64"
            ]
          },
          "metadata": {},
          "execution_count": 136
        }
      ]
    },
    {
      "cell_type": "markdown",
      "source": [
        "lcpeak"
      ],
      "metadata": {
        "id": "vf0tlsqVcFru"
      }
    },
    {
      "cell_type": "code",
      "source": [
        "mad_score_lcpeak_calvariekapel = median_abs_deviation(calvariekapel['lcpeak'])\n",
        "mad_score_lcpeak_calvariekapel"
      ],
      "metadata": {
        "colab": {
          "base_uri": "https://localhost:8080/"
        },
        "id": "IYLT3LF4iR1z",
        "outputId": "5b957cdb-296a-4a71-fd74-030f7db16354"
      },
      "execution_count": null,
      "outputs": [
        {
          "output_type": "execute_result",
          "data": {
            "text/plain": [
              "6.739999999999995"
            ]
          },
          "metadata": {},
          "execution_count": 96
        }
      ]
    },
    {
      "cell_type": "code",
      "source": [
        "mad= MAD(threshold = 3.5)\n",
        "lcpeak_calvariekapel_reshaped = calvariekapel['lcpeak'].values.reshape(-1,1)\n",
        "labels_lcpeak_calvariekapel = mad.fit_predict(lcpeak_calvariekapel_reshaped)\n",
        "print(labels_lcpeak_calvariekapel.sum())"
      ],
      "metadata": {
        "colab": {
          "base_uri": "https://localhost:8080/"
        },
        "outputId": "fae7dada-fb58-4263-b7b3-cd51b5c2c9ae",
        "id": "ME93f6qTcFru"
      },
      "execution_count": null,
      "outputs": [
        {
          "output_type": "stream",
          "name": "stdout",
          "text": [
            "275\n"
          ]
        },
        {
          "output_type": "stream",
          "name": "stderr",
          "text": [
            "/usr/local/lib/python3.10/dist-packages/sklearn/utils/deprecation.py:86: FutureWarning: Function fit_predict is deprecated\n",
            "  warnings.warn(msg, category=FutureWarning)\n"
          ]
        }
      ]
    },
    {
      "cell_type": "code",
      "source": [
        "outliers_mad_lcpeak_calvariekapel = calvariekapel[labels_lcpeak_calvariekapel == 1]\n",
        "outliers_mad_lcpeak_calvariekapel['lcpeak'].describe()"
      ],
      "metadata": {
        "colab": {
          "base_uri": "https://localhost:8080/"
        },
        "id": "fhwHb_zbr1ic",
        "outputId": "1fd2b63b-6392-4f6b-f1db-b74760059f4f"
      },
      "execution_count": null,
      "outputs": [
        {
          "output_type": "execute_result",
          "data": {
            "text/plain": [
              "count    275.000000\n",
              "mean     106.804364\n",
              "std        2.936974\n",
              "min      104.050000\n",
              "25%      104.830000\n",
              "50%      105.760000\n",
              "75%      107.690000\n",
              "max      121.270000\n",
              "Name: lcpeak, dtype: float64"
            ]
          },
          "metadata": {},
          "execution_count": 137
        }
      ]
    },
    {
      "cell_type": "markdown",
      "source": [
        "#Outlier Detection - MAD Criteria - Paarkstraat2"
      ],
      "metadata": {
        "id": "pCDTnjv6bR6n"
      }
    },
    {
      "cell_type": "markdown",
      "source": [
        "lamax"
      ],
      "metadata": {
        "id": "MCg4yDg0cGQh"
      }
    },
    {
      "cell_type": "code",
      "source": [
        "mad_score_lamax_paarkstraat2 = median_abs_deviation(paarkstraat2['lamax'])\n",
        "mad_score_lamax_paarkstraat2"
      ],
      "metadata": {
        "colab": {
          "base_uri": "https://localhost:8080/"
        },
        "id": "tKOE4t50iZwR",
        "outputId": "aecf6947-a96f-4494-b76e-51b5814eee01"
      },
      "execution_count": null,
      "outputs": [
        {
          "output_type": "execute_result",
          "data": {
            "text/plain": [
              "8.0"
            ]
          },
          "metadata": {},
          "execution_count": 97
        }
      ]
    },
    {
      "cell_type": "code",
      "source": [
        "mad= MAD(threshold = 3.5)\n",
        "lamax_paarkstraat2_reshaped = paarkstraat2['lamax'].values.reshape(-1,1)\n",
        "labels_lamax_paarkstraat2 = mad.fit_predict(lamax_paarkstraat2_reshaped)\n",
        "print(labels_lamax_paarkstraat2.sum())"
      ],
      "metadata": {
        "colab": {
          "base_uri": "https://localhost:8080/"
        },
        "outputId": "f87dd8f5-31eb-4e3b-bbe5-cc5c9c140651",
        "id": "SwhJSNYIcGQh"
      },
      "execution_count": null,
      "outputs": [
        {
          "output_type": "stream",
          "name": "stdout",
          "text": [
            "138\n"
          ]
        },
        {
          "output_type": "stream",
          "name": "stderr",
          "text": [
            "/usr/local/lib/python3.10/dist-packages/sklearn/utils/deprecation.py:86: FutureWarning: Function fit_predict is deprecated\n",
            "  warnings.warn(msg, category=FutureWarning)\n"
          ]
        }
      ]
    },
    {
      "cell_type": "code",
      "source": [
        "outliers_mad_lamax_paarkstraat2 = paarkstraat2[labels_lamax_paarkstraat2 == 1]\n",
        "outliers_mad_lamax_paarkstraat2['lamax'].describe()"
      ],
      "metadata": {
        "colab": {
          "base_uri": "https://localhost:8080/"
        },
        "id": "GfAWiIi4s6Q8",
        "outputId": "cd1d4673-30ee-40e7-c7d7-cc192c6d0935"
      },
      "execution_count": null,
      "outputs": [
        {
          "output_type": "execute_result",
          "data": {
            "text/plain": [
              "count    138.000000\n",
              "mean      96.785507\n",
              "std        3.652248\n",
              "min       92.600000\n",
              "25%       93.700000\n",
              "50%       96.000000\n",
              "75%       99.050000\n",
              "max      106.900000\n",
              "Name: lamax, dtype: float64"
            ]
          },
          "metadata": {},
          "execution_count": 138
        }
      ]
    },
    {
      "cell_type": "markdown",
      "source": [
        "laeq"
      ],
      "metadata": {
        "id": "Da6ArgcYcGQh"
      }
    },
    {
      "cell_type": "code",
      "source": [
        "mad_score_laeq_paarkstraat2 = median_abs_deviation(paarkstraat2['laeq'])\n",
        "mad_score_laeq_paarkstraat2"
      ],
      "metadata": {
        "colab": {
          "base_uri": "https://localhost:8080/"
        },
        "id": "nl-uy0Y-ijZS",
        "outputId": "a423d06c-64d8-439f-cd64-df17bd4baf16"
      },
      "execution_count": null,
      "outputs": [
        {
          "output_type": "execute_result",
          "data": {
            "text/plain": [
              "8.300000000000004"
            ]
          },
          "metadata": {},
          "execution_count": 98
        }
      ]
    },
    {
      "cell_type": "code",
      "source": [
        "mad= MAD(threshold = 3.5)\n",
        "laeq_paarkstraat2_reshaped = paarkstraat2['laeq'].values.reshape(-1,1)\n",
        "labels_laeq_paarkstraat2 = mad.fit_predict(laeq_paarkstraat2_reshaped)\n",
        "print(labels_laeq_paarkstraat2.sum())\n"
      ],
      "metadata": {
        "colab": {
          "base_uri": "https://localhost:8080/"
        },
        "outputId": "4c5d951d-3e95-46dd-c4d1-5bb513b1a190",
        "id": "FEyEWN8pcGQh"
      },
      "execution_count": null,
      "outputs": [
        {
          "output_type": "stream",
          "name": "stdout",
          "text": [
            "93\n"
          ]
        },
        {
          "output_type": "stream",
          "name": "stderr",
          "text": [
            "/usr/local/lib/python3.10/dist-packages/sklearn/utils/deprecation.py:86: FutureWarning: Function fit_predict is deprecated\n",
            "  warnings.warn(msg, category=FutureWarning)\n"
          ]
        }
      ]
    },
    {
      "cell_type": "code",
      "source": [
        "outliers_mad_laeq_paarkstraat2 = paarkstraat2[labels_laeq_paarkstraat2 == 1]\n",
        "outliers_mad_laeq_paarkstraat2['laeq'].describe()"
      ],
      "metadata": {
        "colab": {
          "base_uri": "https://localhost:8080/"
        },
        "id": "E1ksE5a_s8Jk",
        "outputId": "47ae774e-fcc7-481e-daca-d9b2d2a47c5c"
      },
      "execution_count": null,
      "outputs": [
        {
          "output_type": "execute_result",
          "data": {
            "text/plain": [
              "count     93.000000\n",
              "mean      95.236559\n",
              "std        2.937900\n",
              "min       91.500000\n",
              "25%       92.900000\n",
              "50%       94.400000\n",
              "75%       97.700000\n",
              "max      104.500000\n",
              "Name: laeq, dtype: float64"
            ]
          },
          "metadata": {},
          "execution_count": 139
        }
      ]
    },
    {
      "cell_type": "markdown",
      "source": [
        "lceq"
      ],
      "metadata": {
        "id": "IRj5hD0acGQh"
      }
    },
    {
      "cell_type": "code",
      "source": [
        "mad_score_lceq_paarkstraat2 = median_abs_deviation(paarkstraat2['lceq'])\n",
        "mad_score_lceq_paarkstraat2"
      ],
      "metadata": {
        "colab": {
          "base_uri": "https://localhost:8080/"
        },
        "id": "RNVxRh_cioTf",
        "outputId": "9981265f-1887-48cc-9d13-3354d595d5d9"
      },
      "execution_count": null,
      "outputs": [
        {
          "output_type": "execute_result",
          "data": {
            "text/plain": [
              "7.589999999999996"
            ]
          },
          "metadata": {},
          "execution_count": 99
        }
      ]
    },
    {
      "cell_type": "code",
      "source": [
        "mad= MAD(threshold = 3.5)\n",
        "lceq_paarkstraat2_reshaped = paarkstraat2['lceq'].values.reshape(-1,1)\n",
        "labels_lceq_paarkstraat2 = mad.fit_predict(lceq_paarkstraat2_reshaped)\n",
        "print(labels_lceq_paarkstraat2.sum())"
      ],
      "metadata": {
        "colab": {
          "base_uri": "https://localhost:8080/"
        },
        "outputId": "91497c9d-e4b9-4642-b956-91a30f1cb955",
        "id": "7QupW_TrcGQh"
      },
      "execution_count": null,
      "outputs": [
        {
          "output_type": "stream",
          "name": "stderr",
          "text": [
            "/usr/local/lib/python3.10/dist-packages/sklearn/utils/deprecation.py:86: FutureWarning: Function fit_predict is deprecated\n",
            "  warnings.warn(msg, category=FutureWarning)\n"
          ]
        },
        {
          "output_type": "stream",
          "name": "stdout",
          "text": [
            "51\n"
          ]
        }
      ]
    },
    {
      "cell_type": "code",
      "source": [
        "outliers_mad_lceq_paarkstraat2 = paarkstraat2[labels_lceq_paarkstraat2 == 1]\n",
        "outliers_mad_lceq_paarkstraat2['lceq'].describe()"
      ],
      "metadata": {
        "colab": {
          "base_uri": "https://localhost:8080/"
        },
        "id": "mnFoazoGtA5-",
        "outputId": "c0c3e8e3-aef0-45bb-97fb-e7a125185ff7"
      },
      "execution_count": null,
      "outputs": [
        {
          "output_type": "execute_result",
          "data": {
            "text/plain": [
              "count     51.000000\n",
              "mean      98.006863\n",
              "std        2.172974\n",
              "min       95.570000\n",
              "25%       95.995000\n",
              "50%       97.570000\n",
              "75%       99.335000\n",
              "max      103.870000\n",
              "Name: lceq, dtype: float64"
            ]
          },
          "metadata": {},
          "execution_count": 140
        }
      ]
    },
    {
      "cell_type": "markdown",
      "source": [
        "lcpeak"
      ],
      "metadata": {
        "id": "h_XHIRuNcGQi"
      }
    },
    {
      "cell_type": "code",
      "source": [
        "mad_score_lcpeak_paarkstraat2 = median_abs_deviation(paarkstraat2['lcpeak'])\n",
        "mad_score_lcpeak_paarkstraat2"
      ],
      "metadata": {
        "colab": {
          "base_uri": "https://localhost:8080/"
        },
        "id": "Ww-y3hQpirBZ",
        "outputId": "c93fbd9c-f900-4797-e8f6-407e0c19111e"
      },
      "execution_count": null,
      "outputs": [
        {
          "output_type": "execute_result",
          "data": {
            "text/plain": [
              "7.569999999999993"
            ]
          },
          "metadata": {},
          "execution_count": 100
        }
      ]
    },
    {
      "cell_type": "code",
      "source": [
        "mad= MAD(threshold = 3.5)\n",
        "lcpeak_paarkstraat2_reshaped = paarkstraat2['lcpeak'].values.reshape(-1,1)\n",
        "labels_lcpeak_paarkstraat2 = mad.fit_predict(lcpeak_paarkstraat2_reshaped)\n",
        "print(labels_lcpeak_paarkstraat2.sum())"
      ],
      "metadata": {
        "colab": {
          "base_uri": "https://localhost:8080/"
        },
        "outputId": "3ec0cf74-0c24-488e-af7f-48da3f8703a9",
        "id": "muiUOsOlcGQi"
      },
      "execution_count": null,
      "outputs": [
        {
          "output_type": "stream",
          "name": "stderr",
          "text": [
            "/usr/local/lib/python3.10/dist-packages/sklearn/utils/deprecation.py:86: FutureWarning: Function fit_predict is deprecated\n",
            "  warnings.warn(msg, category=FutureWarning)\n"
          ]
        },
        {
          "output_type": "stream",
          "name": "stdout",
          "text": [
            "43\n"
          ]
        }
      ]
    },
    {
      "cell_type": "code",
      "source": [
        "outliers_mad_lcpeak_paarkstraat2 = paarkstraat2[labels_lcpeak_paarkstraat2 == 1]\n",
        "outliers_mad_lcpeak_paarkstraat2['lcpeak'].describe()"
      ],
      "metadata": {
        "colab": {
          "base_uri": "https://localhost:8080/"
        },
        "id": "xAG6YjtitBso",
        "outputId": "aa668765-c11d-48ee-fa20-bb2edfe9ef21"
      },
      "execution_count": null,
      "outputs": [
        {
          "output_type": "execute_result",
          "data": {
            "text/plain": [
              "count     43.000000\n",
              "mean     111.616744\n",
              "std        3.016839\n",
              "min      108.610000\n",
              "25%      109.635000\n",
              "50%      110.660000\n",
              "75%      112.815000\n",
              "max      121.010000\n",
              "Name: lcpeak, dtype: float64"
            ]
          },
          "metadata": {},
          "execution_count": 141
        }
      ]
    },
    {
      "cell_type": "markdown",
      "source": [
        "#Outlier Detection - MAD Criteria - Naamsestraat81"
      ],
      "metadata": {
        "id": "DYsndjMgbbSi"
      }
    },
    {
      "cell_type": "markdown",
      "source": [
        "lamax"
      ],
      "metadata": {
        "id": "vjiyRvTxcGvj"
      }
    },
    {
      "cell_type": "code",
      "source": [
        "mad_score_lamax_naamsestraat81 = median_abs_deviation(naamsestraat81['lamax'])\n",
        "mad_score_lamax_naamsestraat81"
      ],
      "metadata": {
        "colab": {
          "base_uri": "https://localhost:8080/"
        },
        "id": "55eRkPg0i0t0",
        "outputId": "3c706a60-4da6-40fe-d9b8-be9abf31240a"
      },
      "execution_count": null,
      "outputs": [
        {
          "output_type": "execute_result",
          "data": {
            "text/plain": [
              "9.0"
            ]
          },
          "metadata": {},
          "execution_count": 101
        }
      ]
    },
    {
      "cell_type": "code",
      "source": [
        "mad= MAD(threshold = 3.5)\n",
        "lamax_naamsestraat81_reshaped = naamsestraat81['lamax'].values.reshape(-1,1)\n",
        "labels_lamax_naamsestraat81 = mad.fit_predict(lamax_naamsestraat81_reshaped)\n",
        "print(labels_lamax_naamsestraat81.sum())"
      ],
      "metadata": {
        "colab": {
          "base_uri": "https://localhost:8080/"
        },
        "outputId": "f6cfa2b0-0780-4954-be4c-81567b6d0b8b",
        "id": "f3ywvZxHcGvj"
      },
      "execution_count": null,
      "outputs": [
        {
          "output_type": "stream",
          "name": "stderr",
          "text": [
            "/usr/local/lib/python3.10/dist-packages/sklearn/utils/deprecation.py:86: FutureWarning: Function fit_predict is deprecated\n",
            "  warnings.warn(msg, category=FutureWarning)\n"
          ]
        },
        {
          "output_type": "stream",
          "name": "stdout",
          "text": [
            "59\n"
          ]
        }
      ]
    },
    {
      "cell_type": "code",
      "source": [
        "outliers_mad_lamax_naamsestraat81 = naamsestraat81[labels_lamax_naamsestraat81 == 1]\n",
        "outliers_mad_lamax_naamsestraat81['lamax'].describe()"
      ],
      "metadata": {
        "colab": {
          "base_uri": "https://localhost:8080/"
        },
        "id": "e2bPIZHOuTNq",
        "outputId": "42d9ba90-f252-41d2-cdb3-bc1a715be184"
      },
      "execution_count": null,
      "outputs": [
        {
          "output_type": "execute_result",
          "data": {
            "text/plain": [
              "count     59.000000\n",
              "mean     100.503390\n",
              "std        3.594247\n",
              "min       95.100000\n",
              "25%       97.600000\n",
              "50%       99.800000\n",
              "75%      103.150000\n",
              "max      107.800000\n",
              "Name: lamax, dtype: float64"
            ]
          },
          "metadata": {},
          "execution_count": 142
        }
      ]
    },
    {
      "cell_type": "markdown",
      "source": [
        "laeq"
      ],
      "metadata": {
        "id": "Ch7kTp3acGvk"
      }
    },
    {
      "cell_type": "code",
      "source": [
        "mad_score_laeq_naamsestraat81 = median_abs_deviation(naamsestraat81['laeq'])\n",
        "mad_score_laeq_naamsestraat81"
      ],
      "metadata": {
        "colab": {
          "base_uri": "https://localhost:8080/"
        },
        "id": "WybtsaRWi8LR",
        "outputId": "c22b8a01-0b73-45c0-b2af-93bcd571c78a"
      },
      "execution_count": null,
      "outputs": [
        {
          "output_type": "execute_result",
          "data": {
            "text/plain": [
              "8.799999999999997"
            ]
          },
          "metadata": {},
          "execution_count": 102
        }
      ]
    },
    {
      "cell_type": "code",
      "source": [
        "mad= MAD(threshold = 3.5)\n",
        "laeq_naamsestraat81_reshaped = naamsestraat81['laeq'].values.reshape(-1,1)\n",
        "labels_laeq_naamsestraat81 = mad.fit_predict(laeq_naamsestraat81_reshaped)\n",
        "print(labels_laeq_naamsestraat81.sum())"
      ],
      "metadata": {
        "colab": {
          "base_uri": "https://localhost:8080/"
        },
        "outputId": "8cb57bac-b022-411d-9980-8ea108ff58af",
        "id": "hoR-M23mcGvk"
      },
      "execution_count": null,
      "outputs": [
        {
          "output_type": "stream",
          "name": "stdout",
          "text": [
            "50\n"
          ]
        },
        {
          "output_type": "stream",
          "name": "stderr",
          "text": [
            "/usr/local/lib/python3.10/dist-packages/sklearn/utils/deprecation.py:86: FutureWarning: Function fit_predict is deprecated\n",
            "  warnings.warn(msg, category=FutureWarning)\n"
          ]
        }
      ]
    },
    {
      "cell_type": "code",
      "source": [
        "outliers_mad_laeq_naamsestraat81 = naamsestraat81[labels_laeq_naamsestraat81 == 1]\n",
        "outliers_mad_laeq_naamsestraat81['laeq'].describe()"
      ],
      "metadata": {
        "colab": {
          "base_uri": "https://localhost:8080/"
        },
        "id": "BWEytcAXugs6",
        "outputId": "d1f96d12-f133-4164-cba8-5a0546c61ab7"
      },
      "execution_count": null,
      "outputs": [
        {
          "output_type": "execute_result",
          "data": {
            "text/plain": [
              "count     50.000000\n",
              "mean      97.252000\n",
              "std        3.060695\n",
              "min       92.500000\n",
              "25%       95.025000\n",
              "50%       97.000000\n",
              "75%       99.550000\n",
              "max      103.800000\n",
              "Name: laeq, dtype: float64"
            ]
          },
          "metadata": {},
          "execution_count": 143
        }
      ]
    },
    {
      "cell_type": "markdown",
      "source": [
        "lceq"
      ],
      "metadata": {
        "id": "kHD10_AbcGvk"
      }
    },
    {
      "cell_type": "code",
      "source": [
        "mad_score_lceq_naamsestraat81 = median_abs_deviation(naamsestraat81['lceq'])\n",
        "mad_score_lceq_naamsestraat81"
      ],
      "metadata": {
        "colab": {
          "base_uri": "https://localhost:8080/"
        },
        "id": "339WR3uVjBhc",
        "outputId": "d1958252-704d-4d17-9c24-134341a0b083"
      },
      "execution_count": null,
      "outputs": [
        {
          "output_type": "execute_result",
          "data": {
            "text/plain": [
              "6.670000000000002"
            ]
          },
          "metadata": {},
          "execution_count": 103
        }
      ]
    },
    {
      "cell_type": "code",
      "source": [
        "mad= MAD(threshold = 3.5)\n",
        "lceq_naamsestraat81_reshaped = naamsestraat81['lceq'].values.reshape(-1,1)\n",
        "labels_lceq_naamsestraat81 = mad.fit_predict(lceq_naamsestraat81_reshaped)\n",
        "print(labels_lceq_naamsestraat81.sum())"
      ],
      "metadata": {
        "colab": {
          "base_uri": "https://localhost:8080/"
        },
        "outputId": "dd8aa98a-be42-4aef-c34c-8eec555aea35",
        "id": "DOEeqLZxcGvk"
      },
      "execution_count": null,
      "outputs": [
        {
          "output_type": "stream",
          "name": "stderr",
          "text": [
            "/usr/local/lib/python3.10/dist-packages/sklearn/utils/deprecation.py:86: FutureWarning: Function fit_predict is deprecated\n",
            "  warnings.warn(msg, category=FutureWarning)\n"
          ]
        },
        {
          "output_type": "stream",
          "name": "stdout",
          "text": [
            "371\n"
          ]
        }
      ]
    },
    {
      "cell_type": "code",
      "source": [
        "outliers_mad_lceq_naamsestraat81 = naamsestraat81[labels_lceq_naamsestraat81 == 1]\n",
        "outliers_mad_lceq_naamsestraat81['lceq'].describe()"
      ],
      "metadata": {
        "colab": {
          "base_uri": "https://localhost:8080/"
        },
        "id": "n3VqIywyulTq",
        "outputId": "b3a66af9-9153-47da-eb55-ea580162917f"
      },
      "execution_count": null,
      "outputs": [
        {
          "output_type": "execute_result",
          "data": {
            "text/plain": [
              "count    371.000000\n",
              "mean      93.753935\n",
              "std        2.181946\n",
              "min       91.910000\n",
              "25%       92.340000\n",
              "50%       92.970000\n",
              "75%       94.220000\n",
              "max      103.880000\n",
              "Name: lceq, dtype: float64"
            ]
          },
          "metadata": {},
          "execution_count": 144
        }
      ]
    },
    {
      "cell_type": "markdown",
      "source": [
        "lcpeak"
      ],
      "metadata": {
        "id": "7meGVM4McGvk"
      }
    },
    {
      "cell_type": "code",
      "source": [
        "mad_score_lcpeak_naamsestraat81 = median_abs_deviation(naamsestraat81['lcpeak'])\n",
        "mad_score_lcpeak_naamsestraat81"
      ],
      "metadata": {
        "colab": {
          "base_uri": "https://localhost:8080/"
        },
        "id": "cpU9quqtjEup",
        "outputId": "ebe443d2-7bf3-4eb0-a252-81cc04533c31"
      },
      "execution_count": null,
      "outputs": [
        {
          "output_type": "execute_result",
          "data": {
            "text/plain": [
              "6.840000000000003"
            ]
          },
          "metadata": {},
          "execution_count": 104
        }
      ]
    },
    {
      "cell_type": "code",
      "source": [
        "mad= MAD(threshold = 3.5)\n",
        "lcpeak_naamsestraat81_reshaped = naamsestraat81['lcpeak'].values.reshape(-1,1)\n",
        "labels_lcpeak_naamsestraat81 = mad.fit_predict(lcpeak_naamsestraat81_reshaped)\n",
        "print(labels_lcpeak_naamsestraat81.sum())"
      ],
      "metadata": {
        "colab": {
          "base_uri": "https://localhost:8080/"
        },
        "outputId": "3612fce0-1854-4595-ce5c-f8bd8bd70be1",
        "id": "SnZvarAdcGvk"
      },
      "execution_count": null,
      "outputs": [
        {
          "output_type": "stream",
          "name": "stderr",
          "text": [
            "/usr/local/lib/python3.10/dist-packages/sklearn/utils/deprecation.py:86: FutureWarning: Function fit_predict is deprecated\n",
            "  warnings.warn(msg, category=FutureWarning)\n"
          ]
        },
        {
          "output_type": "stream",
          "name": "stdout",
          "text": [
            "141\n"
          ]
        }
      ]
    },
    {
      "cell_type": "code",
      "source": [
        "outliers_mad_lcpeak_naamsestraat81 = naamsestraat81[labels_lcpeak_naamsestraat81 == 1]\n",
        "outliers_mad_lcpeak_naamsestraat81['lcpeak'].describe()"
      ],
      "metadata": {
        "colab": {
          "base_uri": "https://localhost:8080/"
        },
        "id": "WtVKSYoiusht",
        "outputId": "0ef36d3c-40cb-4754-f8e9-c04f1e8731c6"
      },
      "execution_count": null,
      "outputs": [
        {
          "output_type": "execute_result",
          "data": {
            "text/plain": [
              "count    141.000000\n",
              "mean     107.713617\n",
              "std        3.118086\n",
              "min      104.530000\n",
              "25%      105.420000\n",
              "50%      106.730000\n",
              "75%      108.900000\n",
              "max      120.750000\n",
              "Name: lcpeak, dtype: float64"
            ]
          },
          "metadata": {},
          "execution_count": 145
        }
      ]
    },
    {
      "cell_type": "markdown",
      "source": [
        "#Histogram - Naamsestraat62"
      ],
      "metadata": {
        "id": "CGBrq2k0jKUL"
      }
    },
    {
      "cell_type": "code",
      "source": [
        "plt.hist(naamsestraat62_clean['lamax'], bins = 200)\n",
        "plt.show()"
      ],
      "metadata": {
        "colab": {
          "base_uri": "https://localhost:8080/",
          "height": 430
        },
        "id": "KYUmfoLvjPDj",
        "outputId": "bd312b68-7042-4a5e-8e94-4c4518b88889"
      },
      "execution_count": null,
      "outputs": [
        {
          "output_type": "display_data",
          "data": {
            "text/plain": [
              "<Figure size 640x480 with 1 Axes>"
            ],
            "image/png": "[encoded data removed]"
          },
          "metadata": {}
        }
      ]
    },
    {
      "cell_type": "code",
      "source": [
        "plt.hist(naamsestraat62_clean['laeq'], bins = 200)\n",
        "plt.show()"
      ],
      "metadata": {
        "colab": {
          "base_uri": "https://localhost:8080/",
          "height": 430
        },
        "id": "Tvzgt975j20Q",
        "outputId": "099c2d88-b094-4762-97be-ffc232f0827f"
      },
      "execution_count": null,
      "outputs": [
        {
          "output_type": "display_data",
          "data": {
            "text/plain": [
              "<Figure size 640x480 with 1 Axes>"
            ],
            "image/png": "[encoded data removed]"
          },
          "metadata": {}
        }
      ]
    },
    {
      "cell_type": "code",
      "source": [
        "plt.hist(naamsestraat62_clean['lceq'], bins = 200)\n",
        "plt.show()"
      ],
      "metadata": {
        "colab": {
          "base_uri": "https://localhost:8080/",
          "height": 430
        },
        "id": "cnFk40LOj8tB",
        "outputId": "ab454085-4e90-4b66-aad7-ff9434830856"
      },
      "execution_count": null,
      "outputs": [
        {
          "output_type": "display_data",
          "data": {
            "text/plain": [
              "<Figure size 640x480 with 1 Axes>"
            ],
            "image/png": "[encoded data removed]"
          },
          "metadata": {}
        }
      ]
    },
    {
      "cell_type": "code",
      "source": [
        "plt.hist(naamsestraat62_clean['lcpeak'], bins = 200)\n",
        "plt.show()"
      ],
      "metadata": {
        "colab": {
          "base_uri": "https://localhost:8080/",
          "height": 430
        },
        "id": "rau7SYjCkAtZ",
        "outputId": "967c3676-a8a7-46de-b692-2e24f215af49"
      },
      "execution_count": null,
      "outputs": [
        {
          "output_type": "display_data",
          "data": {
            "text/plain": [
              "<Figure size 640x480 with 1 Axes>"
            ],
            "image/png": "[encoded data removed]"
          },
          "metadata": {}
        }
      ]
    },
    {
      "cell_type": "markdown",
      "source": [
        "#Histogram - Calvariekapel"
      ],
      "metadata": {
        "id": "LA--iwfGkMus"
      }
    },
    {
      "cell_type": "code",
      "source": [
        "plt.hist(calvariekapel['lamax'], bins = 200)\n",
        "plt.show()"
      ],
      "metadata": {
        "colab": {
          "base_uri": "https://localhost:8080/",
          "height": 430
        },
        "outputId": "a645efb1-a113-40fb-a530-bdd7a87dfc21",
        "id": "BYOsAk08kTFQ"
      },
      "execution_count": null,
      "outputs": [
        {
          "output_type": "display_data",
          "data": {
            "text/plain": [
              "<Figure size 640x480 with 1 Axes>"
            ],
            "image/png": "[encoded data removed]"
          },
          "metadata": {}
        }
      ]
    },
    {
      "cell_type": "code",
      "source": [
        "plt.hist(calvariekapel['laeq'], bins = 200)\n",
        "plt.show()"
      ],
      "metadata": {
        "colab": {
          "base_uri": "https://localhost:8080/",
          "height": 430
        },
        "outputId": "2375c5cd-cf72-477f-fdb6-9a48a7606292",
        "id": "iMZdYzh1kTFQ"
      },
      "execution_count": null,
      "outputs": [
        {
          "output_type": "display_data",
          "data": {
            "text/plain": [
              "<Figure size 640x480 with 1 Axes>"
            ],
            "image/png": "[encoded data removed]"
          },
          "metadata": {}
        }
      ]
    },
    {
      "cell_type": "code",
      "source": [
        "plt.hist(calvariekapel['lceq'], bins = 200)\n",
        "plt.show()"
      ],
      "metadata": {
        "colab": {
          "base_uri": "https://localhost:8080/",
          "height": 430
        },
        "outputId": "a333787b-f408-4bef-dff5-92011181d57c",
        "id": "oI-tSbAUkTFQ"
      },
      "execution_count": null,
      "outputs": [
        {
          "output_type": "display_data",
          "data": {
            "text/plain": [
              "<Figure size 640x480 with 1 Axes>"
            ],
            "image/png": "[encoded data removed]"
          },
          "metadata": {}
        }
      ]
    },
    {
      "cell_type": "code",
      "source": [
        "plt.hist(calvariekapel['lcpeak'], bins = 200)\n",
        "plt.show()"
      ],
      "metadata": {
        "colab": {
          "base_uri": "https://localhost:8080/",
          "height": 430
        },
        "outputId": "dc4e26d3-4a0a-42a9-e503-f714bfe6fff8",
        "id": "mN9Fhz2GkTFQ"
      },
      "execution_count": null,
      "outputs": [
        {
          "output_type": "display_data",
          "data": {
            "text/plain": [
              "<Figure size 640x480 with 1 Axes>"
            ],
            "image/png": "[encoded data removed]"
          },
          "metadata": {}
        }
      ]
    },
    {
      "cell_type": "markdown",
      "source": [
        "#Histogram - Paarkstraat2"
      ],
      "metadata": {
        "id": "A0kUHnkUk8n4"
      }
    },
    {
      "cell_type": "code",
      "source": [
        "plt.hist(paarkstraat2['lamax'], bins = 200)\n",
        "plt.show()"
      ],
      "metadata": {
        "colab": {
          "base_uri": "https://localhost:8080/",
          "height": 430
        },
        "outputId": "a4ec4dff-b8ce-4c5b-8b0a-23f0a47b48ec",
        "id": "tkSH3yd4k8n5"
      },
      "execution_count": null,
      "outputs": [
        {
          "output_type": "display_data",
          "data": {
            "text/plain": [
              "<Figure size 640x480 with 1 Axes>"
            ],
            "image/png": "[encoded data removed]"
          },
          "metadata": {}
        }
      ]
    },
    {
      "cell_type": "code",
      "source": [
        "plt.hist(paarkstraat2['laeq'], bins = 200)\n",
        "plt.show()"
      ],
      "metadata": {
        "colab": {
          "base_uri": "https://localhost:8080/",
          "height": 430
        },
        "outputId": "b922054b-6370-49a7-f4a3-7bffadfc358d",
        "id": "Xz1-0CYbk8n5"
      },
      "execution_count": null,
      "outputs": [
        {
          "output_type": "display_data",
          "data": {
            "text/plain": [
              "<Figure size 640x480 with 1 Axes>"
            ],
            "image/png": "[encoded data removed]"
          },
          "metadata": {}
        }
      ]
    },
    {
      "cell_type": "code",
      "source": [
        "plt.hist(paarkstraat2['lceq'], bins = 200)\n",
        "plt.show()"
      ],
      "metadata": {
        "colab": {
          "base_uri": "https://localhost:8080/",
          "height": 430
        },
        "outputId": "68267704-981a-4e75-ac98-d94b472cf46e",
        "id": "Z9BCjbuhk8n5"
      },
      "execution_count": null,
      "outputs": [
        {
          "output_type": "display_data",
          "data": {
            "text/plain": [
              "<Figure size 640x480 with 1 Axes>"
            ],
            "image/png": "[encoded data removed]"
          },
          "metadata": {}
        }
      ]
    },
    {
      "cell_type": "code",
      "source": [
        "plt.hist(paarkstraat2['lcpeak'], bins = 200)\n",
        "plt.show()"
      ],
      "metadata": {
        "colab": {
          "base_uri": "https://localhost:8080/",
          "height": 430
        },
        "outputId": "4e695d3c-06df-488f-a057-7846492f1d4c",
        "id": "mRWHBtxYk8n5"
      },
      "execution_count": null,
      "outputs": [
        {
          "output_type": "display_data",
          "data": {
            "text/plain": [
              "<Figure size 640x480 with 1 Axes>"
            ],
            "image/png": "[encoded data removed]"
          },
          "metadata": {}
        }
      ]
    },
    {
      "cell_type": "markdown",
      "source": [
        "#Histogram - Naamsestraat81"
      ],
      "metadata": {
        "id": "ZP4AC8XJlEud"
      }
    },
    {
      "cell_type": "code",
      "source": [
        "plt.hist(naamsestraat81['lamax'], bins = 200)\n",
        "plt.show()"
      ],
      "metadata": {
        "colab": {
          "base_uri": "https://localhost:8080/",
          "height": 430
        },
        "outputId": "270869a7-2416-4148-914e-20b84e55de67",
        "id": "CtdiBpldlEud"
      },
      "execution_count": null,
      "outputs": [
        {
          "output_type": "display_data",
          "data": {
            "text/plain": [
              "<Figure size 640x480 with 1 Axes>"
            ],
            "image/png": "[encoded data removed]"
          },
          "metadata": {}
        }
      ]
    },
    {
      "cell_type": "code",
      "source": [
        "plt.hist(naamsestraat81['laeq'], bins = 200)\n",
        "plt.show()"
      ],
      "metadata": {
        "colab": {
          "base_uri": "https://localhost:8080/",
          "height": 430
        },
        "outputId": "fddd6268-e673-4f27-abdf-2c1fde0497b9",
        "id": "qFdQjBKNlEud"
      },
      "execution_count": null,
      "outputs": [
        {
          "output_type": "display_data",
          "data": {
            "text/plain": [
              "<Figure size 640x480 with 1 Axes>"
            ],
            "image/png": "[encoded data removed]"
          },
          "metadata": {}
        }
      ]
    },
    {
      "cell_type": "code",
      "source": [
        "plt.hist(naamsestraat81['lceq'], bins = 200)\n",
        "plt.show()"
      ],
      "metadata": {
        "colab": {
          "base_uri": "https://localhost:8080/",
          "height": 430
        },
        "outputId": "2dd738ff-d127-41d9-96dd-09fdff345f68",
        "id": "SZ4PbAiTlEud"
      },
      "execution_count": null,
      "outputs": [
        {
          "output_type": "display_data",
          "data": {
            "text/plain": [
              "<Figure size 640x480 with 1 Axes>"
            ],
            "image/png": "[encoded data removed]"
          },
          "metadata": {}
        }
      ]
    },
    {
      "cell_type": "code",
      "source": [
        "plt.hist(naamsestraat81['lcpeak'], bins = 200)\n",
        "plt.show()"
      ],
      "metadata": {
        "colab": {
          "base_uri": "https://localhost:8080/",
          "height": 430
        },
        "outputId": "7b905527-e60f-4b18-b8d0-c394d1f864f6",
        "id": "cGkVMnITlEud"
      },
      "execution_count": null,
      "outputs": [
        {
          "output_type": "display_data",
          "data": {
            "text/plain": [
              "<Figure size 640x480 with 1 Axes>"
            ],
            "image/png": "[encoded data removed]"
          },
          "metadata": {}
        }
      ]
    }
  ]
}